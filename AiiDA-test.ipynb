{
 "cells": [
  {
   "cell_type": "code",
   "execution_count": 1,
   "id": "1fc9f39b-d582-44c3-aa18-7c08d8209c3e",
   "metadata": {},
   "outputs": [],
   "source": [
    "import aiida\n",
    "from ase.build import bulk\n",
    "from aiida.orm import StructureData, Str, load_code, load_group\n",
    "from aiida.plugins import CalculationFactory, DataFactory"
   ]
  },
  {
   "cell_type": "markdown",
   "id": "91c6dfce-ef29-484e-b40f-3a5117cb3c7c",
   "metadata": {},
   "source": [
    "## Using AiiDA to generate input file"
   ]
  },
  {
   "cell_type": "code",
   "execution_count": 2,
   "id": "c8975733-02e9-44e4-a0aa-fdf208f99570",
   "metadata": {},
   "outputs": [],
   "source": [
    "PwCalculation = CalculationFactory(\"quantumespresso.pw\")\n",
    "Dict = DataFactory(\"core.dict\")\n",
    "KpointsData = DataFactory(\"core.array.kpoints\")"
   ]
  },
  {
   "cell_type": "code",
   "execution_count": 3,
   "id": "6dbefd4b-d589-4b24-a517-3c542dc70456",
   "metadata": {},
   "outputs": [
    {
     "data": {
      "text/plain": [
       "Profile<uuid='d2d76748653d48f58fc3c3b14174d426' name='aiida_default'>"
      ]
     },
     "execution_count": 3,
     "metadata": {},
     "output_type": "execute_result"
    }
   ],
   "source": [
    "aiida.load_profile()"
   ]
  },
  {
   "cell_type": "code",
   "execution_count": 4,
   "id": "1d11f405-69b5-4ad1-8eb6-5e24332c4c33",
   "metadata": {},
   "outputs": [],
   "source": [
    "pseudo_family = load_group('SSSP/1.3/PBEsol/efficiency')"
   ]
  },
  {
   "cell_type": "code",
   "execution_count": 5,
   "id": "1d58d3c4-1056-451f-a2cf-c4b6b0ce3f54",
   "metadata": {},
   "outputs": [],
   "source": [
    "code = load_code('pw@qe-computer')"
   ]
  },
  {
   "cell_type": "code",
   "execution_count": 6,
   "id": "65efa3d4-4817-4844-82b4-5ffbc9aa672d",
   "metadata": {},
   "outputs": [],
   "source": [
    "structure = StructureData(ase=bulk('C', 'diamond', 2.0))"
   ]
  },
  {
   "cell_type": "code",
   "execution_count": 7,
   "id": "98f569f4-8bd4-45c9-a291-732094418b67",
   "metadata": {},
   "outputs": [],
   "source": [
    "parameters = Dict({\n",
    "        'CONTROL': {\n",
    "            'calculation': 'scf',\n",
    "            'verbosity': 'high',\n",
    "            'tstress': True,\n",
    "            'tprnfor': True,\n",
    "        },\n",
    "        'SYSTEM': {\n",
    "            'ecutwfc': 30,\n",
    "            'ecutrho': 8*30,\n",
    "            'occupations': 'smearing', # options are 'smearing', 'tetrahedra', 'tetrahedra_opt', 'fixed', 'from_input'\n",
    "            'degauss': 0.0045, # in Ry, 1 Ry = 13.6056981 eV\n",
    "            'smearing': 'fermi-dirac', # options are 'gaussian', 'methfessel-paxton', 'marzari-vanderbilt', 'fermi-dirac'\n",
    "        },\n",
    "        'ELECTRONS':{\n",
    "            'conv_thr': 1e-8,\n",
    "            'diagonalization': 'ppcg', # options are 'david', 'cg', 'ppcg', 'paro', 'rmm-davidson'\n",
    "            'mixing_mode': 'plain', # options are 'plain', 'TF', 'local-TF'\n",
    "            'mixing_beta': 0.6, \n",
    "            'startingwfc':'atomic+random' # options are 'atomic','atomic+random', 'random','file'\n",
    "        }\n",
    "})\n",
    "\n",
    "kpoints = KpointsData()\n",
    "klist=[4,4,4]\n",
    "kpoints.set_kpoints_mesh(klist)\n",
    "builder = PwCalculation.get_builder()\n",
    "builder.code = code\n",
    "builder.structure = structure\n",
    "builder.kpoints = kpoints\n",
    "builder.parameters = Dict(dict=parameters)\n",
    "builder.pseudos = pseudo_family.get_pseudos(structure=structure)\n",
    "builder.metadata.options.resources = {\"num_machines\": 1, \"num_mpiprocs_per_machine\": 8}\n",
    "builder.metadata.options.withmpi = True\n",
    "builder.metadata.options.max_wallclock_seconds = 30 * 60"
   ]
  },
  {
   "cell_type": "code",
   "execution_count": 12,
   "id": "95f1ac2c-1905-47cb-b45d-005c61914371",
   "metadata": {},
   "outputs": [
    {
     "name": "stderr",
     "output_type": "stream",
     "text": [
      "11/07/2024 04:06:10 PM <7446> aiida.broker.rabbitmq: [WARNING] RabbitMQ v4.0.2 is not supported and will cause unexpected problems!\n",
      "11/07/2024 04:06:10 PM <7446> aiida.broker.rabbitmq: [WARNING] It can cause long-running workflows to crash and jobs to be submitted multiple times.\n",
      "11/07/2024 04:06:10 PM <7446> aiida.broker.rabbitmq: [WARNING] See https://github.com/aiidateam/aiida-core/wiki/RabbitMQ-version-to-use for details.\n"
     ]
    },
    {
     "name": "stdout",
     "output_type": "stream",
     "text": [
      "&CONTROL\n",
      "  calculation = 'scf'\n",
      "  outdir = './out/'\n",
      "  prefix = 'aiida'\n",
      "  pseudo_dir = './pseudo/'\n",
      "  tprnfor = .true.\n",
      "  tstress = .true.\n",
      "  verbosity = 'high'\n",
      "/\n",
      "&SYSTEM\n",
      "  degauss =   4.5000000000d-03\n",
      "  ecutrho = 240\n",
      "  ecutwfc = 30\n",
      "  ibrav = 0\n",
      "  nat = 2\n",
      "  ntyp = 1\n",
      "  occupations = 'smearing'\n",
      "  smearing = 'fermi-dirac'\n",
      "/\n",
      "&ELECTRONS\n",
      "  conv_thr =   1.0000000000d-08\n",
      "  diagonalization = 'ppcg'\n",
      "  mixing_beta =   6.0000000000d-01\n",
      "  mixing_mode = 'plain'\n",
      "  startingwfc = 'atomic+random'\n",
      "/\n",
      "ATOMIC_SPECIES\n",
      "C      12.011 C.pbesol-n-kjpaw_psl.1.0.0.UPF\n",
      "ATOMIC_POSITIONS angstrom\n",
      "C            0.0000000000       0.0000000000       0.0000000000\n",
      "C            0.5000000000       0.5000000000       0.5000000000\n",
      "K_POINTS automatic\n",
      "4 4 4 0 0 0\n",
      "CELL_PARAMETERS angstrom\n",
      "      0.0000000000       1.0000000000       1.0000000000\n",
      "      1.0000000000       0.0000000000       1.0000000000\n",
      "      1.0000000000       1.0000000000       0.0000000000\n",
      "\n"
     ]
    }
   ],
   "source": [
    "from aiida.plugins import CalculationFactory\n",
    "from aiida.engine import Process\n",
    "from aiida.common.folders import SandboxFolder\n",
    "\n",
    "# Use the PwCalculation from the Quantum ESPRESSO plugin\n",
    "# PwCalculation = CalculationFactory('quantumespresso.pw')\n",
    "\n",
    "# Create a PwCalculation instance with the builder's inputs\n",
    "process = PwCalculation(inputs=builder._inputs(prune=True))\n",
    "\n",
    "# Use a sandbox folder to hold the temporary input files\n",
    "with SandboxFolder() as folder:\n",
    "    # Call prepare_for_submission on the process instance\n",
    "    calc_info = process.prepare_for_submission(folder)\n",
    "\n",
    "    # The main input file is typically named 'aiida.in'\n",
    "    input_file_path = folder.get_abs_path('aiida.in')\n",
    "\n",
    "    # Read and print the content of the input file\n",
    "    with open(input_file_path, 'r') as f:\n",
    "        input_file_content = f.read()\n",
    "\n",
    "    print(input_file_content)\n"
   ]
  },
  {
   "cell_type": "code",
   "execution_count": 13,
   "id": "cd9a6190-6e37-44e3-9751-c807da906b21",
   "metadata": {},
   "outputs": [
    {
     "name": "stdout",
     "output_type": "stream",
     "text": [
      "&CONTROL\n",
      "  calculation = 'scf'\n",
      "  outdir = './out/'\n",
      "  prefix = 'aiida'\n",
      "  pseudo_dir = './pseudo/'\n",
      "  tprnfor = .true.\n",
      "  tstress = .true.\n",
      "  verbosity = 'high'\n",
      "/\n",
      "&SYSTEM\n",
      "  degauss =   4.5000000000d-03\n",
      "  ecutrho = 240\n",
      "  ecutwfc = 30\n",
      "  ibrav = 0\n",
      "  nat = 2\n",
      "  ntyp = 1\n",
      "  occupations = 'smearing'\n",
      "  smearing = 'fermi-dirac'\n",
      "/\n",
      "&ELECTRONS\n",
      "  conv_thr =   1.0000000000d-08\n",
      "  diagonalization = 'ppcg'\n",
      "  mixing_beta =   6.0000000000d-01\n",
      "  mixing_mode = 'plain'\n",
      "  startingwfc = 'atomic+random'\n",
      "/\n",
      "ATOMIC_SPECIES\n",
      "C      12.011 C.pbesol-n-kjpaw_psl.1.0.0.UPF\n",
      "ATOMIC_POSITIONS angstrom\n",
      "C            0.0000000000       0.0000000000       0.0000000000\n",
      "C            0.5000000000       0.5000000000       0.5000000000\n",
      "K_POINTS automatic\n",
      "4 4 4 0 0 0\n",
      "CELL_PARAMETERS angstrom\n",
      "      0.0000000000       1.0000000000       1.0000000000\n",
      "      1.0000000000       0.0000000000       1.0000000000\n",
      "      1.0000000000       1.0000000000       0.0000000000\n",
      "\n"
     ]
    }
   ],
   "source": [
    "from aiida.orm import load_code\n",
    "from aiida.engine import run_get_node\n",
    "from aiida.plugins import CalculationFactory\n",
    "from aiida_quantumespresso.calculations.pw import PwCalculation\n",
    "\n",
    "# Load code (assuming 'pw@qe-computer' is already set up in your AiiDA environment)\n",
    "code = load_code('pw@qe-computer')\n",
    "builder.code = code\n",
    "\n",
    "# Set dry_run mode so that it prepares inputs without executing\n",
    "builder.metadata.dry_run = True\n",
    "builder.metadata.store_provenance = False  # Skip provenance storage for this test\n",
    "\n",
    "# Run the calculation in dry run mode to get the inputs\n",
    "_, calc_node = run_get_node(builder)\n",
    "\n",
    "# Retrieve the generated input file content from the temporary folder in the repository\n",
    "input_file_path = calc_node.base.repository.get_object_content('aiida.in')\n",
    "print(input_file_path)\n"
   ]
  },
  {
   "cell_type": "markdown",
   "id": "1d65ba5e-13cc-42e8-9511-df9ba4626104",
   "metadata": {},
   "source": [
    "## Using ASE to generate input file"
   ]
  },
  {
   "cell_type": "code",
   "execution_count": 16,
   "id": "564ee253-5962-4a4f-9a68-1a6dfe4631ff",
   "metadata": {},
   "outputs": [],
   "source": [
    "import numpy as np\n",
    "import pandas as pd\n",
    "from ase import Atoms\n",
    "from ase.io import read\n",
    "import ase\n",
    "from ase.calculators.espresso import Espresso, EspressoProfile"
   ]
  },
  {
   "cell_type": "code",
   "execution_count": 17,
   "id": "c1295d95-5fcb-4bf2-89d1-f91bebbf3a0b",
   "metadata": {},
   "outputs": [],
   "source": [
    "v = read('/Users/elena.patyukova/Documents/DFT-data/structures/structures_1/V.cif')"
   ]
  },
  {
   "cell_type": "code",
   "execution_count": 18,
   "id": "2aa8a802-c9a7-4f48-b3d5-7fc96e2a12a0",
   "metadata": {},
   "outputs": [],
   "source": [
    "profile = EspressoProfile(\n",
    "    command='mpirun -n 8 /Users/elena.patyukova/Documents/github/q-e/bin/pw.x',\n",
    "    pseudo_dir='/Users/elena.patyukova/Documents/github/LLM-DFT-input-generation/pseudos/SSSP_1.3.0_PBEsol_precision/',\n",
    ")"
   ]
  },
  {
   "cell_type": "code",
   "execution_count": 19,
   "id": "0fc42806-131c-45aa-8f13-f467871250da",
   "metadata": {},
   "outputs": [],
   "source": [
    "pseudopotentials = {'V': 'v_pbesol_v1.4.uspp.F.UPF'}"
   ]
  },
  {
   "cell_type": "code",
   "execution_count": 20,
   "id": "d54b1190-d9bc-4c74-a91b-1b83deeead96",
   "metadata": {},
   "outputs": [],
   "source": [
    "input_data= {\n",
    "    'system': {'ecutwfc': 40, 'ecutrho': 320, 'smearing': 'fermi-dirac', 'degauss': 0.005, 'occupations': 'smearing'}\n",
    "}"
   ]
  },
  {
   "cell_type": "code",
   "execution_count": 21,
   "id": "e1ed3b5c-7be9-4f30-9b27-06354102952d",
   "metadata": {},
   "outputs": [],
   "source": [
    "ase.io.espresso.write_espresso_in('qe.in', v, input_data=input_data, \\\n",
    "                                  pseudopotentials=pseudopotentials, kspacing=0.1, \\\n",
    "                                  koffset=(0, 0, 0))"
   ]
  },
  {
   "cell_type": "code",
   "execution_count": 23,
   "id": "083b22fb-0209-4acb-be79-e3aac5492a85",
   "metadata": {},
   "outputs": [],
   "source": [
    "with open('qe.in','r') as f:\n",
    "    data=f.read()"
   ]
  },
  {
   "cell_type": "code",
   "execution_count": 24,
   "id": "918de848-6192-4347-8403-19d8da93402e",
   "metadata": {},
   "outputs": [
    {
     "name": "stdout",
     "output_type": "stream",
     "text": [
      "&CONTROL\n",
      "/\n",
      "&SYSTEM\n",
      "   ecutwfc          = 40\n",
      "   ecutrho          = 320\n",
      "   occupations      = 'smearing'\n",
      "   degauss          = 0.005\n",
      "   smearing         = 'fermi-dirac'\n",
      "   ntyp             = 1\n",
      "   nat              = 1\n",
      "   ibrav            = 0\n",
      "/\n",
      "&ELECTRONS\n",
      "/\n",
      "&IONS\n",
      "/\n",
      "&CELL\n",
      "/\n",
      "&FCP\n",
      "/\n",
      "&RISM\n",
      "/\n",
      "ATOMIC_SPECIES\n",
      "V 50.9415 v_pbesol_v1.4.uspp.F.UPF\n",
      "\n",
      "K_POINTS automatic\n",
      "5 5 5  0 0 0\n",
      "\n",
      "CELL_PARAMETERS angstrom\n",
      "2.58283361000000 0.00000000000000 0.00000000000000\n",
      "-0.86094419413676 2.43511883180700 0.00000000000000\n",
      "-0.86094488321594 -1.21755983372948 2.10887445523797\n",
      "\n",
      "ATOMIC_POSITIONS angstrom\n",
      "V 0.0000000000 0.0000000000 0.0000000000  \n",
      "\n",
      "\n"
     ]
    }
   ],
   "source": [
    "print(data)"
   ]
  },
  {
   "cell_type": "code",
   "execution_count": null,
   "id": "41ab7ed8-52ae-47b8-b9c1-2dbba3e65d0d",
   "metadata": {},
   "outputs": [],
   "source": []
  },
  {
   "cell_type": "code",
   "execution_count": null,
   "id": "7d37a9d8-cc81-44a1-a7f9-b733f363b365",
   "metadata": {},
   "outputs": [],
   "source": []
  },
  {
   "cell_type": "code",
   "execution_count": null,
   "id": "cb9f3106-f371-4bf3-aecb-32dc4fa13a7b",
   "metadata": {},
   "outputs": [],
   "source": []
  }
 ],
 "metadata": {
  "kernelspec": {
   "display_name": "Python 3 (ipykernel)",
   "language": "python",
   "name": "python3"
  },
  "language_info": {
   "codemirror_mode": {
    "name": "ipython",
    "version": 3
   },
   "file_extension": ".py",
   "mimetype": "text/x-python",
   "name": "python",
   "nbconvert_exporter": "python",
   "pygments_lexer": "ipython3",
   "version": "3.12.7"
  }
 },
 "nbformat": 4,
 "nbformat_minor": 5
}
