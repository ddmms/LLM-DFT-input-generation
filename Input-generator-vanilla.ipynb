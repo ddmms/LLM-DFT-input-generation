{
 "cells": [
  {
   "cell_type": "markdown",
   "id": "ecb63002-acd6-46ed-b8b6-bbca0822da98",
   "metadata": {},
   "source": [
    "# PWscf input generation with LLMs"
   ]
  },
  {
   "cell_type": "markdown",
   "id": "97b2a1df-c751-4d5f-af93-999f16e60bee",
   "metadata": {},
   "source": [
    "This is a test input generator to test different models. </br>\n",
    "No tools are used, structure is not provided. Pure internal knoledge of language models"
   ]
  },
  {
   "cell_type": "code",
   "execution_count": 6,
   "id": "bf50ccf6-959e-4853-ad6f-eda81ee9cbfc",
   "metadata": {},
   "outputs": [],
   "source": [
    "import numpy as np\n",
    "import pandas as pd\n",
    "import json\n",
    "import re\n",
    "import os"
   ]
  },
  {
   "cell_type": "markdown",
   "id": "1d4d6693-c18e-4589-9f5c-f588082304a1",
   "metadata": {},
   "source": [
    "Specify the compound and see what different models can produce. </br>\n",
    "Do not forget to save your API keys as environmental variables for each model..."
   ]
  },
  {
   "cell_type": "code",
   "execution_count": 7,
   "id": "8f72cee6-ae14-4e49-962d-e91a25767d54",
   "metadata": {},
   "outputs": [],
   "source": [
    "compound=\"Ca O\""
   ]
  },
  {
   "cell_type": "code",
   "execution_count": 8,
   "id": "1c329940-2f35-4381-bb78-23600a645130",
   "metadata": {},
   "outputs": [],
   "source": [
    "output_dir=\"generated_files/\""
   ]
  },
  {
   "cell_type": "markdown",
   "id": "c9dd762d-f3c5-4da7-a201-f3af238c1ef9",
   "metadata": {},
   "source": [
    "## OpenAI models"
   ]
  },
  {
   "cell_type": "code",
   "execution_count": 9,
   "id": "72d2854f-2166-48d7-9255-a40b4f39a292",
   "metadata": {},
   "outputs": [],
   "source": [
    "from langchain_openai import ChatOpenAI\n",
    "from langchain_core.prompts import ChatPromptTemplate\n",
    "\n",
    "OPENAI_MODEL=\"gpt-4\" # \"gpt-3.5-turbo\", \"gpt-4o-mini\", \"gpt-4o\"\n",
    "# see the list of availible models https://platform.openai.com/docs/models\n",
    "openai_api_key = os.environ.get('OPENAI_API_KEY')"
   ]
  },
  {
   "cell_type": "code",
   "execution_count": 66,
   "id": "96b6c1c9-af58-41bf-9ca1-b75e59ec7a5a",
   "metadata": {},
   "outputs": [
    {
     "name": "stdout",
     "output_type": "stream",
     "text": [
      "Sure, here is a basic Quantum Espresso input file for a single point energy calculation of a CaO molecule:\n",
      "\n",
      "```\n",
      "&CONTROL\n",
      "  calculation = 'scf',\n",
      "  prefix = 'CaO',\n",
      "  pseudo_dir = './',\n",
      "  outdir = './',\n",
      "  verbosity = 'high',\n",
      "/\n",
      "\n",
      "&SYSTEM\n",
      "  ibrav = 1,\n",
      "  celldm(1) = 10.0,\n",
      "  nat = 2,\n",
      "  ntyp = 2,\n",
      "  ecutwfc = 30.0,\n",
      "  ecutrho = 240.0,\n",
      "/\n",
      "\n",
      "&ELECTRONS\n",
      "  conv_thr = 1.0d-8,\n",
      "  mixing_beta = 0.7,\n",
      "/\n",
      "\n",
      "ATOMIC_SPECIES\n",
      "  Ca  40.08  Ca.pbe-n-kjpaw_psl.1.0.0.UPF\n",
      "  O   15.999 O.pbe-n-kjpaw_psl.1.0.0.UPF\n",
      "\n",
      "ATOMIC_POSITIONS (angstrom)\n",
      "  Ca  0.0  0.0  0.0\n",
      "  O   1.5  0.0  0.0\n",
      "\n",
      "K_POINTS (automatic)\n",
      "  1 1 1 0 0 0\n",
      "```\n",
      "\n",
      "Please note that you need to adjust the pseudopotential files (`pseudo_dir` and `ATOMIC_SPECIES` sections) and the atomic positions (`ATOMIC_POSITIONS` section) according to your system. The `celldm(1)` parameter in the `&SYSTEM` section defines the size of the simulation cell, and you may need to adjust it to avoid interactions between periodic images. The `ecutwfc` and `ecutrho` parameters define the kinetic energy cutoffs for wavefunctions and charge density, respectively, and you may need to adjust them for your system to achieve the desired accuracy.\n"
     ]
    }
   ],
   "source": [
    "llm = ChatOpenAI(\n",
    "    model=OPENAI_MODEL,\n",
    "    temperature=0,\n",
    "    max_tokens=None,\n",
    "    timeout=None,\n",
    "    max_retries=2,\n",
    "    api_key=openai_api_key\n",
    ")\n",
    "prompt = ChatPromptTemplate.from_messages(\n",
    "    [\n",
    "        (\n",
    "            \"system\",\n",
    "            \"You are a helpful assistant specialising in generate Quantum Espresso input file for single point energy calculations.\",\n",
    "        ),\n",
    "        (\"human\", \"Please, generate an input file for {compound}\"),\n",
    "    ]\n",
    ")\n",
    "chain = prompt | llm\n",
    "ai_msg = chain.invoke(\n",
    "    {\n",
    "        \"compound\": compound,\n",
    "    }\n",
    ")\n",
    "print(ai_msg.content)"
   ]
  },
  {
   "cell_type": "code",
   "execution_count": 67,
   "id": "1c249738-081f-4909-9f9c-bed03fc2f242",
   "metadata": {},
   "outputs": [],
   "source": [
    "mes=ai_msg.content\n",
    "messages = [\n",
    "    (\"system\", \"You are clever parser now\"),\n",
    "    (\"human\", \"Extract information between ```. Do not output any other messages or ```. The text is:\" + mes)\n",
    "]\n",
    "ai_msg = llm.invoke(messages)\n",
    "mes=ai_msg.content\n",
    "mes=mes.replace(\"```\\n\",\"\")\n",
    "mes=mes.replace(\"```\",\"\")\n",
    "compound_name=compound.replace(\" \",\"\")\n",
    "file_name=compound_name+\"_scf.in\"\n",
    "with open(output_dir+OPENAI_MODEL+\"_\"+file_name, \"w\") as text_file:\n",
    "    text_file.write(mes)"
   ]
  },
  {
   "cell_type": "markdown",
   "id": "819d43e3-e8ad-4535-bb01-f4fd8a257d57",
   "metadata": {},
   "source": [
    "## Llama (Meta) models"
   ]
  },
  {
   "cell_type": "markdown",
   "id": "b22bfa5a-eecc-47ec-9a7b-7764ad02e55d",
   "metadata": {},
   "source": [
    "Here I use free models availible on huggingface.\n",
    "\n",
    "For usage restricted Huggingface models: </br>\n",
    "(1) login on HuggingFace </br>\n",
    "(2) go to the model repo on hugging faceand accept usage conditions </br>\n",
    "(3) generate free huggingface access token in you huggingface profile </br>\n",
    "(4) save it as environmental variable HUGGINGFACE_TOKEN\n",
    "\n",
    "Note also that you can't use huggingface inference API as the size of all models > 10GB\n",
    "If you download them locally keep in mind that you need to have sufficient ammount of memory and GPU to run inference. So, it is recommended to use colab (and I'm affraid you will need to pay for sufficient resources) or kaggle._TOKEN"
   ]
  },
  {
   "cell_type": "code",
   "execution_count": 14,
   "id": "870955c3-acc1-480c-af3c-973d6e8d3ab8",
   "metadata": {},
   "outputs": [
    {
     "ename": "ModuleNotFoundError",
     "evalue": "No module named 'google.colab'",
     "output_type": "error",
     "traceback": [
      "\u001b[1;31m---------------------------------------------------------------------------\u001b[0m",
      "\u001b[1;31mModuleNotFoundError\u001b[0m                       Traceback (most recent call last)",
      "Cell \u001b[1;32mIn[14], line 2\u001b[0m\n\u001b[0;32m      1\u001b[0m \u001b[38;5;28;01mfrom\u001b[39;00m \u001b[38;5;21;01mhuggingface_hub\u001b[39;00m \u001b[38;5;28;01mimport\u001b[39;00m login\n\u001b[1;32m----> 2\u001b[0m \u001b[38;5;28;01mfrom\u001b[39;00m \u001b[38;5;21;01mgoogle\u001b[39;00m\u001b[38;5;21;01m.\u001b[39;00m\u001b[38;5;21;01mcolab\u001b[39;00m \u001b[38;5;28;01mimport\u001b[39;00m userdata\n\u001b[0;32m      3\u001b[0m \u001b[38;5;66;03m#HUGGINGFACE_TOKEN = os.environ.get('HUGGINGFACE_TOKEN')\u001b[39;00m\n\u001b[0;32m      4\u001b[0m HUGGINGFACE_TOKEN \u001b[38;5;241m=\u001b[39m userdata\u001b[38;5;241m.\u001b[39mget(\u001b[38;5;124m'\u001b[39m\u001b[38;5;124mHUGGINGFACE_TOKEN\u001b[39m\u001b[38;5;124m'\u001b[39m)\n",
      "\u001b[1;31mModuleNotFoundError\u001b[0m: No module named 'google.colab'"
     ]
    }
   ],
   "source": [
    "from huggingface_hub import login\n",
    "from google.colab import userdata\n",
    "#HUGGINGFACE_TOKEN = os.environ.get('HUGGINGFACE_TOKEN')\n",
    "HUGGINGFACE_TOKEN = userdata.get('HUGGINGFACE_TOKEN')\n",
    "login(token=HUGGINGFACE_TOKEN)"
   ]
  },
  {
   "cell_type": "code",
   "execution_count": 1,
   "id": "1494c4e8-a794-46a0-99b0-cea715bb6864",
   "metadata": {},
   "outputs": [
    {
     "data": {
      "application/vnd.jupyter.widget-view+json": {
       "model_id": "80da157da70c461792e5517a2ca57ab0",
       "version_major": 2,
       "version_minor": 0
      },
      "text/plain": [
       "Fetching 17 files:   0%|          | 0/17 [00:00<?, ?it/s]"
      ]
     },
     "metadata": {},
     "output_type": "display_data"
    },
    {
     "data": {
      "application/vnd.jupyter.widget-view+json": {
       "model_id": "a3abdb47955249f7a87c4686b0c0cfeb",
       "version_major": 2,
       "version_minor": 0
      },
      "text/plain": [
       "model-00002-of-00004.safetensors:   0%|          | 0.00/5.00G [00:00<?, ?B/s]"
      ]
     },
     "metadata": {},
     "output_type": "display_data"
    },
    {
     "data": {
      "application/vnd.jupyter.widget-view+json": {
       "model_id": "0a9276120ad24e98b483b35ecb1e0beb",
       "version_major": 2,
       "version_minor": 0
      },
      "text/plain": [
       ".gitattributes:   0%|          | 0.00/1.52k [00:00<?, ?B/s]"
      ]
     },
     "metadata": {},
     "output_type": "display_data"
    },
    {
     "data": {
      "application/vnd.jupyter.widget-view+json": {
       "model_id": "f63411e239514430a370de555793988d",
       "version_major": 2,
       "version_minor": 0
      },
      "text/plain": [
       "config.json:   0%|          | 0.00/654 [00:00<?, ?B/s]"
      ]
     },
     "metadata": {},
     "output_type": "display_data"
    },
    {
     "data": {
      "application/vnd.jupyter.widget-view+json": {
       "model_id": "59f54676bea2425ea95be44f0672af14",
       "version_major": 2,
       "version_minor": 0
      },
      "text/plain": [
       "USE_POLICY.md:   0%|          | 0.00/4.70k [00:00<?, ?B/s]"
      ]
     },
     "metadata": {},
     "output_type": "display_data"
    },
    {
     "data": {
      "application/vnd.jupyter.widget-view+json": {
       "model_id": "eaedfea91cfd4f779d8ea5dc16e86b87",
       "version_major": 2,
       "version_minor": 0
      },
      "text/plain": [
       "README.md:   0%|          | 0.00/38.9k [00:00<?, ?B/s]"
      ]
     },
     "metadata": {},
     "output_type": "display_data"
    },
    {
     "data": {
      "application/vnd.jupyter.widget-view+json": {
       "model_id": "74d6b2ef088d4526be1b44eeb0d00f98",
       "version_major": 2,
       "version_minor": 0
      },
      "text/plain": [
       "generation_config.json:   0%|          | 0.00/187 [00:00<?, ?B/s]"
      ]
     },
     "metadata": {},
     "output_type": "display_data"
    },
    {
     "data": {
      "application/vnd.jupyter.widget-view+json": {
       "model_id": "0f7e38ce51aa4ef7acddf56f909711d4",
       "version_major": 2,
       "version_minor": 0
      },
      "text/plain": [
       "model-00001-of-00004.safetensors:   0%|          | 0.00/4.98G [00:00<?, ?B/s]"
      ]
     },
     "metadata": {},
     "output_type": "display_data"
    },
    {
     "data": {
      "application/vnd.jupyter.widget-view+json": {
       "model_id": "5392617db4ca4fa192300c28c05caa53",
       "version_major": 2,
       "version_minor": 0
      },
      "text/plain": [
       "LICENSE:   0%|          | 0.00/7.80k [00:00<?, ?B/s]"
      ]
     },
     "metadata": {},
     "output_type": "display_data"
    },
    {
     "data": {
      "application/vnd.jupyter.widget-view+json": {
       "model_id": "3cea33b74a1f48638450070e829008e6",
       "version_major": 2,
       "version_minor": 0
      },
      "text/plain": [
       "model-00004-of-00004.safetensors:   0%|          | 0.00/1.17G [00:00<?, ?B/s]"
      ]
     },
     "metadata": {},
     "output_type": "display_data"
    },
    {
     "data": {
      "application/vnd.jupyter.widget-view+json": {
       "model_id": "4e46a818bcc04ed1a791c39d5e58b276",
       "version_major": 2,
       "version_minor": 0
      },
      "text/plain": [
       "model.safetensors.index.json:   0%|          | 0.00/23.9k [00:00<?, ?B/s]"
      ]
     },
     "metadata": {},
     "output_type": "display_data"
    },
    {
     "data": {
      "application/vnd.jupyter.widget-view+json": {
       "model_id": "c3b840023304411ba05a0dc0d05cad4a",
       "version_major": 2,
       "version_minor": 0
      },
      "text/plain": [
       "model-00003-of-00004.safetensors:   0%|          | 0.00/4.92G [00:00<?, ?B/s]"
      ]
     },
     "metadata": {},
     "output_type": "display_data"
    },
    {
     "data": {
      "application/vnd.jupyter.widget-view+json": {
       "model_id": "1ca1184ac66947e3b8cd16879293eca0",
       "version_major": 2,
       "version_minor": 0
      },
      "text/plain": [
       "consolidated.00.pth:   0%|          | 0.00/16.1G [00:00<?, ?B/s]"
      ]
     },
     "metadata": {},
     "output_type": "display_data"
    },
    {
     "data": {
      "application/vnd.jupyter.widget-view+json": {
       "model_id": "055891355b8d43769f4c9fdea97150c8",
       "version_major": 2,
       "version_minor": 0
      },
      "text/plain": [
       "special_tokens_map.json:   0%|          | 0.00/73.0 [00:00<?, ?B/s]"
      ]
     },
     "metadata": {},
     "output_type": "display_data"
    },
    {
     "data": {
      "application/vnd.jupyter.widget-view+json": {
       "model_id": "c22a78a603f9425d9d4b50dc534a2875",
       "version_major": 2,
       "version_minor": 0
      },
      "text/plain": [
       "tokenizer.json:   0%|          | 0.00/9.09M [00:00<?, ?B/s]"
      ]
     },
     "metadata": {},
     "output_type": "display_data"
    },
    {
     "data": {
      "application/vnd.jupyter.widget-view+json": {
       "model_id": "1c62fff87feb46459461447c1f59f36e",
       "version_major": 2,
       "version_minor": 0
      },
      "text/plain": [
       "original/params.json:   0%|          | 0.00/211 [00:00<?, ?B/s]"
      ]
     },
     "metadata": {},
     "output_type": "display_data"
    },
    {
     "data": {
      "application/vnd.jupyter.widget-view+json": {
       "model_id": "e8909aebed044064a57454041f204b20",
       "version_major": 2,
       "version_minor": 0
      },
      "text/plain": [
       "tokenizer.model:   0%|          | 0.00/2.18M [00:00<?, ?B/s]"
      ]
     },
     "metadata": {},
     "output_type": "display_data"
    },
    {
     "data": {
      "application/vnd.jupyter.widget-view+json": {
       "model_id": "79a612b1cd0b4527bd9154ebba44851c",
       "version_major": 2,
       "version_minor": 0
      },
      "text/plain": [
       "tokenizer_config.json:   0%|          | 0.00/51.0k [00:00<?, ?B/s]"
      ]
     },
     "metadata": {},
     "output_type": "display_data"
    },
    {
     "data": {
      "text/plain": [
       "'C:\\\\Users\\\\xyq44482\\\\Llama_models\\\\7B-v0.3'"
      ]
     },
     "execution_count": 1,
     "metadata": {},
     "output_type": "execute_result"
    }
   ],
   "source": [
    "import transformers\n",
    "import torch\n",
    "\n",
    "model_id = \"meta-llama/Meta-Llama-3-8B-Instruct\"\n",
    "\n",
    "pipeline = transformers.pipeline(\n",
    "    \"text-generation\",\n",
    "    model=model_id,\n",
    "    model_kwargs={\"torch_dtype\": torch.bfloat16},\n",
    "    device_map=\"auto\",\n",
    ")\n",
    "\n",
    "def string_with_placeholder(message, input):\n",
    "  return message.replace(\"{'input'}\", input)\n",
    "\n",
    "messages = [\n",
    "    {\"role\": \"system\", \"content\": \"You are a helpful assistant specialising in generate Quantum Espresso input file for single point energy calculations.\"},\n",
    "    {\"role\": \"user\", \"content\": string_with_placeholder(\"Please, generate an input file for {'input'}\", compound)},\n",
    "]\n",
    "\n",
    "outputs = pipeline(\n",
    "    messages\n",
    ")\n",
    "\n",
    "mes=outputs[0][\"generated_text\"][-1]\n",
    "mes['content']\n",
    "name_compound=compound.replace(' ','_')\n",
    "with open(output_dir+'Meta-Llama-3-8B-Instruct_'+name_compound+'_output.txt','w') as f:\n",
    "  f.write(mes['content'])"
   ]
  },
  {
   "cell_type": "markdown",
   "id": "125b2ae9-4f2d-4126-a525-b55a207617a9",
   "metadata": {},
   "source": [
    "## Groq models"
   ]
  },
  {
   "cell_type": "code",
   "execution_count": 1,
   "id": "be8debc1-edd7-4c13-8d9a-35902c6dbad1",
   "metadata": {},
   "outputs": [],
   "source": [
    "GROQ_API_KEY = os.environ.get('GROQ_API_KEY')"
   ]
  },
  {
   "cell_type": "code",
   "execution_count": 7,
   "id": "dc68cb0d-8c1c-4130-9ca8-2eae9946431e",
   "metadata": {},
   "outputs": [
    {
     "name": "stdout",
     "output_type": "stream",
     "text": [
      "Here's a sample Quantum Espresso input file for a single-point energy calculation of CaO:\n",
      "\n",
      "```fortran\n",
      "&CONTROL\n",
      "  calculation = 'scf',\n",
      "  title = 'CaO single point energy calculation',\n",
      "  verbosity = 'high'\n",
      "  tprnfor = .true.\n",
      "  tstress = .true.\n",
      "  tefield = .false.\n",
      " restart_mode = 'from_scratch',\n",
      "  prefix = 'CaO',\n",
      "  pseudo_dir = './',\n",
      "  outdir = './',\n",
      "  etot_conv_thr = 1.0d-6,\n",
      "  forc_conv_thr = 1.0d-4,\n",
      "/\n",
      "\n",
      "&SYSTEM\n",
      "  ibrav = 2,            ! Face-centered cubic (FCC)\n",
      "  A = 4.866,            ! lattice constant\n",
      "  nat = 2,               ! Number of atoms in the primitive cell\n",
      "  ntyp = 2,              ! Number of atom types\n",
      "  nbnd = 12,            ! Number of electronic bands\n",
      "  ecutwfc = 30.0,       ! kinetic energy cutoff for wave functions\n",
      "  ecutrho = 200.0,      ! kinetic energy cutoff for charge density\n",
      "  occupations = 'fixed',\n",
      "  smearing = 'mp',\n",
      "  degauss = 0.005,\n",
      "  ecfixed = 0.0000,\n",
      "/\n",
      "\n",
      "&ELECTRONS\n",
      "  mixing_beta = 0.7,    ! mixing factor\n",
      "  conv_thr = 1.0d-6,    ! convergence threshold for self-consistency\n",
      "/\n",
      "\n",
      "&IONS\n",
      "  ion_positions = .true.\n",
      "/\n",
      "\n",
      "&CELL\n",
      "  cell_parameters (alat := 4.866)\n",
      "  cell_dofixed = 'all',\n",
      "/\n",
      "\n",
      "ATOMIC_SPECIES\n",
      "  Ca 40.078 Ca.pbe-n-rrkjus.UPF\n",
      "  O 15.9994 O.pbe-rrkjus.UPF\n",
      "\n",
      "ATOMIC_POSITIONS bohr\n",
      "  Ca 0.0 0.0 0.0\n",
      "  O 0.0 0.0 1.068\n",
      "```\n",
      "\n",
      "Please ensure to replace the `./` in `pseudo_dir = './',` by your actual path to the pseudopotential directory.\n"
     ]
    }
   ],
   "source": [
    "import os\n",
    "\n",
    "from groq import Groq\n",
    "\n",
    "client = Groq(\n",
    "    # This is the default and can be omitted\n",
    "    api_key=GROQ_API_KEY,\n",
    ")\n",
    "\n",
    "chat_completion = client.chat.completions.create(\n",
    "    messages=[\n",
    "        {\n",
    "            \"role\": \"system\",\n",
    "            \"content\": \"You are a helpful assistant specialising in generate Quantum Espresso input file for single point energy calculations.\"\n",
    "        },\n",
    "        {\n",
    "            \"role\": \"user\",\n",
    "            \"content\": \"Please, generate an input file for CaO\",\n",
    "        }\n",
    "    ],\n",
    "    model=\"llama-3.1-70b-versatile\",\n",
    ")\n",
    "\n",
    "print(chat_completion.choices[0].message.content)"
   ]
  },
  {
   "cell_type": "code",
   "execution_count": 12,
   "id": "05362094-d687-4c8b-986f-f3a20368f42b",
   "metadata": {},
   "outputs": [
    {
     "name": "stdout",
     "output_type": "stream",
     "text": [
      "```\n",
      "&CONTROL\n",
      "  calculation = 'scf'\n",
      "  pseudo_dir = '/path/to/your/pseudo/directory' \n",
      "  outdir = 'CaO_output'  \n",
      "  verbose = 'high'\n",
      "/\n",
      "\n",
      "&SYSTEM\n",
      "  ibrav = 0     ! Rock salt structure\n",
      "  a = 4.18       ! Lattice constant (angstrom)\n",
      "  \n",
      "  nat = 2        ! Number of atoms per cell\n",
      "  ntyp = 2\n",
      "\n",
      "  &ATOMIC_SPECIES\n",
      "   Ca  = 40.08   ! Atomic mass of Ca\n",
      "    O  = 16.00   ! Atomic mass of O\n",
      "  /\n",
      "\n",
      "  &CELL\n",
      "   ! Define atomic positions (in fractional coordinates)\n",
      "    0.0, 0.0, 0.0 | Ca\n",
      "    0.5, 0.5, 0.5 | O\n",
      "\n",
      "  /\n",
      "/\n",
      "\n",
      "\n",
      "\n",
      "&ELECTRONS\n",
      "  ecutrho = 500.0   ! Cut-off energy (Ry)\n",
      "  conv_thr = 1.0e-6  ! Convergence threshold\n",
      "  mixing_beta = 0.2    ! Mixing parameter\n",
      "/\n",
      "```\n",
      "\n",
      "**Explanation:**\n",
      "\n",
      "- **&CONTROL:** This section controls overall calculation parameters:\n",
      "    - **calculation = 'scf'**: Indicates a self-consistent field (SCF) calculation for single-point energy.\n",
      "    - **pseudo_dir**: Specify the directory containing pseudopotentials. \n",
      "    - **outdir**: Set the output directory for calculation results.\n",
      "    - **verbose**: Controls the amount of information printed during the calculation.\n",
      "- **&SYSTEM:** Defines the system parameters:\n",
      "    - **ibrav = 0:**  Specifies the crystal structure (0 for simple cubic). You'll likely want to change this for rock salt (CaO), perhaps to **ibrav = 149** which is the standard for NaCl-type structures.\n",
      "    - **a**: Sets the lattice constant (in angstroms). Adjust this if your reference structure has a different lattice constant.\n",
      "    - **nat:** Number of atoms per unit cell.\n",
      "    - **ntyp:** Number of different atom types in the unit cell.\n",
      "    - **&ATOMIC_SPECIES**: Defines the atomic species and their masses.\n",
      "    - **&CELL**:\n",
      "        -  **atom positions** listed in fractional coordinates.\n",
      "- **&ELECTRONS**:\n",
      "    - **ecutrho**: Sets the plane-wave energy cutoff for electronic charge density (in Rydbergs).  A higher value generally gives a more accurate result but increases computation time.\n",
      "    - **conv_thr**: Convergence threshold for the SCF calculation. The calculation stops when the energy difference between iterations is below this value.\n",
      "    - **mixing_beta**: Mixing parameter for the electronic density update.\n",
      "\n",
      "\n",
      "**Important Notes & How To Use:**\n",
      "1. **Pseudo-potential Directory:** Replace `/path/to/your/pseudo/directory` with the actual path on your system where you have downloaded and organized your pseudopotentials.  \n",
      "2. **Pseudopotential Files:** Make sure the pseudopotential files (`*.pbe.pz`) for Ca and O are placed inside your pseudo-potential directory. Obtain them from reliable sources like: [http://www.quantum-espresso.org/](http://www.quantum-espresso.org/) or [http://www.pseudopotentials.org/](http://www.pseudopotentials.org/).\n",
      "3. **Structure and Lattice Constant:** Adjust the 'ibrav', 'a', and atom positions in the `&CELL` section according to your specific CaO structure. Resources like the Material Project ([https://materialsproject.org/](https://materialsproject.org/)) can provide crystallographic details.\n",
      "4. **ecutrho:** Choose a suitable value for `ecutrho`. It should be high enough to accurately represent the electron density but not excessively high to avoid unnecessary computational cost. 500 Ry is a common starting point.\n",
      "5. **Save and Run:** Save the file as `CaO.inp` (or a similar name) and run Quantum Espresso using your usual workflow.\n",
      "\n",
      "\n",
      "\n",
      "Let me know if you have any other questions or need assistance with specific aspects of the input file.\n",
      "\n"
     ]
    }
   ],
   "source": [
    "import os\n",
    "\n",
    "from groq import Groq\n",
    "\n",
    "client = Groq(\n",
    "    # This is the default and can be omitted\n",
    "    api_key=GROQ_API_KEY,\n",
    ")\n",
    "\n",
    "chat_completion = client.chat.completions.create(\n",
    "    messages=[\n",
    "        {\n",
    "            \"role\": \"system\",\n",
    "            \"content\": \"You are a helpful assistant specialising in generate Quantum Espresso input file for single point energy calculations.\"\n",
    "        },\n",
    "        {\n",
    "            \"role\": \"user\",\n",
    "            \"content\": \"Please, generate an input file for CaO\",\n",
    "        }\n",
    "    ],\n",
    "    model=\"gemma2-9b-it\",\n",
    ")\n",
    "\n",
    "print(chat_completion.choices[0].message.content)"
   ]
  },
  {
   "cell_type": "code",
   "execution_count": null,
   "id": "71a3ecd3-dab6-460c-be41-4664ceba2399",
   "metadata": {},
   "outputs": [],
   "source": []
  },
  {
   "cell_type": "code",
   "execution_count": null,
   "id": "50ed3da6-c2a6-4596-ad74-766d0aa8fb1a",
   "metadata": {},
   "outputs": [],
   "source": []
  },
  {
   "cell_type": "code",
   "execution_count": null,
   "id": "2a386410-221b-4839-9739-00cd3bbf2928",
   "metadata": {},
   "outputs": [],
   "source": []
  },
  {
   "cell_type": "code",
   "execution_count": null,
   "id": "8b08d878-a920-474c-b063-2b1e498ae65f",
   "metadata": {},
   "outputs": [],
   "source": []
  },
  {
   "cell_type": "code",
   "execution_count": null,
   "id": "4f0f2f51-e587-484b-905d-e0b3d1ab8ad7",
   "metadata": {},
   "outputs": [],
   "source": []
  },
  {
   "cell_type": "code",
   "execution_count": null,
   "id": "10ac8f29-0b75-42f3-913d-9fef0b420594",
   "metadata": {},
   "outputs": [],
   "source": []
  }
 ],
 "metadata": {
  "kernelspec": {
   "display_name": "Python 3 (ipykernel)",
   "language": "python",
   "name": "python3"
  },
  "language_info": {
   "codemirror_mode": {
    "name": "ipython",
    "version": 3
   },
   "file_extension": ".py",
   "mimetype": "text/x-python",
   "name": "python",
   "nbconvert_exporter": "python",
   "pygments_lexer": "ipython3",
   "version": "3.12.4"
  }
 },
 "nbformat": 4,
 "nbformat_minor": 5
}
