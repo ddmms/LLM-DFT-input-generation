{
 "cells": [
  {
   "cell_type": "code",
   "execution_count": 136,
   "id": "139be259-6475-4788-a92a-bdf5c1dfde28",
   "metadata": {},
   "outputs": [],
   "source": [
    "import json\n",
    "import numpy as np\n",
    "import pandas as pd\n",
    "from urllib.request import urlopen\n",
    "import os"
   ]
  },
  {
   "cell_type": "code",
   "execution_count": null,
   "id": "ee868026-be66-416b-b98b-a13b74ca4ec9",
   "metadata": {},
   "outputs": [],
   "source": []
  },
  {
   "cell_type": "code",
   "execution_count": 2,
   "id": "7c3022a2-f3a8-492c-9fd8-e9c77fe10e51",
   "metadata": {},
   "outputs": [],
   "source": [
    "SERVER=\"http://aflow.org\""
   ]
  },
  {
   "cell_type": "code",
   "execution_count": 3,
   "id": "1d0c0cde-c48b-4d7d-a94b-d22c5b1983c5",
   "metadata": {},
   "outputs": [],
   "source": [
    "API=\"/API/aflux/v1.0/?\""
   ]
  },
  {
   "cell_type": "code",
   "execution_count": 129,
   "id": "674d1993-3660-4fe3-be5a-5729e1152cb6",
   "metadata": {},
   "outputs": [],
   "source": [
    "MATCHBOOK=\"nspecies(3),Egap(0*,*20),aflow_prototype_label_orig,aflow_prototype_label_relax,aflow_prototype_parameters_orig,aflow_prototype_parameters_relax,aflow_prototype_params_list_orig,aflow_prototype_params_list_relax,aflow_prototype_params_values_orig,aflow_prototype_params_values_relax,aflow_version,aflowlib_date,aflowlib_version,auid\""
   ]
  },
  {
   "cell_type": "code",
   "execution_count": 130,
   "id": "45fe5ad5-7ced-4be7-a6c1-e47ca637d8b1",
   "metadata": {},
   "outputs": [],
   "source": [
    "DIRECTIVES=\"$paging(0)\""
   ]
  },
  {
   "cell_type": "code",
   "execution_count": 131,
   "id": "1fe2116d-b343-4d79-b7bc-d783a377d739",
   "metadata": {},
   "outputs": [],
   "source": [
    "SUMMONS=MATCHBOOK+\",\"+DIRECTIVES"
   ]
  },
  {
   "cell_type": "code",
   "execution_count": 132,
   "id": "14efbc03-72a1-4eb4-b62a-2b6df5515e9e",
   "metadata": {},
   "outputs": [],
   "source": [
    "response = json.loads(urlopen(SERVER+API+SUMMONS).read().decode(\"utf-8\"))"
   ]
  },
  {
   "cell_type": "code",
   "execution_count": 133,
   "id": "c8abdde6-b4cf-472a-8c0f-d083c34f5625",
   "metadata": {},
   "outputs": [
    {
     "data": {
      "text/plain": [
       "1"
      ]
     },
     "execution_count": 133,
     "metadata": {},
     "output_type": "execute_result"
    }
   ],
   "source": [
    "len(response)"
   ]
  },
  {
   "cell_type": "code",
   "execution_count": 134,
   "id": "7e13f114-c9eb-4284-acff-8e17566c2135",
   "metadata": {},
   "outputs": [],
   "source": [
    "with open('aflow_octonary_band_gap.json','w') as file:\n",
    "    json.dump(response,file,indent=4)"
   ]
  },
  {
   "cell_type": "code",
   "execution_count": 135,
   "id": "9fa82740-e52f-4cfd-a949-d083ab0bea25",
   "metadata": {},
   "outputs": [
    {
     "name": "stdout",
     "output_type": "stream",
     "text": [
      "C4Cl4H24K2N4O8P2Pt2, 3.1497\n"
     ]
    }
   ],
   "source": [
    "for datum in response:\n",
    "    bandgap=datum['Egap']\n",
    "    print (\"{}, {}\".format( datum['compound'], bandgap))"
   ]
  },
  {
   "cell_type": "code",
   "execution_count": 139,
   "id": "402c4d8a-6495-481c-acb7-592ac667c9dc",
   "metadata": {},
   "outputs": [],
   "source": [
    "path='/Users/elena.patyukova/Documents/github/ML_for_Me_prediction/band_gap_data/aflow_data/'\n",
    "list_of_files=os.listdir(path)"
   ]
  },
  {
   "cell_type": "code",
   "execution_count": 145,
   "id": "acf954a5-9243-4b68-886a-d7233f8f72f5",
   "metadata": {},
   "outputs": [],
   "source": [
    "data_full=[]\n",
    "for file in list_of_files:\n",
    "    with open(path+file,'r') as f:\n",
    "        data=json.load(f)\n",
    "        data_full.extend(data)"
   ]
  },
  {
   "cell_type": "code",
   "execution_count": 148,
   "id": "b3b6eede-9564-4e57-8c79-609875098d08",
   "metadata": {},
   "outputs": [],
   "source": [
    "formulas=[]\n",
    "bandgap=[]\n",
    "for datum in data_full:\n",
    "    bandgap.append(datum['Egap'])\n",
    "    formulas.append(datum['compound'])\n",
    "    "
   ]
  },
  {
   "cell_type": "code",
   "execution_count": 149,
   "id": "c57659e6-5d1e-4ba3-8be1-c6883208911c",
   "metadata": {},
   "outputs": [],
   "source": [
    "aflow=pd.DataFrame()\n",
    "aflow['formula']=formulas\n",
    "aflow['band_gap']=bandgap"
   ]
  },
  {
   "cell_type": "code",
   "execution_count": 150,
   "id": "fbe93426-9062-4076-ad75-bb1f0f05b6a0",
   "metadata": {},
   "outputs": [],
   "source": [
    "aflow.to_csv('aflow_band_gaps_composition.csv')"
   ]
  },
  {
   "cell_type": "code",
   "execution_count": null,
   "id": "257997d0-a2b0-45a4-af02-ed0f46491210",
   "metadata": {},
   "outputs": [],
   "source": []
  }
 ],
 "metadata": {
  "kernelspec": {
   "display_name": "Python 3 (ipykernel)",
   "language": "python",
   "name": "python3"
  },
  "language_info": {
   "codemirror_mode": {
    "name": "ipython",
    "version": 3
   },
   "file_extension": ".py",
   "mimetype": "text/x-python",
   "name": "python",
   "nbconvert_exporter": "python",
   "pygments_lexer": "ipython3",
   "version": "3.12.7"
  }
 },
 "nbformat": 4,
 "nbformat_minor": 5
}
