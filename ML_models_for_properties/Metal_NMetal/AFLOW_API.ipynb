{
 "cells": [
  {
   "cell_type": "code",
   "execution_count": 136,
   "id": "139be259-6475-4788-a92a-bdf5c1dfde28",
   "metadata": {},
   "outputs": [],
   "source": [
    "import json\n",
    "import numpy as np\n",
    "import pandas as pd\n",
    "from urllib.request import urlopen\n",
    "import os"
   ]
  },
  {
   "cell_type": "code",
   "execution_count": null,
   "id": "ee868026-be66-416b-b98b-a13b74ca4ec9",
   "metadata": {},
   "outputs": [],
   "source": []
  },
  {
   "cell_type": "code",
   "execution_count": 2,
   "id": "7c3022a2-f3a8-492c-9fd8-e9c77fe10e51",
   "metadata": {},
   "outputs": [],
   "source": [
    "SERVER=\"http://aflow.org\""
   ]
  },
  {
   "cell_type": "code",
   "execution_count": 3,
   "id": "1d0c0cde-c48b-4d7d-a94b-d22c5b1983c5",
   "metadata": {},
   "outputs": [],
   "source": [
    "API=\"/API/aflux/v1.0/?\""
   ]
  },
  {
   "cell_type": "code",
   "execution_count": 160,
   "id": "674d1993-3660-4fe3-be5a-5729e1152cb6",
   "metadata": {},
   "outputs": [],
   "source": [
    "MATCHBOOK=\"nspecies(2),compound,data_source,Egap(0*,*20),Egap_type,energy_cutoff,pressure,geometry,catalog,positions_cartesian,kpoints_bands_nkpts,kpoints_relax,kpoints_static,spacegroup_orig,spacegroup_relax,dft_type,aflow_version,aflowlib_date,aflowlib_version,auid,code\""
   ]
  },
  {
   "cell_type": "code",
   "execution_count": 161,
   "id": "45fe5ad5-7ced-4be7-a6c1-e47ca637d8b1",
   "metadata": {},
   "outputs": [],
   "source": [
    "DIRECTIVES=\"$paging(0)\""
   ]
  },
  {
   "cell_type": "code",
   "execution_count": 162,
   "id": "1fe2116d-b343-4d79-b7bc-d783a377d739",
   "metadata": {},
   "outputs": [],
   "source": [
    "SUMMONS=MATCHBOOK+\",\"+DIRECTIVES"
   ]
  },
  {
   "cell_type": "code",
   "execution_count": null,
   "id": "14efbc03-72a1-4eb4-b62a-2b6df5515e9e",
   "metadata": {},
   "outputs": [],
   "source": [
    "response = json.loads(urlopen(SERVER+API+SUMMONS).read().decode(\"utf-8\"))"
   ]
  },
  {
   "cell_type": "code",
   "execution_count": null,
   "id": "c8abdde6-b4cf-472a-8c0f-d083c34f5625",
   "metadata": {},
   "outputs": [],
   "source": [
    "len(response)"
   ]
  },
  {
   "cell_type": "code",
   "execution_count": 159,
   "id": "7e13f114-c9eb-4284-acff-8e17566c2135",
   "metadata": {},
   "outputs": [],
   "source": [
    "with open('aflow_binary_band_gap.json','w') as file:\n",
    "    json.dump(response,file,indent=4)"
   ]
  },
  {
   "cell_type": "code",
   "execution_count": 135,
   "id": "9fa82740-e52f-4cfd-a949-d083ab0bea25",
   "metadata": {},
   "outputs": [
    {
     "name": "stdout",
     "output_type": "stream",
     "text": [
      "C4Cl4H24K2N4O8P2Pt2, 3.1497\n"
     ]
    }
   ],
   "source": [
    "for datum in response:\n",
    "    bandgap=datum['Egap']\n",
    "    print (\"{}, {}\".format( datum['compound'], bandgap))"
   ]
  },
  {
   "cell_type": "code",
   "execution_count": 139,
   "id": "402c4d8a-6495-481c-acb7-592ac667c9dc",
   "metadata": {},
   "outputs": [],
   "source": [
    "path='/Users/elena.patyukova/Documents/github/ML_for_Me_prediction/band_gap_data/aflow_data/'\n",
    "list_of_files=os.listdir(path)"
   ]
  },
  {
   "cell_type": "code",
   "execution_count": 145,
   "id": "acf954a5-9243-4b68-886a-d7233f8f72f5",
   "metadata": {},
   "outputs": [],
   "source": [
    "data_full=[]\n",
    "for file in list_of_files:\n",
    "    with open(path+file,'r') as f:\n",
    "        data=json.load(f)\n",
    "        data_full.extend(data)"
   ]
  },
  {
   "cell_type": "code",
   "execution_count": 151,
   "id": "908589fb-f473-4fcc-abfc-27ac0a0d9524",
   "metadata": {},
   "outputs": [
    {
     "data": {
      "text/plain": [
       "{'compound': 'O10P2Sn2V2',\n",
       " 'auid': 'aflow:00a29211eaf7d4ed',\n",
       " 'aurl': 'aflowlib.duke.edu:AFLOWDATA/ICSD_WEB/TRI/O5P1Sn1V1_ICSD_415445',\n",
       " 'spacegroup_relax': 2,\n",
       " 'Pearson_symbol_relax': 'aP16',\n",
       " 'nspecies': 4,\n",
       " 'Egap': 1.012,\n",
       " 'aflow_prototype_label_orig': 'A5BCD_aP16_2_5i_i_i_i',\n",
       " 'aflow_prototype_label_relax': 'A5BCD_aP16_2_5i_i_i_i',\n",
       " 'aflow_prototype_params_list_orig': ['a',\n",
       "  'b/a',\n",
       "  'c/a',\n",
       "  'alpha',\n",
       "  'beta',\n",
       "  'gamma',\n",
       "  'x1',\n",
       "  'y1',\n",
       "  'z1',\n",
       "  'x2',\n",
       "  'y2',\n",
       "  'z2',\n",
       "  'x3',\n",
       "  'y3',\n",
       "  'z3',\n",
       "  'x4',\n",
       "  'y4',\n",
       "  'z4',\n",
       "  'x5',\n",
       "  'y5',\n",
       "  'z5',\n",
       "  'x6',\n",
       "  'y6',\n",
       "  'z6',\n",
       "  'x7',\n",
       "  'y7',\n",
       "  'z7',\n",
       "  'x8',\n",
       "  'y8',\n",
       "  'z8'],\n",
       " 'aflow_prototype_params_values_orig': [5.2633,\n",
       "  1.3068797,\n",
       "  1.2397545,\n",
       "  113.283,\n",
       "  85.397,\n",
       "  71.963,\n",
       "  0.7773,\n",
       "  0.4616,\n",
       "  0.4974,\n",
       "  0.4297,\n",
       "  0.8925,\n",
       "  0.7582,\n",
       "  0.9289,\n",
       "  0.0364,\n",
       "  0.7508,\n",
       "  0.2323,\n",
       "  0.2244,\n",
       "  0.6648,\n",
       "  0.1034,\n",
       "  0.2706,\n",
       "  0.0659,\n",
       "  0.17427,\n",
       "  0.1049,\n",
       "  0.8083,\n",
       "  0.41076,\n",
       "  0.53898,\n",
       "  0.77816,\n",
       "  0.15912,\n",
       "  0.23953,\n",
       "  0.36631],\n",
       " 'aflow_prototype_params_list_relax': ['a',\n",
       "  'b/a',\n",
       "  'c/a',\n",
       "  'alpha',\n",
       "  'beta',\n",
       "  'gamma',\n",
       "  'x1',\n",
       "  'y1',\n",
       "  'z1',\n",
       "  'x2',\n",
       "  'y2',\n",
       "  'z2',\n",
       "  'x3',\n",
       "  'y3',\n",
       "  'z3',\n",
       "  'x4',\n",
       "  'y4',\n",
       "  'z4',\n",
       "  'x5',\n",
       "  'y5',\n",
       "  'z5',\n",
       "  'x6',\n",
       "  'y6',\n",
       "  'z6',\n",
       "  'x7',\n",
       "  'y7',\n",
       "  'z7',\n",
       "  'x8',\n",
       "  'y8',\n",
       "  'z8'],\n",
       " 'aflow_prototype_params_values_relax': [6.97,\n",
       "  0.76925395,\n",
       "  0.95232425,\n",
       "  84.6677,\n",
       "  113.0599,\n",
       "  72.6659,\n",
       "  0.53725522,\n",
       "  0.22105971,\n",
       "  0.49805065,\n",
       "  0.10477234,\n",
       "  0.5711737,\n",
       "  0.23970943,\n",
       "  0.96661588,\n",
       "  0.064866028,\n",
       "  0.25352298,\n",
       "  0.77510953,\n",
       "  0.76373646,\n",
       "  0.33303442,\n",
       "  0.73190143,\n",
       "  0.89808963,\n",
       "  0.93666987,\n",
       "  0.89685041,\n",
       "  0.82296957,\n",
       "  0.19276507,\n",
       "  0.45993073,\n",
       "  0.59833444,\n",
       "  0.21703141,\n",
       "  0.76025057,\n",
       "  0.84020558,\n",
       "  0.63451765],\n",
       " 'aflow_version': 'aflow30910',\n",
       " 'aflowlib_date': ['20141117_06:18:14_GMT-5',\n",
       "  '20141118_12:56:35_GMT-5',\n",
       "  '20210831_02:27:44_GMT-4'],\n",
       " 'aflowlib_version': '3.2.11'}"
      ]
     },
     "execution_count": 151,
     "metadata": {},
     "output_type": "execute_result"
    }
   ],
   "source": [
    "data_full[0]"
   ]
  },
  {
   "cell_type": "code",
   "execution_count": 148,
   "id": "b3b6eede-9564-4e57-8c79-609875098d08",
   "metadata": {},
   "outputs": [],
   "source": [
    "formulas=[]\n",
    "bandgap=[]\n",
    "for datum in data_full:\n",
    "    bandgap.append(datum['Egap'])\n",
    "    formulas.append(datum['compound'])\n",
    "    "
   ]
  },
  {
   "cell_type": "code",
   "execution_count": 149,
   "id": "c57659e6-5d1e-4ba3-8be1-c6883208911c",
   "metadata": {},
   "outputs": [],
   "source": [
    "aflow=pd.DataFrame()\n",
    "aflow['formula']=formulas\n",
    "aflow[\n",
    "aflow['band_gap']=bandgap"
   ]
  },
  {
   "cell_type": "code",
   "execution_count": 150,
   "id": "fbe93426-9062-4076-ad75-bb1f0f05b6a0",
   "metadata": {},
   "outputs": [],
   "source": [
    "aflow.to_csv('aflow_band_gaps_composition.csv')"
   ]
  },
  {
   "cell_type": "code",
   "execution_count": null,
   "id": "257997d0-a2b0-45a4-af02-ed0f46491210",
   "metadata": {},
   "outputs": [],
   "source": []
  }
 ],
 "metadata": {
  "kernelspec": {
   "display_name": "Python 3 (ipykernel)",
   "language": "python",
   "name": "python3"
  },
  "language_info": {
   "codemirror_mode": {
    "name": "ipython",
    "version": 3
   },
   "file_extension": ".py",
   "mimetype": "text/x-python",
   "name": "python",
   "nbconvert_exporter": "python",
   "pygments_lexer": "ipython3",
   "version": "3.12.7"
  }
 },
 "nbformat": 4,
 "nbformat_minor": 5
}
