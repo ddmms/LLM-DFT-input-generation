{
 "cells": [
  {
   "cell_type": "markdown",
   "metadata": {
    "id": "KFgY9rt5wAUS"
   },
   "source": []
  },
  {
   "cell_type": "code",
   "execution_count": 1,
   "metadata": {
    "colab": {
     "base_uri": "https://localhost:8080/"
    },
    "id": "M5yTngAGwIy0",
    "outputId": "133488ae-551e-4bdf-d3e6-ff6a5cad03c2"
   },
   "outputs": [
    {
     "name": "stdout",
     "output_type": "stream",
     "text": [
      "Collecting jarvis-tools\n",
      "  Downloading jarvis_tools-2024.10.10-py2.py3-none-any.whl.metadata (3.1 kB)\n",
      "Requirement already satisfied: numpy>=1.20.1 in /opt/miniconda3/envs/llm/lib/python3.12/site-packages (from jarvis-tools) (1.26.4)\n",
      "Requirement already satisfied: scipy>=1.5.0 in /opt/miniconda3/envs/llm/lib/python3.12/site-packages (from jarvis-tools) (1.14.1)\n",
      "Requirement already satisfied: matplotlib>=3.0.0 in /opt/miniconda3/envs/llm/lib/python3.12/site-packages (from jarvis-tools) (3.9.2)\n",
      "Requirement already satisfied: joblib>=0.14.1 in /opt/miniconda3/envs/llm/lib/python3.12/site-packages (from jarvis-tools) (1.4.2)\n",
      "Requirement already satisfied: requests>=2.23.0 in /opt/miniconda3/envs/llm/lib/python3.12/site-packages (from jarvis-tools) (2.32.3)\n",
      "Collecting toolz>=0.9.0 (from jarvis-tools)\n",
      "  Downloading toolz-1.0.0-py3-none-any.whl.metadata (5.1 kB)\n",
      "Collecting xmltodict>=0.11.0 (from jarvis-tools)\n",
      "  Downloading xmltodict-0.14.2-py2.py3-none-any.whl.metadata (8.0 kB)\n",
      "Requirement already satisfied: tqdm>=4.41.1 in /opt/miniconda3/envs/llm/lib/python3.12/site-packages (from jarvis-tools) (4.66.5)\n",
      "Requirement already satisfied: scikit-learn in /opt/miniconda3/envs/llm/lib/python3.12/site-packages (from jarvis-tools) (1.5.2)\n",
      "Requirement already satisfied: contourpy>=1.0.1 in /opt/miniconda3/envs/llm/lib/python3.12/site-packages (from matplotlib>=3.0.0->jarvis-tools) (1.2.0)\n",
      "Requirement already satisfied: cycler>=0.10 in /opt/miniconda3/envs/llm/lib/python3.12/site-packages (from matplotlib>=3.0.0->jarvis-tools) (0.11.0)\n",
      "Requirement already satisfied: fonttools>=4.22.0 in /opt/miniconda3/envs/llm/lib/python3.12/site-packages (from matplotlib>=3.0.0->jarvis-tools) (4.51.0)\n",
      "Requirement already satisfied: kiwisolver>=1.3.1 in /opt/miniconda3/envs/llm/lib/python3.12/site-packages (from matplotlib>=3.0.0->jarvis-tools) (1.4.4)\n",
      "Requirement already satisfied: packaging>=20.0 in /opt/miniconda3/envs/llm/lib/python3.12/site-packages (from matplotlib>=3.0.0->jarvis-tools) (24.1)\n",
      "Requirement already satisfied: pillow>=8 in /opt/miniconda3/envs/llm/lib/python3.12/site-packages (from matplotlib>=3.0.0->jarvis-tools) (10.3.0)\n",
      "Requirement already satisfied: pyparsing>=2.3.1 in /opt/miniconda3/envs/llm/lib/python3.12/site-packages (from matplotlib>=3.0.0->jarvis-tools) (3.1.2)\n",
      "Requirement already satisfied: python-dateutil>=2.7 in /opt/miniconda3/envs/llm/lib/python3.12/site-packages (from matplotlib>=3.0.0->jarvis-tools) (2.8.2)\n",
      "Requirement already satisfied: charset-normalizer<4,>=2 in /opt/miniconda3/envs/llm/lib/python3.12/site-packages (from requests>=2.23.0->jarvis-tools) (3.3.2)\n",
      "Requirement already satisfied: idna<4,>=2.5 in /opt/miniconda3/envs/llm/lib/python3.12/site-packages (from requests>=2.23.0->jarvis-tools) (3.7)\n",
      "Requirement already satisfied: urllib3<3,>=1.21.1 in /opt/miniconda3/envs/llm/lib/python3.12/site-packages (from requests>=2.23.0->jarvis-tools) (2.2.3)\n",
      "Requirement already satisfied: certifi>=2017.4.17 in /opt/miniconda3/envs/llm/lib/python3.12/site-packages (from requests>=2.23.0->jarvis-tools) (2024.8.30)\n",
      "Requirement already satisfied: threadpoolctl>=3.1.0 in /opt/miniconda3/envs/llm/lib/python3.12/site-packages (from scikit-learn->jarvis-tools) (3.5.0)\n",
      "Requirement already satisfied: six>=1.5 in /opt/miniconda3/envs/llm/lib/python3.12/site-packages (from python-dateutil>=2.7->matplotlib>=3.0.0->jarvis-tools) (1.16.0)\n",
      "Downloading jarvis_tools-2024.10.10-py2.py3-none-any.whl (4.2 MB)\n",
      "\u001b[2K   \u001b[90m━━━━━━━━━━━━━━━━━━━━━━━━━━━━━━━━━━━━━━━━\u001b[0m \u001b[32m4.2/4.2 MB\u001b[0m \u001b[31m23.8 MB/s\u001b[0m eta \u001b[36m0:00:00\u001b[0m\n",
      "\u001b[?25hDownloading toolz-1.0.0-py3-none-any.whl (56 kB)\n",
      "Downloading xmltodict-0.14.2-py2.py3-none-any.whl (10.0 kB)\n",
      "Installing collected packages: xmltodict, toolz, jarvis-tools\n",
      "Successfully installed jarvis-tools-2024.10.10 toolz-1.0.0 xmltodict-0.14.2\n"
     ]
    }
   ],
   "source": [
    "!pip install jarvis-tools"
   ]
  },
  {
   "cell_type": "markdown",
   "metadata": {
    "id": "YPvw3QsjU5oQ"
   },
   "source": [
    "# Find more details about JARVIS-DFT data in: https://www.nature.com/articles/s41524-020-00440-1 and https://arxiv.org/abs/2305.11842"
   ]
  },
  {
   "cell_type": "markdown",
   "metadata": {
    "id": "q12LaGKNwAUf"
   },
   "source": [
    "### We have prepared a basic json file with meta-data associated with JARVIS-DFT. So, first let's import jarvis-dft metadata from the figshre repository. This has been built as a module in the jarvis-tools\n"
   ]
  },
  {
   "cell_type": "code",
   "execution_count": 2,
   "metadata": {
    "colab": {
     "base_uri": "https://localhost:8080/"
    },
    "id": "CzdszIiKwAUk",
    "outputId": "812cf9e8-8d9d-4ded-9e12-36d2963dd0cd"
   },
   "outputs": [
    {
     "name": "stdout",
     "output_type": "stream",
     "text": [
      "Obtaining 3D dataset 76k ...\n",
      "Reference:https://www.nature.com/articles/s41524-020-00440-1\n",
      "Other versions:https://doi.org/10.6084/m9.figshare.6815699\n"
     ]
    },
    {
     "name": "stderr",
     "output_type": "stream",
     "text": [
      "100%|█████████████████████████████████████| 40.8M/40.8M [00:02<00:00, 14.4MiB/s]\n"
     ]
    },
    {
     "name": "stdout",
     "output_type": "stream",
     "text": [
      "Loading the zipfile...\n",
      "Loading completed.\n",
      "Obtaining 2D dataset 1.1k ...\n",
      "Reference:https://www.nature.com/articles/s41524-020-00440-1\n",
      "Other versions:https://doi.org/10.6084/m9.figshare.6815705\n"
     ]
    },
    {
     "name": "stderr",
     "output_type": "stream",
     "text": [
      "100%|█████████████████████████████████████| 8.39M/8.39M [00:00<00:00, 16.1MiB/s]\n"
     ]
    },
    {
     "name": "stdout",
     "output_type": "stream",
     "text": [
      "Loading the zipfile...\n",
      "Loading completed.\n"
     ]
    }
   ],
   "source": [
    "# !pip install jarvis-tools, and restart runtime in the notebook if you haven't installed it yet\n",
    "from jarvis.db.figshare import data\n",
    "\n",
    "dft_3d = data('dft_3d')\n",
    "dft_2d = data('dft_2d')"
   ]
  },
  {
   "cell_type": "code",
   "execution_count": 3,
   "metadata": {
    "colab": {
     "base_uri": "https://localhost:8080/"
    },
    "id": "VU7_uav2wAVN",
    "outputId": "a1b0ad22-35a8-4402-dadf-ec0794e6e58b"
   },
   "outputs": [
    {
     "name": "stdout",
     "output_type": "stream",
     "text": [
      "75993 1103\n"
     ]
    }
   ],
   "source": [
    "# data-size\n",
    "print (len(dft_3d),len(dft_2d))"
   ]
  },
  {
   "cell_type": "code",
   "execution_count": 4,
   "metadata": {
    "id": "PohqUYrVwAVm"
   },
   "outputs": [],
   "source": [
    "# let's make a pandas dataframe from the figshare json file\n",
    "# pip install pandas, if you haven't installed yet\n",
    "import pandas as pd\n",
    "import numpy as np\n",
    "\n",
    "df=pd.DataFrame(dft_3d)"
   ]
  },
  {
   "cell_type": "code",
   "execution_count": 5,
   "metadata": {
    "colab": {
     "base_uri": "https://localhost:8080/"
    },
    "id": "-m9BFco-wAWB",
    "outputId": "9ee79d86-351a-4a22-a202-40a284609253"
   },
   "outputs": [
    {
     "name": "stdout",
     "output_type": "stream",
     "text": [
      "Index(['jid', 'spg_number', 'spg_symbol', 'formula',\n",
      "       'formation_energy_peratom', 'func', 'optb88vdw_bandgap', 'atoms',\n",
      "       'slme', 'magmom_oszicar', 'spillage', 'elastic_tensor',\n",
      "       'effective_masses_300K', 'kpoint_length_unit', 'maxdiff_mesh',\n",
      "       'maxdiff_bz', 'encut', 'optb88vdw_total_energy', 'epsx', 'epsy', 'epsz',\n",
      "       'mepsx', 'mepsy', 'mepsz', 'modes', 'magmom_outcar', 'max_efg',\n",
      "       'avg_elec_mass', 'avg_hole_mass', 'icsd', 'dfpt_piezo_max_eij',\n",
      "       'dfpt_piezo_max_dij', 'dfpt_piezo_max_dielectric',\n",
      "       'dfpt_piezo_max_dielectric_electronic',\n",
      "       'dfpt_piezo_max_dielectric_ionic', 'max_ir_mode', 'min_ir_mode',\n",
      "       'n-Seebeck', 'p-Seebeck', 'n-powerfact', 'p-powerfact', 'ncond',\n",
      "       'pcond', 'nkappa', 'pkappa', 'ehull', 'Tc_supercon', 'dimensionality',\n",
      "       'efg', 'xml_data_link', 'typ', 'exfoliation_energy', 'spg', 'crys',\n",
      "       'density', 'poisson', 'raw_files', 'nat', 'bulk_modulus_kv',\n",
      "       'shear_modulus_gv', 'mbj_bandgap', 'hse_gap', 'reference', 'search'],\n",
      "      dtype='object') 64\n"
     ]
    }
   ],
   "source": [
    "# Keys in the json file\n",
    "print (df.columns, len(df.columns))"
   ]
  }
 ],
 "metadata": {
  "colab": {
   "name": "Analyzing data in the JARVIS-DFT dataset.ipynb",
   "provenance": []
  },
  "kernelspec": {
   "display_name": "Python 3 (ipykernel)",
   "language": "python",
   "name": "python3"
  },
  "language_info": {
   "codemirror_mode": {
    "name": "ipython",
    "version": 3
   },
   "file_extension": ".py",
   "mimetype": "text/x-python",
   "name": "python",
   "nbconvert_exporter": "python",
   "pygments_lexer": "ipython3",
   "version": "3.12.7"
  }
 },
 "nbformat": 4,
 "nbformat_minor": 4
}
