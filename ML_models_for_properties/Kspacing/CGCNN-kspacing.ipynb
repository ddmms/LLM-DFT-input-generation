{
 "cells": [
  {
   "cell_type": "code",
   "execution_count": 15,
   "id": "3c9474ae",
   "metadata": {
    "scrolled": true
   },
   "outputs": [],
   "source": [
    "import os\n",
    "import shutil\n",
    "import sys\n",
    "import time\n",
    "import warnings\n",
    "from random import sample\n",
    "\n",
    "import numpy as np\n",
    "import torch\n",
    "import torch.nn as nn\n",
    "import torch.optim as optim\n",
    "from torch.autograd import Variable\n",
    "from torch.optim.lr_scheduler import MultiStepLR, StepLR\n",
    "from torch.utils.data.sampler import SubsetRandomSampler\n",
    "\n",
    "from sklearn.metrics import balanced_accuracy_score, accuracy_score, roc_auc_score, f1_score\n",
    "from sklearn.metrics import mean_absolute_error, mean_squared_error, matthews_corrcoef\n",
    "from sklearn.ensemble import RandomForestClassifier\n",
    "from sklearn.model_selection import StratifiedKFold, train_test_split\n",
    "\n",
    "import pytorch_lightning as L\n",
    "from pytorch_lightning.loggers.csv_logs import CSVLogger\n",
    "from pytorch_lightning.loggers import WandbLogger\n",
    "from pytorch_lightning.callbacks import ModelCheckpoint, StochasticWeightAveraging\n",
    "from pytorch_lightning.loggers.wandb import WandbLogger\n",
    "from pytorch_lightning.callbacks.early_stopping import EarlyStopping\n",
    "from pytorch_lightning import Trainer\n",
    "from torchmetrics.functional import mean_squared_error, mean_absolute_error\n",
    "\n",
    "from pymatgen.core.composition import Composition\n",
    "\n",
    "import torch\n",
    "from torch.utils.data import DataLoader\n",
    "from torch.nn import L1Loss, MSELoss, HuberLoss\n",
    "\n",
    "data_type_np = np.float32\n",
    "data_type_torch = torch.float32\n",
    "\n",
    "import wandb"
   ]
  },
  {
   "cell_type": "code",
   "execution_count": 16,
   "id": "6a3e4876",
   "metadata": {},
   "outputs": [],
   "source": [
    "class Normalizer(object):\n",
    "    \"\"\"Normalize a Tensor and restore it later. \"\"\"\n",
    "\n",
    "    def __init__(self, tensor):\n",
    "        \"\"\"tensor is taken as a sample to calculate the mean and std\"\"\"\n",
    "        self.mean = torch.mean(tensor)\n",
    "        self.std = torch.std(tensor)\n",
    "        \n",
    "    def norm(self, tensor):\n",
    "        return (tensor - self.mean) / self.std\n",
    "\n",
    "    def denorm(self, normed_tensor):\n",
    "        return normed_tensor * self.std + self.mean\n",
    "\n",
    "    def state_dict(self):\n",
    "        return {'mean': self.mean,\n",
    "                'std': self.std}\n",
    "\n",
    "    def load_state_dict(self, state_dict):\n",
    "        self.mean = state_dict['mean']\n",
    "        self.std = state_dict['std']"
   ]
  },
  {
   "cell_type": "code",
   "execution_count": 17,
   "id": "bd955d98",
   "metadata": {},
   "outputs": [],
   "source": [
    "def count_parameters(model):\n",
    "    return sum(p.numel() for p in model.parameters()if p.requires_grad)"
   ]
  },
  {
   "cell_type": "code",
   "execution_count": 18,
   "id": "03990944",
   "metadata": {},
   "outputs": [],
   "source": [
    "from cgcnn.data import CIFData, collate_pool\n",
    "\n",
    "## The data should be prepared as discribed in CIFdata doc-string\n",
    "\n",
    "class CGCNNDataModule(L.LightningDataModule):\n",
    "    def __init__(self, root_dir: str,\n",
    "                 train_ratio: 0.8,\n",
    "                 val_ratio: 0.1, \n",
    "                 test_ratio: 0.1,\n",
    "                 collate_fn=collate_pool,\n",
    "                 classification = False,\n",
    "                 batch_size = 256,\n",
    "                 num_workers=0,\n",
    "                 pin_memory = True):\n",
    "        super().__init__()\n",
    "        self.dataset = CIFData(root_dir=root_dir, max_num_nbr=12, radius=10, dmin=0, step=0.2, random_seed=123)\n",
    "        # root_dir, max_num_nbr=12, radius=8, dmin=0, step=0.2\n",
    "        total_size = len(self.dataset)\n",
    "        indices = list(range(total_size))\n",
    "        \n",
    "        self.collate_fn=collate_pool\n",
    "        \n",
    "        train_size = int(train_ratio * total_size)\n",
    "        val_size = int(val_ratio * total_size)\n",
    "        test_size = total_size - train_size - val_size\n",
    "        self.train_sampler = SubsetRandomSampler(indices[:train_size])\n",
    "        self.val_sampler = SubsetRandomSampler(indices[train_size:train_size+val_size])\n",
    "        self.test_sampler = SubsetRandomSampler(indices[train_size+val_size:])\n",
    "        \n",
    "        self.batch_size = batch_size\n",
    "        self.pin_memory = pin_memory\n",
    "        self.classification = classification\n",
    "        self.num_workers=num_workers\n",
    "  \n",
    "    def train_dataloader(self):\n",
    "        return DataLoader(self.dataset, batch_size=self.batch_size,\n",
    "                          sampler=self.train_sampler, num_workers=self.num_workers,\n",
    "                          collate_fn=self.collate_fn, pin_memory=self.pin_memory)\n",
    "    def val_dataloader(self):\n",
    "        return DataLoader(self.dataset, batch_size=self.batch_size,\n",
    "                          sampler=self.val_sampler, num_workers=self.num_workers,\n",
    "                          collate_fn=self.collate_fn, pin_memory=self.pin_memory,shuffle=False)\n",
    "    def test_dataloader(self):\n",
    "        return DataLoader(self.dataset, batch_size=self.batch_size,\n",
    "                          sampler=self.test_sampler, num_workers=self.num_workers,\n",
    "                          collate_fn=self.collate_fn, pin_memory=self.pin_memory,shuffle=False)\n",
    "    def predict_dataloader(self):\n",
    "        return DataLoader(self.dataset, batch_size=self.batch_size,\n",
    "                          sampler=self.test_sampler, num_workers=self.num_workers,\n",
    "                          collate_fn=self.collate_fn, pin_memory=self.pin_memory,shuffle=False)"
   ]
  },
  {
   "cell_type": "code",
   "execution_count": 20,
   "id": "64b9a5b3",
   "metadata": {},
   "outputs": [],
   "source": [
    "config={\n",
    "    'root_dir': 'data/energy_data/',\n",
    "    'train_ratio': 0.8,\n",
    "    'val_ratio':0.1,\n",
    "    'test_ratio':0.1,\n",
    "    'atom_fea_len': 64,\n",
    "    'n_conv': 3,\n",
    "    'h_fea_len': 128,\n",
    "    'n_h': 1,\n",
    "    'classification': False,\n",
    "    'batch_size': 256,\n",
    "    'base_lr': 0.01,\n",
    "    'momentum': 0.9,\n",
    "    'weight_decay': 0,\n",
    "    'dropout_fr': 0.1,\n",
    "    'optim': 'AdamW',\n",
    "    'pin_memory': True,\n",
    "}"
   ]
  },
  {
   "cell_type": "code",
   "execution_count": 21,
   "id": "c92376cd",
   "metadata": {},
   "outputs": [],
   "source": [
    "from cgcnn.model import CrystalGraphConvNet\n",
    "\n",
    "class CGCNNLightning(L.LightningModule):\n",
    "    def __init__(self, **config):\n",
    "        super().__init__()\n",
    "        # Saving hyperparameters\n",
    "        self.save_hyperparameters()\n",
    "        \n",
    "        self.dataset = CIFData(root_dir=config['root_dir'], max_num_nbr=12, radius=10, dmin=0, step=0.2, random_seed=123)\n",
    "        structures, _, _ = self.dataset[0]\n",
    "        orig_atom_fea_len = structures[0].shape[-1]\n",
    "        nbr_fea_len = structures[1].shape[-1]\n",
    "        \n",
    "        self.model=CrystalGraphConvNet(orig_atom_fea_len=orig_atom_fea_len,\n",
    "                                       nbr_fea_len=nbr_fea_len,\n",
    "                                       atom_fea_len=config['atom_fea_len'], \n",
    "                                       n_conv=config['n_conv'], \n",
    "                                       h_fea_len=config['h_fea_len'], \n",
    "                                       n_h=config['n_h'],\n",
    "                                       dropout_fr=config['dropout_fr'],\n",
    "                                       classification=config['classification'])\n",
    "\n",
    "        print(f'Model size: {count_parameters(self.model)} parameters\\n')\n",
    "\n",
    "        ### here we define some important parameters\n",
    "        self.batch_size=config['batch_size']\n",
    "        self.classification = config['classification']\n",
    "        self.base_lr=config['base_lr']\n",
    "        self.momentum=config['momentum']\n",
    "        self.decay=config['weight_decay']\n",
    "        \n",
    "        ### normalizer\n",
    "        if self.classification == True:\n",
    "            self.normalizer = Normalizer(torch.zeros(2))\n",
    "            self.normalizer.load_state_dict({'mean': 0., 'std': 1.})\n",
    "        else:\n",
    "            sample_data_list = [self.dataset[i] for i in sample(range(len(self.dataset)), 500)]\n",
    "            _, sample_target, _ = collate_pool(sample_data_list)\n",
    "            self.normalizer = Normalizer(sample_target)\n",
    "        \n",
    "        ### we also define loss function based on task\n",
    "        if self.classification:\n",
    "            print(\"Using BCE loss for classification task\")\n",
    "            self.criterion = BCEWithLogitsLoss\n",
    "        else:\n",
    "            # print(\"Using L1Loss loss for regression task\")\n",
    "            # self.criterion = L1Loss()\n",
    "            # print('Using MSELoss loss for regression task')\n",
    "            # self.criterion = MSELoss()\n",
    "            print('Using HuberLoss for regression task')\n",
    "            self.criterion = HuberLoss()\n",
    "\n",
    "    def forward(self, atom_fea, nbr_fea, nbr_fea_idx, crystal_atom_idx):\n",
    "        out=self.model(atom_fea, nbr_fea, nbr_fea_idx, crystal_atom_idx)\n",
    "        return out\n",
    "\n",
    "    def configure_optimizers(self):\n",
    "#         optimizer = optim.SGD(model.parameters(), self.base_lr,\n",
    "#                               momentum=self.momentum,\n",
    "#                               weight_decay=self.decay)\n",
    "        optimizer = optim.AdamW(model.parameters(), self.base_lr,\n",
    "                              weight_decay=self.decay)\n",
    "        # lr_scheduler=StepLR(optimizer,\n",
    "        #                     step_size=1,\n",
    "        #                     gamma=0.5)\n",
    "        \n",
    "        # return [optimizer], [lr_scheduler]\n",
    "        return [optimizer]\n",
    "\n",
    "    def training_step(self, batch, batch_idx):\n",
    "        graph, target, _ = batch\n",
    "        if not self.classification:\n",
    "            target_normed = self.normalizer.norm(target)\n",
    "        else:\n",
    "            target_normed = target.view(-1).long()\n",
    "        \n",
    "        input_var=(graph[0],graph[1],graph[2],graph[3])\n",
    "        \n",
    "        output = self(*input_var)\n",
    "        loss = self.criterion(output, target_normed)\n",
    "        self.log(\"train_loss\", loss, on_step=False, on_epoch=True, prog_bar=True, logger=True, batch_size=self.batch_size)\n",
    "        \n",
    "        if self.classification:\n",
    "            pass\n",
    "#             prediction = torch.sigmoid(prediction)\n",
    "#             y_pred = prediction.view(-1).detach().cpu().numpy() > 0.5\n",
    "            \n",
    "#             acc=balanced_accuracy_score(target_normed,y_pred)\n",
    "#             f1=f1_score(target_normed,y_pred,average='weighted')\n",
    "#             mc=matthews_corrcoef(target_normed,y_pred)\n",
    "            \n",
    "#             self.log(\"train_acc\", acc, on_step=False, on_epoch=True, prog_bar=True, logger=True, batch_size=self.batch_size)\n",
    "#             self.log(\"train_f1\", f1, on_step=False, on_epoch=True, prog_bar=False, logger=True, batch_size=self.batch_size)\n",
    "#             self.log(\"train_mc\", mc, on_step=False, on_epoch=True, prog_bar=False, logger=True, batch_size=self.batch_size)\n",
    "        else:\n",
    "            mse = mean_squared_error(target.cpu(),self.normalizer.denorm(output.data.cpu()))\n",
    "            mae = mean_absolute_error(target.cpu(),self.normalizer.denorm(output.data.cpu()))\n",
    "            self.log(\"train_mse\", float(mse), on_step=False, on_epoch=True, prog_bar=False, logger=True, batch_size=self.batch_size)\n",
    "            self.log(\"train_mae\", float(mae), on_step=False, on_epoch=True, prog_bar=True, logger=True, batch_size=self.batch_size)\n",
    "        return loss\n",
    "\n",
    "    def validation_step(self, batch, batch_idx):\n",
    "        graph, target, _ = batch\n",
    "        if not self.classification:\n",
    "            target_normed = self.normalizer.norm(target)\n",
    "        else:\n",
    "            target_normed = target.view(-1).long()\n",
    "        \n",
    "        input_var=(graph[0],graph[1],graph[2],graph[3])\n",
    "        \n",
    "        output = self(*input_var)\n",
    "        loss = self.criterion(output, target_normed)\n",
    "        self.log(\"val_loss\", loss, on_step=False, on_epoch=True, prog_bar=True, logger=True, batch_size=self.batch_size)\n",
    "        \n",
    "        if self.classification:\n",
    "            pass\n",
    "#             prediction = torch.sigmoid(prediction)\n",
    "#             y_pred = prediction.view(-1).detach().cpu().numpy() > 0.5\n",
    "            \n",
    "#             acc=balanced_accuracy_score(target_normed,y_pred)\n",
    "#             f1=f1_score(target_normed,y_pred,average='weighted')\n",
    "#             mc=matthews_corrcoef(target_normed,y_pred)\n",
    "            \n",
    "#             self.log(\"train_acc\", acc, on_step=False, on_epoch=True, prog_bar=True, logger=True, batch_size=self.batch_size)\n",
    "#             self.log(\"train_f1\", f1, on_step=False, on_epoch=True, prog_bar=False, logger=True, batch_size=self.batch_size)\n",
    "#             self.log(\"train_mc\", mc, on_step=False, on_epoch=True, prog_bar=False, logger=True, batch_size=self.batch_size)\n",
    "        else:\n",
    "            mse = mean_squared_error(target.cpu(),self.normalizer.denorm(output.data.cpu()))\n",
    "            mae = mean_absolute_error(target.cpu(),self.normalizer.denorm(output.data.cpu()))\n",
    "            self.log(\"val_mse\", float(mse), on_step=False, on_epoch=True, prog_bar=False, logger=True, batch_size=self.batch_size)\n",
    "            self.log(\"val_mae\", float(mae), on_step=False, on_epoch=True, prog_bar=True, logger=True, batch_size=self.batch_size)\n",
    "        return loss\n",
    "     \n",
    "    def test_step(self, batch, batch_idx):\n",
    "        graph, target, _ = batch\n",
    "        if not self.classification:\n",
    "            target_normed = self.normalizer.norm(target)\n",
    "        else:\n",
    "            target_normed = target.view(-1).long()\n",
    "        \n",
    "        input_var=(graph[0],graph[1],graph[2],graph[3])\n",
    "        \n",
    "        output = self(*input_var)\n",
    "        \n",
    "        if self.classification:\n",
    "            pass\n",
    "        else:\n",
    "            mse = mean_squared_error(target,self.normalizer.denorm(output.data.cpu()))\n",
    "            mae = mean_absolute_error(target,self.normalizer.denorm(output.data.cpu()))\n",
    "            self.log(\"test_mse\", float(mse), on_step=False, on_epoch=True, prog_bar=False, logger=True, batch_size=self.batch_size)\n",
    "            self.log(\"test_mae\", float(mae), on_step=False, on_epoch=True, prog_bar=True, logger=True, batch_size=self.batch_size)\n",
    "        return \n",
    "    \n",
    "    def predict_step(self, batch, batch_idx, dataloader_idx=0):\n",
    "        graph, target, idx = batch\n",
    "        if not self.classification:\n",
    "            target_normed = self.normalizer.norm(target)\n",
    "        else:\n",
    "            target_normed = target.view(-1).long()\n",
    "        \n",
    "        input_var=(graph[0],graph[1],graph[2],graph[3])\n",
    "        \n",
    "        output = self(*input_var)\n",
    "        if self.classification:\n",
    "            pass\n",
    "            return \n",
    "        else:\n",
    "            graph, target, _ = batch\n",
    "        if self.classification:\n",
    "            target_normed = self.normalizer.norm(target)\n",
    "        else:\n",
    "            target_normed = target.view(-1).long()\n",
    "        \n",
    "        input_var=(graph[0],graph[1],graph[2],graph[3])\n",
    "        output = self(*input_var)\n",
    "        \n",
    "        if self.classification:\n",
    "            pass\n",
    "            return\n",
    "        else:\n",
    "            return self.normalizer.denorm(output.data.cpu()), target, idx\n"
   ]
  },
  {
   "cell_type": "code",
   "execution_count": 24,
   "id": "dbb2a8c0",
   "metadata": {},
   "outputs": [],
   "source": [
    "config={\n",
    "    'root_dir': 'data/cgcnn_data/',\n",
    "    'train_ratio': 0.8,\n",
    "    'val_ratio':0.1,\n",
    "    'test_ratio':0.1,\n",
    "    'atom_fea_len': 64,\n",
    "    'n_conv': 3,\n",
    "    'h_fea_len': 128,\n",
    "    'n_h': 1,\n",
    "    'classification': False,\n",
    "    'batch_size': 128,\n",
    "    'base_lr': 0.01,\n",
    "    'momentum': 0.9,\n",
    "    'weight_decay': 0,\n",
    "    'optim': 'AdamW',\n",
    "    'pin_memory': True,\n",
    "    'patience': 100,\n",
    "    'dropout_fr':0.1,\n",
    "}"
   ]
  },
  {
   "cell_type": "code",
   "execution_count": 25,
   "id": "d18533c2",
   "metadata": {},
   "outputs": [],
   "source": [
    "data=CGCNNDataModule(root_dir='data/cgcnn_data/', train_ratio=0.8, val_ratio=0.1, test_ratio=0.1)"
   ]
  },
  {
   "cell_type": "code",
   "execution_count": 26,
   "id": "e7a3e3a1",
   "metadata": {},
   "outputs": [
    {
     "name": "stdout",
     "output_type": "stream",
     "text": [
      "Model size: 84673 parameters\n",
      "\n"
     ]
    },
    {
     "name": "stderr",
     "output_type": "stream",
     "text": [
      "/home/xyq44482/Documents/CGCNN/cgcnn/data.py:333: UserWarning: 54049 not find enough neighbors to build graph. If it happens frequently, consider increase radius.\n",
      "  warnings.warn('{} not find enough neighbors to build graph. '\n"
     ]
    },
    {
     "name": "stdout",
     "output_type": "stream",
     "text": [
      "Using HuberLoss for regression task\n"
     ]
    }
   ],
   "source": [
    "model = CGCNNLightning(**config)"
   ]
  },
  {
   "cell_type": "code",
   "execution_count": 27,
   "id": "112bd5fd",
   "metadata": {},
   "outputs": [
    {
     "name": "stderr",
     "output_type": "stream",
     "text": [
      "GPU available: True (cuda), used: True\n",
      "TPU available: False, using: 0 TPU cores\n",
      "HPU available: False, using: 0 HPUs\n"
     ]
    }
   ],
   "source": [
    "trainer = Trainer(max_epochs=1000,accelerator='gpu', devices=1, \n",
    "                  callbacks=[EarlyStopping(monitor='val_loss', patience=config['patience']), \n",
    "                             ModelCheckpoint(monitor='val_mae', mode=\"min\", \n",
    "                                dirpath='cgcnn_models/cgcnn_trained_models/', filename='eform-{epoch:02d}-{val_acc:.2f}')])"
   ]
  },
  {
   "cell_type": "code",
   "execution_count": null,
   "id": "eed30abf",
   "metadata": {},
   "outputs": [
    {
     "name": "stderr",
     "output_type": "stream",
     "text": [
      "/home/xyq44482/micromamba/envs/llm/lib/python3.11/site-packages/pytorch_lightning/callbacks/model_checkpoint.py:654: Checkpoint directory /home/xyq44482/Documents/CGCNN/cgcnn_models/cgcnn_trained_models exists and is not empty.\n",
      "LOCAL_RANK: 0 - CUDA_VISIBLE_DEVICES: [0]\n",
      "\n",
      "  | Name      | Type                | Params | Mode \n",
      "----------------------------------------------------------\n",
      "0 | model     | CrystalGraphConvNet | 84.7 K | train\n",
      "1 | criterion | HuberLoss           | 0      | train\n",
      "----------------------------------------------------------\n",
      "84.7 K    Trainable params\n",
      "0         Non-trainable params\n",
      "84.7 K    Total params\n",
      "0.339     Total estimated model params size (MB)\n",
      "28        Modules in train mode\n",
      "0         Modules in eval mode\n"
     ]
    },
    {
     "data": {
      "application/vnd.jupyter.widget-view+json": {
       "model_id": "",
       "version_major": 2,
       "version_minor": 0
      },
      "text/plain": [
       "Sanity Checking: |                                        | 0/? [00:00<?, ?it/s]"
      ]
     },
     "metadata": {},
     "output_type": "display_data"
    },
    {
     "name": "stderr",
     "output_type": "stream",
     "text": [
      "/home/xyq44482/micromamba/envs/llm/lib/python3.11/site-packages/pytorch_lightning/trainer/connectors/data_connector.py:425: The 'val_dataloader' does not have many workers which may be a bottleneck. Consider increasing the value of the `num_workers` argument` to `num_workers=27` in the `DataLoader` to improve performance.\n",
      "/home/xyq44482/micromamba/envs/llm/lib/python3.11/site-packages/pytorch_lightning/trainer/connectors/data_connector.py:425: The 'train_dataloader' does not have many workers which may be a bottleneck. Consider increasing the value of the `num_workers` argument` to `num_workers=27` in the `DataLoader` to improve performance.\n"
     ]
    },
    {
     "data": {
      "application/vnd.jupyter.widget-view+json": {
       "model_id": "9ff1ab2529c24acd9341c669756c74bd",
       "version_major": 2,
       "version_minor": 0
      },
      "text/plain": [
       "Training: |                                               | 0/? [00:00<?, ?it/s]"
      ]
     },
     "metadata": {},
     "output_type": "display_data"
    },
    {
     "name": "stderr",
     "output_type": "stream",
     "text": [
      "/home/xyq44482/Documents/CGCNN/cgcnn/data.py:333: UserWarning: 61265 not find enough neighbors to build graph. If it happens frequently, consider increase radius.\n",
      "  warnings.warn('{} not find enough neighbors to build graph. '\n",
      "/home/xyq44482/micromamba/envs/llm/lib/python3.11/site-packages/pymatgen/core/periodic_table.py:289: UserWarning: No Pauling electronegativity for Ar. Setting to NaN. This has no physical meaning, and is mainly done to avoid errors caused by the code expecting a float.\n",
      "  warnings.warn(\n",
      "/home/xyq44482/micromamba/envs/llm/lib/python3.11/site-packages/pymatgen/core/periodic_table.py:289: UserWarning: No Pauling electronegativity for Ne. Setting to NaN. This has no physical meaning, and is mainly done to avoid errors caused by the code expecting a float.\n",
      "  warnings.warn(\n",
      "/home/xyq44482/Documents/CGCNN/cgcnn/data.py:333: UserWarning: 28778 not find enough neighbors to build graph. If it happens frequently, consider increase radius.\n",
      "  warnings.warn('{} not find enough neighbors to build graph. '\n",
      "/home/xyq44482/Documents/CGCNN/cgcnn/data.py:333: UserWarning: 28870 not find enough neighbors to build graph. If it happens frequently, consider increase radius.\n",
      "  warnings.warn('{} not find enough neighbors to build graph. '\n",
      "/home/xyq44482/micromamba/envs/llm/lib/python3.11/site-packages/pymatgen/core/periodic_table.py:289: UserWarning: No Pauling electronegativity for He. Setting to NaN. This has no physical meaning, and is mainly done to avoid errors caused by the code expecting a float.\n",
      "  warnings.warn(\n",
      "/home/xyq44482/Documents/CGCNN/cgcnn/data.py:333: UserWarning: 54312 not find enough neighbors to build graph. If it happens frequently, consider increase radius.\n",
      "  warnings.warn('{} not find enough neighbors to build graph. '\n",
      "/home/xyq44482/Documents/CGCNN/cgcnn/data.py:333: UserWarning: 63277 not find enough neighbors to build graph. If it happens frequently, consider increase radius.\n",
      "  warnings.warn('{} not find enough neighbors to build graph. '\n",
      "/home/xyq44482/Documents/CGCNN/cgcnn/data.py:333: UserWarning: 15295 not find enough neighbors to build graph. If it happens frequently, consider increase radius.\n",
      "  warnings.warn('{} not find enough neighbors to build graph. '\n",
      "/home/xyq44482/Documents/CGCNN/cgcnn/data.py:333: UserWarning: 28062 not find enough neighbors to build graph. If it happens frequently, consider increase radius.\n",
      "  warnings.warn('{} not find enough neighbors to build graph. '\n",
      "/home/xyq44482/Documents/CGCNN/cgcnn/data.py:333: UserWarning: 67269 not find enough neighbors to build graph. If it happens frequently, consider increase radius.\n",
      "  warnings.warn('{} not find enough neighbors to build graph. '\n",
      "/home/xyq44482/Documents/CGCNN/cgcnn/data.py:333: UserWarning: 48801 not find enough neighbors to build graph. If it happens frequently, consider increase radius.\n",
      "  warnings.warn('{} not find enough neighbors to build graph. '\n",
      "/home/xyq44482/micromamba/envs/llm/lib/python3.11/site-packages/pymatgen/io/cif.py:1290: UserWarning: Issues encountered while parsing CIF: 1 fractional coordinates rounded to ideal values to avoid issues with finite precision.\n",
      "  warnings.warn(\"Issues encountered while parsing CIF: \" + \"\\n\".join(self.warnings))\n",
      "/home/xyq44482/Documents/CGCNN/cgcnn/data.py:333: UserWarning: 28364 not find enough neighbors to build graph. If it happens frequently, consider increase radius.\n",
      "  warnings.warn('{} not find enough neighbors to build graph. '\n",
      "/home/xyq44482/Documents/CGCNN/cgcnn/data.py:333: UserWarning: 61218 not find enough neighbors to build graph. If it happens frequently, consider increase radius.\n",
      "  warnings.warn('{} not find enough neighbors to build graph. '\n",
      "/home/xyq44482/Documents/CGCNN/cgcnn/data.py:333: UserWarning: 54157 not find enough neighbors to build graph. If it happens frequently, consider increase radius.\n",
      "  warnings.warn('{} not find enough neighbors to build graph. '\n",
      "/home/xyq44482/Documents/CGCNN/cgcnn/data.py:333: UserWarning: 15237 not find enough neighbors to build graph. If it happens frequently, consider increase radius.\n",
      "  warnings.warn('{} not find enough neighbors to build graph. '\n",
      "/home/xyq44482/Documents/CGCNN/cgcnn/data.py:333: UserWarning: 15442 not find enough neighbors to build graph. If it happens frequently, consider increase radius.\n",
      "  warnings.warn('{} not find enough neighbors to build graph. '\n",
      "/home/xyq44482/micromamba/envs/llm/lib/python3.11/site-packages/pymatgen/io/cif.py:1290: UserWarning: Issues encountered while parsing CIF: 2 fractional coordinates rounded to ideal values to avoid issues with finite precision.\n",
      "  warnings.warn(\"Issues encountered while parsing CIF: \" + \"\\n\".join(self.warnings))\n",
      "/home/xyq44482/Documents/CGCNN/cgcnn/data.py:333: UserWarning: 59589 not find enough neighbors to build graph. If it happens frequently, consider increase radius.\n",
      "  warnings.warn('{} not find enough neighbors to build graph. '\n",
      "/home/xyq44482/Documents/CGCNN/cgcnn/data.py:333: UserWarning: 66613 not find enough neighbors to build graph. If it happens frequently, consider increase radius.\n",
      "  warnings.warn('{} not find enough neighbors to build graph. '\n",
      "/home/xyq44482/Documents/CGCNN/cgcnn/data.py:333: UserWarning: 26051 not find enough neighbors to build graph. If it happens frequently, consider increase radius.\n",
      "  warnings.warn('{} not find enough neighbors to build graph. '\n",
      "/home/xyq44482/Documents/CGCNN/cgcnn/data.py:333: UserWarning: 28550 not find enough neighbors to build graph. If it happens frequently, consider increase radius.\n",
      "  warnings.warn('{} not find enough neighbors to build graph. '\n"
     ]
    }
   ],
   "source": [
    "trainer.fit(model, datamodule=data)"
   ]
  },
  {
   "cell_type": "code",
   "execution_count": 12,
   "id": "4aa58487",
   "metadata": {
    "scrolled": true
   },
   "outputs": [
    {
     "name": "stderr",
     "output_type": "stream",
     "text": [
      "Restoring states from the checkpoint path at /home/xyq44482/Documents/CGCNN/cgcnn_models/cgcnn_trained_models/eform-epoch=181-val_acc=0.00.ckpt\n",
      "LOCAL_RANK: 0 - CUDA_VISIBLE_DEVICES: [0]\n",
      "Loaded model weights from the checkpoint at /home/xyq44482/Documents/CGCNN/cgcnn_models/cgcnn_trained_models/eform-epoch=181-val_acc=0.00.ckpt\n",
      "/home/xyq44482/micromamba/envs/llm/lib/python3.11/site-packages/pytorch_lightning/trainer/connectors/data_connector.py:425: The 'predict_dataloader' does not have many workers which may be a bottleneck. Consider increasing the value of the `num_workers` argument` to `num_workers=27` in the `DataLoader` to improve performance.\n"
     ]
    },
    {
     "data": {
      "application/vnd.jupyter.widget-view+json": {
       "model_id": "5fc20ebc8f324df9bb623fd1d353a481",
       "version_major": 2,
       "version_minor": 0
      },
      "text/plain": [
       "Predicting: |                                             | 0/? [00:00<?, ?it/s]"
      ]
     },
     "metadata": {},
     "output_type": "display_data"
    },
    {
     "name": "stderr",
     "output_type": "stream",
     "text": [
      "/home/xyq44482/Documents/CGCNN/cgcnn/data.py:333: UserWarning: 39818 not find enough neighbors to build graph. If it happens frequently, consider increase radius.\n",
      "  warnings.warn('{} not find enough neighbors to build graph. '\n",
      "/home/xyq44482/Documents/CGCNN/cgcnn/data.py:333: UserWarning: 54442 not find enough neighbors to build graph. If it happens frequently, consider increase radius.\n",
      "  warnings.warn('{} not find enough neighbors to build graph. '\n",
      "/home/xyq44482/Documents/CGCNN/cgcnn/data.py:333: UserWarning: 39503 not find enough neighbors to build graph. If it happens frequently, consider increase radius.\n",
      "  warnings.warn('{} not find enough neighbors to build graph. '\n",
      "/home/xyq44482/Documents/CGCNN/cgcnn/data.py:333: UserWarning: 66496 not find enough neighbors to build graph. If it happens frequently, consider increase radius.\n",
      "  warnings.warn('{} not find enough neighbors to build graph. '\n",
      "/home/xyq44482/Documents/CGCNN/cgcnn/data.py:333: UserWarning: 50256 not find enough neighbors to build graph. If it happens frequently, consider increase radius.\n",
      "  warnings.warn('{} not find enough neighbors to build graph. '\n",
      "/home/xyq44482/Documents/CGCNN/cgcnn/data.py:333: UserWarning: 59910 not find enough neighbors to build graph. If it happens frequently, consider increase radius.\n",
      "  warnings.warn('{} not find enough neighbors to build graph. '\n",
      "/home/xyq44482/Documents/CGCNN/cgcnn/data.py:333: UserWarning: 53625 not find enough neighbors to build graph. If it happens frequently, consider increase radius.\n",
      "  warnings.warn('{} not find enough neighbors to build graph. '\n",
      "/home/xyq44482/Documents/CGCNN/cgcnn/data.py:333: UserWarning: 29407 not find enough neighbors to build graph. If it happens frequently, consider increase radius.\n",
      "  warnings.warn('{} not find enough neighbors to build graph. '\n",
      "/home/xyq44482/Documents/CGCNN/cgcnn/data.py:333: UserWarning: 54075 not find enough neighbors to build graph. If it happens frequently, consider increase radius.\n",
      "  warnings.warn('{} not find enough neighbors to build graph. '\n"
     ]
    }
   ],
   "source": [
    "n1,n2,n3 = trainer.predict(ckpt_path='best', datamodule=data)[0]"
   ]
  },
  {
   "cell_type": "code",
   "execution_count": 13,
   "id": "fe11e9b3",
   "metadata": {},
   "outputs": [
    {
     "data": {
      "image/png": "[encoded data removed]",
      "text/plain": [
       "<Figure size 640x480 with 1 Axes>"
      ]
     },
     "metadata": {},
     "output_type": "display_data"
    }
   ],
   "source": [
    "import matplotlib.pyplot as plt\n",
    "\n",
    "plt.scatter(n1,n2)\n",
    "plt.plot([-4,4],[-4,4],color='red')\n",
    "plt.show()"
   ]
  },
  {
   "cell_type": "code",
   "execution_count": 14,
   "id": "254d6bad",
   "metadata": {},
   "outputs": [
    {
     "data": {
      "text/plain": [
       "(0.9533261064584416, 0.11554114058594678)"
      ]
     },
     "execution_count": 14,
     "metadata": {},
     "output_type": "execute_result"
    }
   ],
   "source": [
    "from sklearn.metrics import r2_score, mean_absolute_error\n",
    "\n",
    "r2_score(n2,n1), mean_absolute_error(n2,n1)"
   ]
  },
  {
   "cell_type": "code",
   "execution_count": null,
   "id": "1880ebf7",
   "metadata": {},
   "outputs": [],
   "source": []
  },
  {
   "cell_type": "code",
   "execution_count": null,
   "id": "d0d52da5",
   "metadata": {},
   "outputs": [],
   "source": []
  },
  {
   "cell_type": "code",
   "execution_count": null,
   "id": "0f6c108b",
   "metadata": {},
   "outputs": [],
   "source": []
  }
 ],
 "metadata": {
  "kernelspec": {
   "display_name": "Python 3 (ipykernel)",
   "language": "python",
   "name": "python3"
  },
  "language_info": {
   "codemirror_mode": {
    "name": "ipython",
    "version": 3
   },
   "file_extension": ".py",
   "mimetype": "text/x-python",
   "name": "python",
   "nbconvert_exporter": "python",
   "pygments_lexer": "ipython3",
   "version": "3.12.7"
  }
 },
 "nbformat": 4,
 "nbformat_minor": 5
}
