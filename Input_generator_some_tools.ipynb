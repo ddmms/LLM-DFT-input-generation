{
 "cells": [
  {
   "attachments": {},
   "cell_type": "markdown",
   "id": "6c95755d-f373-4b0f-996b-7d34cbb1dee0",
   "metadata": {},
   "source": [
    "# Tools test"
   ]
  },
  {
   "cell_type": "code",
   "execution_count": 1,
   "id": "78bffdb4-d244-4799-b5f9-ef11b05fc965",
   "metadata": {},
   "outputs": [],
   "source": [
    "import numpy as np\n",
    "import pandas as pd\n",
    "import math\n",
    "import json\n",
    "import re\n",
    "import os\n",
    "from pymatgen.core.structure import Structure\n",
    "from pymatgen.symmetry.analyzer import SpacegroupAnalyzer\n",
    "from dotenv import load_dotenv\n",
    "from pymatgen.core.composition import Composition"
   ]
  },
  {
   "cell_type": "code",
   "execution_count": 2,
   "id": "b7277f5a-e859-41c0-ab98-02d782f9d1b6",
   "metadata": {},
   "outputs": [],
   "source": [
    "from langchain_openai import ChatOpenAI\n",
    "from langchain_core.prompts import ChatPromptTemplate\n",
    "\n",
    "OPENAI_MODEL=\"gpt-4o\" # \"gpt-3.5-turbo\", \"gpt-4o-mini\", \"gpt-4o\"\n",
    "# see the list of availible models https://platform.openai.com/docs/models\n",
    "load_dotenv()\n",
    "openai_api_key = os.environ.get('OPENAI_API_KEY')"
   ]
  },
  {
   "cell_type": "code",
   "execution_count": 75,
   "id": "8a5aba2f-1ea0-4f14-b7a0-6162318b0dc7",
   "metadata": {},
   "outputs": [],
   "source": [
    "from typing import Annotated, TypedDict\n",
    "from langchain.agents import tool\n",
    "\n",
    "@tool\n",
    "def dir_name(pseudo_potentials: str,\n",
    "             functional: str, \n",
    "             mode: str) -> str:\n",
    "    '''\n",
    "    Function to determine the path to the folder with the correct pseudopotentials\n",
    "    Args: \n",
    "         pseudo_potentials: str, name of the parent forlder with pseudopotentials\n",
    "         functional: str, name of the DFT functional\n",
    "         mode: str, mode for pseudopotential, list of possible values: [\"efficiency\", \"precision\"]\n",
    "    '''\n",
    "    list_of_subfolders=os.listdir(pseudo_potentials)\n",
    "    for subfolder in list_of_subfolders:\n",
    "        if(re.search(functional.lower()+\"_\", subfolder.lower()) and re.search(mode.lower(), subfolder.lower())):\n",
    "            return pseudo_potentials+subfolder+\"/\"\n",
    "\n",
    "@tool\n",
    "def list_of_pseudos(pseudo_potentials: str, \n",
    "                    functional: str,\n",
    "                    mode: str, \n",
    "                    compound: str) -> list:\n",
    "    '''\n",
    "    Function to determine the list of names of files with pseudopotentials for the compound\n",
    "    Args:\n",
    "        pseudo_potentials: str, name of the parent forlder with pseudopotentials\n",
    "        functional: str, name of the DFT functional\n",
    "        mode: str, mode for pseudopotential, list of possible values: [\"efficiency\", \"precision\"]\n",
    "        compound: str, composition of the compound\n",
    "    '''\n",
    "    list_of_subfolders=os.listdir(pseudo_potentials)\n",
    "    for subfolder in list_of_subfolders:\n",
    "        if(re.search(functional.lower()+\"_\", subfolder.lower()) and re.search(mode.lower(), subfolder.lower())):\n",
    "            list_of_files=os.listdir(pseudo_potentials+subfolder+\"/\")\n",
    "    list_of_element_files=[]\n",
    "    for file in list_of_files:\n",
    "        for element in Composition(compound).elements:\n",
    "            element=str(element).lower()\n",
    "            if(file[:len(element)].lower()==element and not file[len(element):len(element)+1].lower().isalpha()):\n",
    "                list_of_element_files.append(file)\n",
    "                \n",
    "    return list_of_element_files\n",
    "\n",
    "@tool\n",
    "def cutoff_limits(pseudo_potentials_cutoffs: str, \n",
    "                  functional: str,\n",
    "                  mode: str,\n",
    "                  compound: str) -> Dict:\n",
    "    '''\n",
    "    Function to determine the maximum energy cutoff and density cutoff possible based on cutoff values specified for pseudopotentials\n",
    "    Args:\n",
    "        pseudo_potentials_cutoffs: str, the main folder with pseudopotential cutoffs\n",
    "        functional: str, name of the DFT functional\n",
    "        mode: str, mode for pseudopotential, list of possible values: [\"efficiency\", \"precision\"]\n",
    "        compound: str, composition of the compound\n",
    "    Output:\n",
    "        Dictionary with keys 'max_ecutwfc' and 'max_ecutrho' and float values\n",
    "    '''\n",
    "    list_of_cutoff_files=os.listdir(pseudo_potentials_cutoffs)\n",
    "    for file in list_of_cutoff_files:\n",
    "        if(re.search(functional.lower()+\"_\", file.lower()) and re.search(mode.lower(), file.lower())):\n",
    "            try:\n",
    "                with open(pseudo_potentials_cutoffs+file, \"r\") as f:\n",
    "                    cutoffs=json.load(f)\n",
    "            except:\n",
    "                cutoffs={}\n",
    "    elements=[str(el) for el in Composition(compound).elements]\n",
    "    if(cutoffs!={}):\n",
    "        subset={key:cutoffs[key] for key in elements}\n",
    "        encutoffs=[subset[i]['cutoff_wfc'] for i in subset.keys()]\n",
    "        rhocutoffs=[subset[i]['cutoff_rho'] for i in subset.keys()]\n",
    "        max_ecutoff=min(encutoffs)\n",
    "        max_rhocutoff=min(rhocutoffs)\n",
    "    else:\n",
    "        max_ecutoff=np.nan\n",
    "        max_rhocutoff=np.nan\n",
    "    return { 'max_ecutwfc': max_ecutoff, 'max_ecutrho': max_rhocutoff}\n",
    "\n",
    "def generate_kpoints_grid(lattice, k_density):\n",
    "    #kpoints = Kpoints.automatic_density(lattice, k_density)\n",
    "    kpoints = [math.ceil(k_density/x) for x in lattice.abc]\n",
    "    kpoints.extend([0,0,0])\n",
    "    return points\n",
    "\n",
    "def get_structure(cif_file, primitive=False):\n",
    "    struct = Structure.from_file(cif_file)\n",
    "    compound=Structure.from_file(cif_file).formula\n",
    "    if(not primitive):\n",
    "        return str(struct), compound\n",
    "    else:\n",
    "        primitive=SpacegroupAnalyzer(struct)\n",
    "        primitive=primitive.get_primitive_standard_structure()\n",
    "        compound=primitive.formula\n",
    "        return str(primitive), compound\n"
   ]
  },
  {
   "cell_type": "code",
   "execution_count": 76,
   "id": "c92de4a0-eb0c-46b3-9165-9001b5273052",
   "metadata": {},
   "outputs": [],
   "source": [
    "llm = ChatOpenAI(model=OPENAI_MODEL)\n",
    "llm_with_tools = llm.bind_tools([dir_name,list_of_pseudos,cutoff_limits])"
   ]
  },
  {
   "cell_type": "code",
   "execution_count": 77,
   "id": "80035c9b-468f-475a-916b-4b1207c433e4",
   "metadata": {},
   "outputs": [],
   "source": [
    "output_dir=\"generated_files/\"\n",
    "structure_dir=\"structure_files/\"\n",
    "pseudo_potentials_folder = \"pseudo/\"\n",
    "pseudo_potentials_cutoffs_folder = \"pseudo_cutoffs/\"\n",
    "compound = \"NaCl\"\n",
    "cif_file=structure_dir+\"ICSD_CollCode51182.cif\"\n",
    "functional = \"PBE\" # the available values are \"PBE\" and \"PBESol\"\n",
    "mode = \"efficiency\" # the available values \"efficiency\" and \"precision\""
   ]
  },
  {
   "cell_type": "code",
   "execution_count": null,
   "id": "650151c4-839f-41ae-81c6-1e84da62ac26",
   "metadata": {},
   "outputs": [],
   "source": [
    "try:\n",
    "    compound = Structure.from_file(cif_file).formula\n",
    "except: \n",
    "    pass"
   ]
  },
  {
   "cell_type": "code",
   "execution_count": 78,
   "id": "f88b9743-8ad3-4911-8f4c-fb6890d436a7",
   "metadata": {},
   "outputs": [],
   "source": [
    "from langchain_core.prompts import ChatPromptTemplate\n",
    "prompt = ChatPromptTemplate.from_messages(\n",
    "    [\n",
    "        (\n",
    "            \"human\", \"Can you determine the directory with pseudopotentials for NaCl for {functional} functional and {mode} mode? \\\n",
    "            The main directory name is {pseudo_potentials_folder}\"\n",
    "        ),\n",
    "    ]\n",
    ")"
   ]
  },
  {
   "cell_type": "code",
   "execution_count": 79,
   "id": "7223f1de-2430-4453-9af3-c40e955b6692",
   "metadata": {},
   "outputs": [],
   "source": [
    "chain = prompt | llm_with_tools"
   ]
  },
  {
   "cell_type": "code",
   "execution_count": 80,
   "id": "d885e4d2-1c90-4037-a347-970f044505c1",
   "metadata": {},
   "outputs": [],
   "source": [
    "tool_call = chain.invoke(\n",
    "    { \n",
    "        \"compound\": compound,\n",
    "        \"pseudo_potentials_folder\": pseudo_potentials_folder,\n",
    "        \"mode\": mode,\n",
    "        \"functional\": functional, \n",
    "    }\n",
    ")"
   ]
  },
  {
   "cell_type": "code",
   "execution_count": 81,
   "id": "1835e0ab-3af1-41d7-9a1d-5127dc14b369",
   "metadata": {},
   "outputs": [
    {
     "data": {
      "text/plain": [
       "[{'id': 'call_pvwX4OPCCeK9YWSP4QYEC2Ih',\n",
       "  'function': {'arguments': '{\"pseudo_potentials\":\"pseudo/\",\"functional\":\"PBE\",\"mode\":\"efficiency\"}',\n",
       "   'name': 'dir_name'},\n",
       "  'type': 'function'}]"
      ]
     },
     "execution_count": 81,
     "metadata": {},
     "output_type": "execute_result"
    }
   ],
   "source": [
    "tool_call.additional_kwargs['tool_calls']"
   ]
  },
  {
   "cell_type": "code",
   "execution_count": 82,
   "id": "bd57adc7-89ea-4a94-8dd9-efbeea911cf3",
   "metadata": {},
   "outputs": [
    {
     "data": {
      "text/plain": [
       "[{'id': 'call_oL4VuprgEcFIXK0L6vbsOXiR',\n",
       "  'function': {'arguments': '{\"pseudo_potentials_cutoffs\":\"pseudo_cutoffs\",\"functional\":\"PBE\",\"mode\":\"efficiency\",\"compound\":\"NaCl\"}',\n",
       "   'name': 'cutoff_limits'},\n",
       "  'type': 'function'}]"
      ]
     },
     "execution_count": 82,
     "metadata": {},
     "output_type": "execute_result"
    }
   ],
   "source": [
    "from langchain_core.prompts import ChatPromptTemplate\n",
    "prompt = ChatPromptTemplate.from_messages(\n",
    "    [\n",
    "        (\n",
    "            \"human\", \"Can you determine the maximum energy and density cutoffs for NaCl for {functional} functional and {mode} mode? \\\n",
    "            The directory with cutoffs is {pseudo_potentials_cutoffs}.\"\n",
    "        ),\n",
    "    ]\n",
    ")\n",
    "chain = prompt | llm_with_tools\n",
    "tool_call = chain.invoke(\n",
    "    { \n",
    "        \"compound\": compound,\n",
    "        \"pseudo_potentials_cutoffs\": pseudo_potentials_cutoffs_folder,\n",
    "        \"mode\": mode,\n",
    "        \"functional\": functional, \n",
    "    }\n",
    ")\n",
    "tool_call.additional_kwargs['tool_calls']"
   ]
  },
  {
   "cell_type": "code",
   "execution_count": null,
   "id": "bf3f131b-e7c3-47dd-b9f4-bacc6ead5569",
   "metadata": {},
   "outputs": [],
   "source": []
  },
  {
   "cell_type": "code",
   "execution_count": null,
   "id": "d45e0f64-e69a-48c8-84f2-6516bde960ad",
   "metadata": {},
   "outputs": [],
   "source": []
  },
  {
   "cell_type": "code",
   "execution_count": null,
   "id": "a81ba56f-ee24-453c-bcb2-0e99df4fc7f4",
   "metadata": {},
   "outputs": [],
   "source": []
  },
  {
   "cell_type": "code",
   "execution_count": null,
   "id": "bb61f224-f5bb-40c7-88a9-1c33dc3b3022",
   "metadata": {},
   "outputs": [],
   "source": []
  },
  {
   "cell_type": "code",
   "execution_count": null,
   "id": "7e6cf337-7cb2-4d58-a079-420431f0b279",
   "metadata": {},
   "outputs": [],
   "source": []
  },
  {
   "cell_type": "code",
   "execution_count": null,
   "id": "1359ae3e-de60-4a46-a48c-a3c4ec5fd747",
   "metadata": {},
   "outputs": [],
   "source": []
  },
  {
   "cell_type": "code",
   "execution_count": null,
   "id": "44ed4a14-f73a-4015-89f1-ab4592cd9fe7",
   "metadata": {},
   "outputs": [],
   "source": []
  },
  {
   "cell_type": "code",
   "execution_count": null,
   "id": "ec3731e0-4e9a-4dcf-aead-4bf6b670d6d6",
   "metadata": {},
   "outputs": [],
   "source": []
  },
  {
   "cell_type": "code",
   "execution_count": null,
   "id": "6f94532f-b4cb-49a8-8ae9-3879b8079403",
   "metadata": {},
   "outputs": [],
   "source": []
  },
  {
   "cell_type": "code",
   "execution_count": null,
   "id": "3de75f2b-b2fb-4123-a88a-a7b5e299f69e",
   "metadata": {},
   "outputs": [],
   "source": []
  },
  {
   "cell_type": "code",
   "execution_count": null,
   "id": "6db21a6f-841d-4c05-aa2f-1e46da6871b3",
   "metadata": {},
   "outputs": [],
   "source": []
  },
  {
   "cell_type": "code",
   "execution_count": null,
   "id": "aaed74e3-7b81-452f-88a5-692f0c098773",
   "metadata": {},
   "outputs": [],
   "source": []
  },
  {
   "cell_type": "code",
   "execution_count": null,
   "id": "adae47a3-c6c5-4d5e-8d90-5beac1a39b7f",
   "metadata": {},
   "outputs": [],
   "source": []
  },
  {
   "cell_type": "code",
   "execution_count": null,
   "id": "64bcf431-ff21-46e4-b3a7-3373ce7176df",
   "metadata": {},
   "outputs": [],
   "source": []
  },
  {
   "cell_type": "code",
   "execution_count": null,
   "id": "5d5fd44f-2176-427f-a8ce-7166048f5f58",
   "metadata": {},
   "outputs": [],
   "source": []
  },
  {
   "cell_type": "code",
   "execution_count": null,
   "id": "a9df18e1-e997-46ac-87a5-6f2e19098c93",
   "metadata": {},
   "outputs": [],
   "source": []
  },
  {
   "cell_type": "code",
   "execution_count": null,
   "id": "54838892-a5d5-490a-8060-1eacb74fdb7f",
   "metadata": {},
   "outputs": [],
   "source": []
  },
  {
   "cell_type": "code",
   "execution_count": null,
   "id": "8f26bfa6-8d03-44d4-9c53-e8e16c2be3da",
   "metadata": {},
   "outputs": [],
   "source": []
  },
  {
   "cell_type": "code",
   "execution_count": null,
   "id": "3da99037-c48b-49fe-a8e4-6af6621c49e7",
   "metadata": {},
   "outputs": [],
   "source": []
  },
  {
   "cell_type": "code",
   "execution_count": null,
   "id": "311fbae3",
   "metadata": {},
   "outputs": [],
   "source": []
  }
 ],
 "metadata": {
  "kernelspec": {
   "display_name": "Python 3 (ipykernel)",
   "language": "python",
   "name": "python3"
  },
  "language_info": {
   "codemirror_mode": {
    "name": "ipython",
    "version": 3
   },
   "file_extension": ".py",
   "mimetype": "text/x-python",
   "name": "python",
   "nbconvert_exporter": "python",
   "pygments_lexer": "ipython3",
   "version": "3.12.5"
  }
 },
 "nbformat": 4,
 "nbformat_minor": 5
}
