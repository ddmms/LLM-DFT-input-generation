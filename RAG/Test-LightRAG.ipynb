{
 "cells": [
  {
   "cell_type": "code",
   "execution_count": 1,
   "id": "f82b6c2b-ead5-4332-bb9d-7ee43ef659b5",
   "metadata": {},
   "outputs": [
    {
     "name": "stderr",
     "output_type": "stream",
     "text": [
      "INFO:lightrag:Logger initialized for working directory: ./dickens\n",
      "DEBUG:lightrag:LightRAG init with param:\n",
      "  working_dir = ./dickens,\n",
      "  chunk_token_size = 1200,\n",
      "  chunk_overlap_token_size = 100,\n",
      "  tiktoken_model_name = gpt-4o-mini,\n",
      "  entity_extract_max_gleaning = 1,\n",
      "  entity_summary_to_max_tokens = 500,\n",
      "  node_embedding_algorithm = node2vec,\n",
      "  node2vec_params = {'dimensions': 1536, 'num_walks': 10, 'walk_length': 40, 'window_size': 2, 'iterations': 3, 'random_seed': 3},\n",
      "  embedding_func = {'embedding_dim': 1536, 'max_token_size': 8192, 'func': <function openai_embedding at 0x11fc41080>},\n",
      "  embedding_batch_num = 32,\n",
      "  embedding_func_max_async = 16,\n",
      "  llm_model_func = <function gpt_4o_mini_complete at 0x11fc409a0>,\n",
      "  llm_model_name = meta-llama/Llama-3.2-1B-Instruct,\n",
      "  llm_model_max_token_size = 32768,\n",
      "  llm_model_max_async = 16,\n",
      "  key_string_value_json_storage_cls = <class 'lightrag.storage.JsonKVStorage'>,\n",
      "  vector_db_storage_cls = <class 'lightrag.storage.NanoVectorDBStorage'>,\n",
      "  vector_db_storage_cls_kwargs = {},\n",
      "  graph_storage_cls = <class 'lightrag.storage.NetworkXStorage'>,\n",
      "  enable_llm_cache = True,\n",
      "  addon_params = {},\n",
      "  convert_response_to_json_func = <function convert_response_to_json at 0x11fc39e40>\n",
      "\n",
      "INFO:lightrag:Load KV full_docs with 1 data\n",
      "INFO:lightrag:Load KV text_chunks with 42 data\n",
      "INFO:lightrag:Load KV llm_response_cache with 90 data\n",
      "INFO:lightrag:Loaded graph from ./dickens/graph_chunk_entity_relation.graphml with 360 nodes, 291 edges\n",
      "INFO:nano-vectordb:Load (358, 1536) data\n",
      "INFO:nano-vectordb:Init {'embedding_dim': 1536, 'metric': 'cosine', 'storage_file': './dickens/vdb_entities.json'} 358 data\n",
      "INFO:nano-vectordb:Load (291, 1536) data\n",
      "INFO:nano-vectordb:Init {'embedding_dim': 1536, 'metric': 'cosine', 'storage_file': './dickens/vdb_relationships.json'} 291 data\n",
      "INFO:nano-vectordb:Load (42, 1536) data\n",
      "INFO:nano-vectordb:Init {'embedding_dim': 1536, 'metric': 'cosine', 'storage_file': './dickens/vdb_chunks.json'} 42 data\n"
     ]
    }
   ],
   "source": [
    "import os\n",
    "from lightrag import LightRAG, QueryParam\n",
    "from lightrag.llm import gpt_4o_mini_complete, gpt_4o_complete\n",
    "import asyncio\n",
    "\n",
    "#########\n",
    "# Uncomment the below two lines if running in a jupyter notebook to handle the async nature of rag.insert()\n",
    "# import nest_asyncio \n",
    "# nest_asyncio.apply() \n",
    "#########\n",
    "\n",
    "WORKING_DIR = \"./dickens\"\n",
    "\n",
    "\n",
    "WORKING_DIR = \"./dickens\"\n",
    "\n",
    "if not os.path.exists(WORKING_DIR):\n",
    "    os.mkdir(WORKING_DIR)\n",
    "\n",
    "rag = LightRAG(\n",
    "    working_dir=WORKING_DIR,\n",
    "    llm_model_func=gpt_4o_mini_complete  # Use gpt_4o_mini_complete LLM model\n",
    "    # llm_model_func=gpt_4o_complete  # Optionally, use a stronger model\n",
    ")"
   ]
  },
  {
   "cell_type": "code",
   "execution_count": 7,
   "id": "5e148b29-80bb-4261-bbc0-f69bf3724055",
   "metadata": {},
   "outputs": [],
   "source": [
    "with open(\"./book.txt\",'r') as f:\n",
    "    data=f.read()"
   ]
  },
  {
   "cell_type": "code",
   "execution_count": 10,
   "id": "e7ee3387-b67d-487b-8d45-b1946eab734a",
   "metadata": {},
   "outputs": [
    {
     "name": "stderr",
     "output_type": "stream",
     "text": [
      "INFO:lightrag:[New Docs] inserting 1 docs\n",
      "INFO:lightrag:[New Chunks] inserting 42 chunks\n",
      "INFO:lightrag:Inserting 42 vectors to chunks\n",
      "INFO:httpx:HTTP Request: POST https://api.openai.com/v1/embeddings \"HTTP/1.1 200 OK\"\n",
      "INFO:httpx:HTTP Request: POST https://api.openai.com/v1/embeddings \"HTTP/1.1 200 OK\"\n",
      "INFO:lightrag:[Entity Extraction]...\n",
      "INFO:httpx:HTTP Request: POST https://api.openai.com/v1/chat/completions \"HTTP/1.1 200 OK\"\n",
      "INFO:httpx:HTTP Request: POST https://api.openai.com/v1/chat/completions \"HTTP/1.1 200 OK\"\n",
      "INFO:httpx:HTTP Request: POST https://api.openai.com/v1/chat/completions \"HTTP/1.1 200 OK\"\n",
      "INFO:httpx:HTTP Request: POST https://api.openai.com/v1/chat/completions \"HTTP/1.1 200 OK\"\n",
      "INFO:httpx:HTTP Request: POST https://api.openai.com/v1/chat/completions \"HTTP/1.1 200 OK\"\n",
      "INFO:httpx:HTTP Request: POST https://api.openai.com/v1/chat/completions \"HTTP/1.1 200 OK\"\n",
      "INFO:httpx:HTTP Request: POST https://api.openai.com/v1/chat/completions \"HTTP/1.1 200 OK\"\n",
      "INFO:httpx:HTTP Request: POST https://api.openai.com/v1/chat/completions \"HTTP/1.1 200 OK\"\n",
      "INFO:httpx:HTTP Request: POST https://api.openai.com/v1/chat/completions \"HTTP/1.1 200 OK\"\n",
      "INFO:httpx:HTTP Request: POST https://api.openai.com/v1/chat/completions \"HTTP/1.1 200 OK\"\n",
      "INFO:httpx:HTTP Request: POST https://api.openai.com/v1/chat/completions \"HTTP/1.1 200 OK\"\n",
      "INFO:httpx:HTTP Request: POST https://api.openai.com/v1/chat/completions \"HTTP/1.1 200 OK\"\n",
      "INFO:httpx:HTTP Request: POST https://api.openai.com/v1/chat/completions \"HTTP/1.1 200 OK\"\n",
      "INFO:httpx:HTTP Request: POST https://api.openai.com/v1/chat/completions \"HTTP/1.1 200 OK\"\n",
      "INFO:httpx:HTTP Request: POST https://api.openai.com/v1/chat/completions \"HTTP/1.1 200 OK\"\n"
     ]
    },
    {
     "name": "stdout",
     "output_type": "stream",
     "text": [
      "⠙ Processed 1 chunks, 10 entities(duplicated), 7 relations(duplicated)\r"
     ]
    },
    {
     "name": "stderr",
     "output_type": "stream",
     "text": [
      "INFO:httpx:HTTP Request: POST https://api.openai.com/v1/chat/completions \"HTTP/1.1 200 OK\"\n"
     ]
    },
    {
     "name": "stdout",
     "output_type": "stream",
     "text": [
      "⠹ Processed 2 chunks, 24 entities(duplicated), 10 relations(duplicated)\r"
     ]
    },
    {
     "name": "stderr",
     "output_type": "stream",
     "text": [
      "INFO:httpx:HTTP Request: POST https://api.openai.com/v1/chat/completions \"HTTP/1.1 200 OK\"\n"
     ]
    },
    {
     "name": "stdout",
     "output_type": "stream",
     "text": [
      "⠸ Processed 3 chunks, 34 entities(duplicated), 18 relations(duplicated)\r"
     ]
    },
    {
     "name": "stderr",
     "output_type": "stream",
     "text": [
      "INFO:httpx:HTTP Request: POST https://api.openai.com/v1/chat/completions \"HTTP/1.1 200 OK\"\n"
     ]
    },
    {
     "name": "stdout",
     "output_type": "stream",
     "text": [
      "⠼ Processed 4 chunks, 44 entities(duplicated), 28 relations(duplicated)\r"
     ]
    },
    {
     "name": "stderr",
     "output_type": "stream",
     "text": [
      "INFO:httpx:HTTP Request: POST https://api.openai.com/v1/chat/completions \"HTTP/1.1 200 OK\"\n"
     ]
    },
    {
     "name": "stdout",
     "output_type": "stream",
     "text": [
      "⠴ Processed 5 chunks, 55 entities(duplicated), 37 relations(duplicated)\r"
     ]
    },
    {
     "name": "stderr",
     "output_type": "stream",
     "text": [
      "INFO:httpx:HTTP Request: POST https://api.openai.com/v1/chat/completions \"HTTP/1.1 200 OK\"\n"
     ]
    },
    {
     "name": "stdout",
     "output_type": "stream",
     "text": [
      "⠦ Processed 6 chunks, 64 entities(duplicated), 44 relations(duplicated)\r"
     ]
    },
    {
     "name": "stderr",
     "output_type": "stream",
     "text": [
      "INFO:httpx:HTTP Request: POST https://api.openai.com/v1/chat/completions \"HTTP/1.1 200 OK\"\n"
     ]
    },
    {
     "name": "stdout",
     "output_type": "stream",
     "text": [
      "⠧ Processed 7 chunks, 74 entities(duplicated), 52 relations(duplicated)\r"
     ]
    },
    {
     "name": "stderr",
     "output_type": "stream",
     "text": [
      "INFO:httpx:HTTP Request: POST https://api.openai.com/v1/chat/completions \"HTTP/1.1 200 OK\"\n",
      "INFO:httpx:HTTP Request: POST https://api.openai.com/v1/chat/completions \"HTTP/1.1 200 OK\"\n"
     ]
    },
    {
     "name": "stdout",
     "output_type": "stream",
     "text": [
      "⠇ Processed 8 chunks, 88 entities(duplicated), 64 relations(duplicated)\r"
     ]
    },
    {
     "name": "stderr",
     "output_type": "stream",
     "text": [
      "INFO:httpx:HTTP Request: POST https://api.openai.com/v1/chat/completions \"HTTP/1.1 200 OK\"\n",
      "INFO:httpx:HTTP Request: POST https://api.openai.com/v1/chat/completions \"HTTP/1.1 200 OK\"\n"
     ]
    },
    {
     "name": "stdout",
     "output_type": "stream",
     "text": [
      "⠏ Processed 9 chunks, 101 entities(duplicated), 74 relations(duplicated)\r"
     ]
    },
    {
     "name": "stderr",
     "output_type": "stream",
     "text": [
      "INFO:httpx:HTTP Request: POST https://api.openai.com/v1/chat/completions \"HTTP/1.1 200 OK\"\n",
      "INFO:httpx:HTTP Request: POST https://api.openai.com/v1/chat/completions \"HTTP/1.1 200 OK\"\n"
     ]
    },
    {
     "name": "stdout",
     "output_type": "stream",
     "text": [
      "⠋ Processed 10 chunks, 122 entities(duplicated), 81 relations(duplicated)\r"
     ]
    },
    {
     "name": "stderr",
     "output_type": "stream",
     "text": [
      "INFO:httpx:HTTP Request: POST https://api.openai.com/v1/chat/completions \"HTTP/1.1 200 OK\"\n"
     ]
    },
    {
     "name": "stdout",
     "output_type": "stream",
     "text": [
      "⠙ Processed 11 chunks, 135 entities(duplicated), 90 relations(duplicated)\r"
     ]
    },
    {
     "name": "stderr",
     "output_type": "stream",
     "text": [
      "INFO:httpx:HTTP Request: POST https://api.openai.com/v1/chat/completions \"HTTP/1.1 200 OK\"\n",
      "INFO:httpx:HTTP Request: POST https://api.openai.com/v1/chat/completions \"HTTP/1.1 200 OK\"\n"
     ]
    },
    {
     "name": "stdout",
     "output_type": "stream",
     "text": [
      "⠹ Processed 12 chunks, 147 entities(duplicated), 101 relations(duplicated)\r"
     ]
    },
    {
     "name": "stderr",
     "output_type": "stream",
     "text": [
      "/opt/miniconda3/envs/llm/lib/python3.12/site-packages/openai/_client.py:357: RuntimeWarning: coroutine 'LightRAG.ainsert' was never awaited\n",
      "  self.models = resources.AsyncModels(self)\n",
      "RuntimeWarning: Enable tracemalloc to get the object allocation traceback\n",
      "INFO:httpx:HTTP Request: POST https://api.openai.com/v1/chat/completions \"HTTP/1.1 200 OK\"\n",
      "INFO:httpx:HTTP Request: POST https://api.openai.com/v1/chat/completions \"HTTP/1.1 200 OK\"\n",
      "INFO:httpx:HTTP Request: POST https://api.openai.com/v1/chat/completions \"HTTP/1.1 200 OK\"\n",
      "INFO:httpx:HTTP Request: POST https://api.openai.com/v1/chat/completions \"HTTP/1.1 200 OK\"\n"
     ]
    },
    {
     "name": "stdout",
     "output_type": "stream",
     "text": [
      "⠸ Processed 13 chunks, 168 entities(duplicated), 109 relations(duplicated)\r"
     ]
    },
    {
     "name": "stderr",
     "output_type": "stream",
     "text": [
      "INFO:httpx:HTTP Request: POST https://api.openai.com/v1/chat/completions \"HTTP/1.1 200 OK\"\n",
      "INFO:httpx:HTTP Request: POST https://api.openai.com/v1/chat/completions \"HTTP/1.1 200 OK\"\n"
     ]
    },
    {
     "name": "stdout",
     "output_type": "stream",
     "text": [
      "⠼ Processed 14 chunks, 178 entities(duplicated), 116 relations(duplicated)\r"
     ]
    },
    {
     "name": "stderr",
     "output_type": "stream",
     "text": [
      "INFO:httpx:HTTP Request: POST https://api.openai.com/v1/chat/completions \"HTTP/1.1 200 OK\"\n"
     ]
    },
    {
     "name": "stdout",
     "output_type": "stream",
     "text": [
      "⠴ Processed 15 chunks, 192 entities(duplicated), 127 relations(duplicated)\r"
     ]
    },
    {
     "name": "stderr",
     "output_type": "stream",
     "text": [
      "INFO:httpx:HTTP Request: POST https://api.openai.com/v1/chat/completions \"HTTP/1.1 200 OK\"\n",
      "INFO:httpx:HTTP Request: POST https://api.openai.com/v1/chat/completions \"HTTP/1.1 200 OK\"\n"
     ]
    },
    {
     "name": "stdout",
     "output_type": "stream",
     "text": [
      "⠦ Processed 16 chunks, 206 entities(duplicated), 137 relations(duplicated)\r"
     ]
    },
    {
     "name": "stderr",
     "output_type": "stream",
     "text": [
      "INFO:httpx:HTTP Request: POST https://api.openai.com/v1/chat/completions \"HTTP/1.1 200 OK\"\n",
      "INFO:httpx:HTTP Request: POST https://api.openai.com/v1/chat/completions \"HTTP/1.1 200 OK\"\n",
      "INFO:httpx:HTTP Request: POST https://api.openai.com/v1/chat/completions \"HTTP/1.1 200 OK\"\n",
      "INFO:httpx:HTTP Request: POST https://api.openai.com/v1/chat/completions \"HTTP/1.1 200 OK\"\n",
      "INFO:httpx:HTTP Request: POST https://api.openai.com/v1/chat/completions \"HTTP/1.1 200 OK\"\n"
     ]
    },
    {
     "name": "stdout",
     "output_type": "stream",
     "text": [
      "⠧ Processed 17 chunks, 215 entities(duplicated), 143 relations(duplicated)\r"
     ]
    },
    {
     "name": "stderr",
     "output_type": "stream",
     "text": [
      "INFO:httpx:HTTP Request: POST https://api.openai.com/v1/chat/completions \"HTTP/1.1 200 OK\"\n"
     ]
    },
    {
     "name": "stdout",
     "output_type": "stream",
     "text": [
      "⠇ Processed 18 chunks, 228 entities(duplicated), 151 relations(duplicated)\r"
     ]
    },
    {
     "name": "stderr",
     "output_type": "stream",
     "text": [
      "INFO:httpx:HTTP Request: POST https://api.openai.com/v1/chat/completions \"HTTP/1.1 200 OK\"\n",
      "INFO:httpx:HTTP Request: POST https://api.openai.com/v1/chat/completions \"HTTP/1.1 200 OK\"\n"
     ]
    },
    {
     "name": "stdout",
     "output_type": "stream",
     "text": [
      "⠏ Processed 19 chunks, 244 entities(duplicated), 163 relations(duplicated)\r"
     ]
    },
    {
     "name": "stderr",
     "output_type": "stream",
     "text": [
      "INFO:httpx:HTTP Request: POST https://api.openai.com/v1/chat/completions \"HTTP/1.1 200 OK\"\n",
      "INFO:httpx:HTTP Request: POST https://api.openai.com/v1/chat/completions \"HTTP/1.1 200 OK\"\n"
     ]
    },
    {
     "name": "stdout",
     "output_type": "stream",
     "text": [
      "⠋ Processed 20 chunks, 259 entities(duplicated), 174 relations(duplicated)\r"
     ]
    },
    {
     "name": "stderr",
     "output_type": "stream",
     "text": [
      "INFO:httpx:HTTP Request: POST https://api.openai.com/v1/chat/completions \"HTTP/1.1 200 OK\"\n"
     ]
    },
    {
     "name": "stdout",
     "output_type": "stream",
     "text": [
      "⠙ Processed 21 chunks, 271 entities(duplicated), 183 relations(duplicated)\r"
     ]
    },
    {
     "name": "stderr",
     "output_type": "stream",
     "text": [
      "INFO:httpx:HTTP Request: POST https://api.openai.com/v1/chat/completions \"HTTP/1.1 200 OK\"\n",
      "INFO:httpx:HTTP Request: POST https://api.openai.com/v1/chat/completions \"HTTP/1.1 200 OK\"\n",
      "INFO:httpx:HTTP Request: POST https://api.openai.com/v1/chat/completions \"HTTP/1.1 200 OK\"\n",
      "INFO:httpx:HTTP Request: POST https://api.openai.com/v1/chat/completions \"HTTP/1.1 200 OK\"\n"
     ]
    },
    {
     "name": "stdout",
     "output_type": "stream",
     "text": [
      "⠹ Processed 22 chunks, 283 entities(duplicated), 193 relations(duplicated)\r"
     ]
    },
    {
     "name": "stderr",
     "output_type": "stream",
     "text": [
      "INFO:httpx:HTTP Request: POST https://api.openai.com/v1/chat/completions \"HTTP/1.1 200 OK\"\n"
     ]
    },
    {
     "name": "stdout",
     "output_type": "stream",
     "text": [
      "⠸ Processed 23 chunks, 295 entities(duplicated), 204 relations(duplicated)\r"
     ]
    },
    {
     "name": "stderr",
     "output_type": "stream",
     "text": [
      "INFO:httpx:HTTP Request: POST https://api.openai.com/v1/chat/completions \"HTTP/1.1 200 OK\"\n"
     ]
    },
    {
     "name": "stdout",
     "output_type": "stream",
     "text": [
      "⠼ Processed 24 chunks, 308 entities(duplicated), 207 relations(duplicated)\r"
     ]
    },
    {
     "name": "stderr",
     "output_type": "stream",
     "text": [
      "INFO:httpx:HTTP Request: POST https://api.openai.com/v1/chat/completions \"HTTP/1.1 200 OK\"\n"
     ]
    },
    {
     "name": "stdout",
     "output_type": "stream",
     "text": [
      "⠴ Processed 25 chunks, 324 entities(duplicated), 219 relations(duplicated)\r"
     ]
    },
    {
     "name": "stderr",
     "output_type": "stream",
     "text": [
      "INFO:httpx:HTTP Request: POST https://api.openai.com/v1/chat/completions \"HTTP/1.1 200 OK\"\n"
     ]
    },
    {
     "name": "stdout",
     "output_type": "stream",
     "text": [
      "⠦ Processed 26 chunks, 338 entities(duplicated), 229 relations(duplicated)\r"
     ]
    },
    {
     "name": "stderr",
     "output_type": "stream",
     "text": [
      "INFO:httpx:HTTP Request: POST https://api.openai.com/v1/chat/completions \"HTTP/1.1 200 OK\"\n"
     ]
    },
    {
     "name": "stdout",
     "output_type": "stream",
     "text": [
      "⠧ Processed 27 chunks, 351 entities(duplicated), 234 relations(duplicated)\r"
     ]
    },
    {
     "name": "stderr",
     "output_type": "stream",
     "text": [
      "INFO:httpx:HTTP Request: POST https://api.openai.com/v1/chat/completions \"HTTP/1.1 200 OK\"\n",
      "INFO:httpx:HTTP Request: POST https://api.openai.com/v1/chat/completions \"HTTP/1.1 429 Too Many Requests\"\n",
      "INFO:openai._base_client:Retrying request to /chat/completions in 0.919000 seconds\n",
      "INFO:httpx:HTTP Request: POST https://api.openai.com/v1/chat/completions \"HTTP/1.1 200 OK\"\n",
      "INFO:httpx:HTTP Request: POST https://api.openai.com/v1/chat/completions \"HTTP/1.1 429 Too Many Requests\"\n",
      "INFO:openai._base_client:Retrying request to /chat/completions in 0.915000 seconds\n",
      "INFO:httpx:HTTP Request: POST https://api.openai.com/v1/chat/completions \"HTTP/1.1 200 OK\"\n"
     ]
    },
    {
     "name": "stdout",
     "output_type": "stream",
     "text": [
      "⠇ Processed 28 chunks, 362 entities(duplicated), 244 relations(duplicated)\r"
     ]
    },
    {
     "name": "stderr",
     "output_type": "stream",
     "text": [
      "INFO:httpx:HTTP Request: POST https://api.openai.com/v1/chat/completions \"HTTP/1.1 429 Too Many Requests\"\n",
      "INFO:openai._base_client:Retrying request to /chat/completions in 0.770000 seconds\n",
      "INFO:httpx:HTTP Request: POST https://api.openai.com/v1/chat/completions \"HTTP/1.1 200 OK\"\n",
      "INFO:httpx:HTTP Request: POST https://api.openai.com/v1/chat/completions \"HTTP/1.1 200 OK\"\n"
     ]
    },
    {
     "name": "stdout",
     "output_type": "stream",
     "text": [
      "⠏ Processed 29 chunks, 387 entities(duplicated), 247 relations(duplicated)\r"
     ]
    },
    {
     "name": "stderr",
     "output_type": "stream",
     "text": [
      "INFO:httpx:HTTP Request: POST https://api.openai.com/v1/chat/completions \"HTTP/1.1 200 OK\"\n"
     ]
    },
    {
     "name": "stdout",
     "output_type": "stream",
     "text": [
      "⠋ Processed 30 chunks, 399 entities(duplicated), 258 relations(duplicated)\r"
     ]
    },
    {
     "name": "stderr",
     "output_type": "stream",
     "text": [
      "INFO:httpx:HTTP Request: POST https://api.openai.com/v1/chat/completions \"HTTP/1.1 429 Too Many Requests\"\n",
      "INFO:openai._base_client:Retrying request to /chat/completions in 0.127000 seconds\n",
      "INFO:httpx:HTTP Request: POST https://api.openai.com/v1/chat/completions \"HTTP/1.1 429 Too Many Requests\"\n",
      "INFO:openai._base_client:Retrying request to /chat/completions in 0.110000 seconds\n",
      "INFO:httpx:HTTP Request: POST https://api.openai.com/v1/chat/completions \"HTTP/1.1 429 Too Many Requests\"\n",
      "INFO:httpx:HTTP Request: POST https://api.openai.com/v1/chat/completions \"HTTP/1.1 429 Too Many Requests\"\n",
      "INFO:openai._base_client:Retrying request to /chat/completions in 0.527000 seconds\n",
      "INFO:httpx:HTTP Request: POST https://api.openai.com/v1/chat/completions \"HTTP/1.1 200 OK\"\n",
      "INFO:httpx:HTTP Request: POST https://api.openai.com/v1/chat/completions \"HTTP/1.1 200 OK\"\n"
     ]
    },
    {
     "name": "stdout",
     "output_type": "stream",
     "text": [
      "⠙ Processed 31 chunks, 411 entities(duplicated), 266 relations(duplicated)\r"
     ]
    },
    {
     "name": "stderr",
     "output_type": "stream",
     "text": [
      "INFO:httpx:HTTP Request: POST https://api.openai.com/v1/chat/completions \"HTTP/1.1 200 OK\"\n",
      "INFO:httpx:HTTP Request: POST https://api.openai.com/v1/chat/completions \"HTTP/1.1 429 Too Many Requests\"\n",
      "INFO:openai._base_client:Retrying request to /chat/completions in 0.641000 seconds\n",
      "INFO:httpx:HTTP Request: POST https://api.openai.com/v1/chat/completions \"HTTP/1.1 429 Too Many Requests\"\n",
      "INFO:openai._base_client:Retrying request to /chat/completions in 0.405000 seconds\n",
      "INFO:httpx:HTTP Request: POST https://api.openai.com/v1/chat/completions \"HTTP/1.1 429 Too Many Requests\"\n",
      "INFO:openai._base_client:Retrying request to /chat/completions in 1.044000 seconds\n",
      "INFO:httpx:HTTP Request: POST https://api.openai.com/v1/chat/completions \"HTTP/1.1 200 OK\"\n",
      "INFO:httpx:HTTP Request: POST https://api.openai.com/v1/chat/completions \"HTTP/1.1 429 Too Many Requests\"\n",
      "INFO:openai._base_client:Retrying request to /chat/completions in 0.001000 seconds\n",
      "INFO:httpx:HTTP Request: POST https://api.openai.com/v1/chat/completions \"HTTP/1.1 429 Too Many Requests\"\n",
      "INFO:openai._base_client:Retrying request to /chat/completions in 1.119000 seconds\n",
      "INFO:httpx:HTTP Request: POST https://api.openai.com/v1/chat/completions \"HTTP/1.1 200 OK\"\n"
     ]
    },
    {
     "name": "stdout",
     "output_type": "stream",
     "text": [
      "⠹ Processed 32 chunks, 426 entities(duplicated), 271 relations(duplicated)\r"
     ]
    },
    {
     "name": "stderr",
     "output_type": "stream",
     "text": [
      "INFO:httpx:HTTP Request: POST https://api.openai.com/v1/chat/completions \"HTTP/1.1 429 Too Many Requests\"\n",
      "INFO:openai._base_client:Retrying request to /chat/completions in 0.537000 seconds\n",
      "INFO:httpx:HTTP Request: POST https://api.openai.com/v1/chat/completions \"HTTP/1.1 200 OK\"\n",
      "INFO:httpx:HTTP Request: POST https://api.openai.com/v1/chat/completions \"HTTP/1.1 429 Too Many Requests\"\n",
      "INFO:openai._base_client:Retrying request to /chat/completions in 0.357000 seconds\n",
      "INFO:httpx:HTTP Request: POST https://api.openai.com/v1/chat/completions \"HTTP/1.1 200 OK\"\n",
      "INFO:httpx:HTTP Request: POST https://api.openai.com/v1/chat/completions \"HTTP/1.1 200 OK\"\n"
     ]
    },
    {
     "name": "stdout",
     "output_type": "stream",
     "text": [
      "⠸ Processed 33 chunks, 442 entities(duplicated), 280 relations(duplicated)\r"
     ]
    },
    {
     "name": "stderr",
     "output_type": "stream",
     "text": [
      "INFO:httpx:HTTP Request: POST https://api.openai.com/v1/chat/completions \"HTTP/1.1 429 Too Many Requests\"\n",
      "INFO:openai._base_client:Retrying request to /chat/completions in 0.103000 seconds\n",
      "INFO:httpx:HTTP Request: POST https://api.openai.com/v1/chat/completions \"HTTP/1.1 429 Too Many Requests\"\n",
      "INFO:httpx:HTTP Request: POST https://api.openai.com/v1/chat/completions \"HTTP/1.1 429 Too Many Requests\"\n",
      "INFO:openai._base_client:Retrying request to /chat/completions in 1.183000 seconds\n",
      "INFO:httpx:HTTP Request: POST https://api.openai.com/v1/chat/completions \"HTTP/1.1 429 Too Many Requests\"\n",
      "INFO:openai._base_client:Retrying request to /chat/completions in 0.941000 seconds\n",
      "INFO:httpx:HTTP Request: POST https://api.openai.com/v1/chat/completions \"HTTP/1.1 429 Too Many Requests\"\n",
      "INFO:httpx:HTTP Request: POST https://api.openai.com/v1/chat/completions \"HTTP/1.1 200 OK\"\n"
     ]
    },
    {
     "name": "stdout",
     "output_type": "stream",
     "text": [
      "⠼ Processed 34 chunks, 454 entities(duplicated), 288 relations(duplicated)\r"
     ]
    },
    {
     "name": "stderr",
     "output_type": "stream",
     "text": [
      "INFO:httpx:HTTP Request: POST https://api.openai.com/v1/chat/completions \"HTTP/1.1 200 OK\"\n",
      "INFO:httpx:HTTP Request: POST https://api.openai.com/v1/chat/completions \"HTTP/1.1 200 OK\"\n"
     ]
    },
    {
     "name": "stdout",
     "output_type": "stream",
     "text": [
      "⠴ Processed 35 chunks, 464 entities(duplicated), 298 relations(duplicated)\r"
     ]
    },
    {
     "name": "stderr",
     "output_type": "stream",
     "text": [
      "INFO:httpx:HTTP Request: POST https://api.openai.com/v1/chat/completions \"HTTP/1.1 200 OK\"\n",
      "INFO:httpx:HTTP Request: POST https://api.openai.com/v1/chat/completions \"HTTP/1.1 200 OK\"\n"
     ]
    },
    {
     "name": "stdout",
     "output_type": "stream",
     "text": [
      "⠧ Processed 37 chunks, 491 entities(duplicated), 321 relations(duplicated)\r"
     ]
    },
    {
     "name": "stderr",
     "output_type": "stream",
     "text": [
      "INFO:httpx:HTTP Request: POST https://api.openai.com/v1/chat/completions \"HTTP/1.1 200 OK\"\n"
     ]
    },
    {
     "name": "stdout",
     "output_type": "stream",
     "text": [
      "⠇ Processed 38 chunks, 504 entities(duplicated), 331 relations(duplicated)\r"
     ]
    },
    {
     "name": "stderr",
     "output_type": "stream",
     "text": [
      "INFO:httpx:HTTP Request: POST https://api.openai.com/v1/chat/completions \"HTTP/1.1 200 OK\"\n"
     ]
    },
    {
     "name": "stdout",
     "output_type": "stream",
     "text": [
      "⠏ Processed 39 chunks, 516 entities(duplicated), 338 relations(duplicated)\r"
     ]
    },
    {
     "name": "stderr",
     "output_type": "stream",
     "text": [
      "INFO:httpx:HTTP Request: POST https://api.openai.com/v1/chat/completions \"HTTP/1.1 200 OK\"\n"
     ]
    },
    {
     "name": "stdout",
     "output_type": "stream",
     "text": [
      "⠋ Processed 40 chunks, 534 entities(duplicated), 345 relations(duplicated)\r"
     ]
    },
    {
     "name": "stderr",
     "output_type": "stream",
     "text": [
      "INFO:httpx:HTTP Request: POST https://api.openai.com/v1/chat/completions \"HTTP/1.1 200 OK\"\n"
     ]
    },
    {
     "name": "stdout",
     "output_type": "stream",
     "text": [
      "⠙ Processed 41 chunks, 547 entities(duplicated), 357 relations(duplicated)\r"
     ]
    },
    {
     "name": "stderr",
     "output_type": "stream",
     "text": [
      "INFO:httpx:HTTP Request: POST https://api.openai.com/v1/chat/completions \"HTTP/1.1 200 OK\"\n",
      "INFO:httpx:HTTP Request: POST https://api.openai.com/v1/chat/completions \"HTTP/1.1 200 OK\"\n"
     ]
    },
    {
     "name": "stdout",
     "output_type": "stream",
     "text": [
      "⠹ Processed 42 chunks, 557 entities(duplicated), 363 relations(duplicated)\r"
     ]
    },
    {
     "name": "stderr",
     "output_type": "stream",
     "text": [
      "DEBUG:lightrag:Trigger summary: \"SCROOGE\"\n"
     ]
    },
    {
     "name": "stdout",
     "output_type": "stream",
     "text": [
      "\n"
     ]
    },
    {
     "name": "stderr",
     "output_type": "stream",
     "text": [
      "INFO:httpx:HTTP Request: POST https://api.openai.com/v1/chat/completions \"HTTP/1.1 200 OK\"\n",
      "INFO:lightrag:Inserting 358 vectors to entities\n",
      "INFO:httpx:HTTP Request: POST https://api.openai.com/v1/embeddings \"HTTP/1.1 200 OK\"\n",
      "INFO:httpx:HTTP Request: POST https://api.openai.com/v1/embeddings \"HTTP/1.1 200 OK\"\n",
      "INFO:httpx:HTTP Request: POST https://api.openai.com/v1/embeddings \"HTTP/1.1 200 OK\"\n",
      "INFO:httpx:HTTP Request: POST https://api.openai.com/v1/embeddings \"HTTP/1.1 200 OK\"\n",
      "INFO:httpx:HTTP Request: POST https://api.openai.com/v1/embeddings \"HTTP/1.1 200 OK\"\n",
      "INFO:httpx:HTTP Request: POST https://api.openai.com/v1/embeddings \"HTTP/1.1 200 OK\"\n",
      "INFO:httpx:HTTP Request: POST https://api.openai.com/v1/embeddings \"HTTP/1.1 200 OK\"\n",
      "INFO:httpx:HTTP Request: POST https://api.openai.com/v1/embeddings \"HTTP/1.1 200 OK\"\n",
      "INFO:httpx:HTTP Request: POST https://api.openai.com/v1/embeddings \"HTTP/1.1 200 OK\"\n",
      "INFO:httpx:HTTP Request: POST https://api.openai.com/v1/embeddings \"HTTP/1.1 200 OK\"\n",
      "INFO:httpx:HTTP Request: POST https://api.openai.com/v1/embeddings \"HTTP/1.1 200 OK\"\n",
      "INFO:httpx:HTTP Request: POST https://api.openai.com/v1/embeddings \"HTTP/1.1 200 OK\"\n",
      "INFO:lightrag:Inserting 291 vectors to relationships\n",
      "INFO:httpx:HTTP Request: POST https://api.openai.com/v1/embeddings \"HTTP/1.1 200 OK\"\n",
      "INFO:httpx:HTTP Request: POST https://api.openai.com/v1/embeddings \"HTTP/1.1 200 OK\"\n",
      "INFO:httpx:HTTP Request: POST https://api.openai.com/v1/embeddings \"HTTP/1.1 200 OK\"\n",
      "INFO:httpx:HTTP Request: POST https://api.openai.com/v1/embeddings \"HTTP/1.1 200 OK\"\n",
      "INFO:httpx:HTTP Request: POST https://api.openai.com/v1/embeddings \"HTTP/1.1 200 OK\"\n",
      "INFO:httpx:HTTP Request: POST https://api.openai.com/v1/embeddings \"HTTP/1.1 200 OK\"\n",
      "INFO:httpx:HTTP Request: POST https://api.openai.com/v1/embeddings \"HTTP/1.1 200 OK\"\n",
      "INFO:httpx:HTTP Request: POST https://api.openai.com/v1/embeddings \"HTTP/1.1 200 OK\"\n",
      "INFO:httpx:HTTP Request: POST https://api.openai.com/v1/embeddings \"HTTP/1.1 200 OK\"\n",
      "INFO:httpx:HTTP Request: POST https://api.openai.com/v1/embeddings \"HTTP/1.1 200 OK\"\n",
      "INFO:lightrag:Writing graph with 360 nodes, 291 edges\n"
     ]
    }
   ],
   "source": [
    "await rag.ainsert(data)"
   ]
  },
  {
   "cell_type": "code",
   "execution_count": 15,
   "id": "faa7cbd2-b297-48d0-a293-efb3e0a367de",
   "metadata": {},
   "outputs": [
    {
     "name": "stderr",
     "output_type": "stream",
     "text": [
      "INFO:httpx:HTTP Request: POST https://api.openai.com/v1/embeddings \"HTTP/1.1 200 OK\"\n",
      "INFO:lightrag:Truncate 39 to 3 chunks\n"
     ]
    },
    {
     "name": "stdout",
     "output_type": "stream",
     "text": [
      "The story from which the excerpts are taken, Charles Dickens's \"A Christmas Carol,\" explores several prominent themes that resonate throughout its narrative.\n",
      "\n",
      "One of the central themes is **redemption and transformation**. The protagonist, Ebenezer Scrooge, embodies the possibility of change through the visitation of the three spirits. His journey from a miserly, solitary man to someone who embraces generosity and community highlights the transformative power of reflection and personal growth. The notion that one’s past actions can be altered through conscious choices reinforces the hope that redemption is always possible.\n",
      "\n",
      "Another significant theme is **the importance of compassion and connection**. Scrooge’s initial disregard for others’ welfare starkly contrasts with the warmth of those around him, particularly the Cratchit family and his own past love, Belle. The story emphasizes the value of human relationships and empathy, as well as the joy that comes from giving and receiving love during the Christmas season.\n",
      "\n",
      "**Social criticism** also plays a vital role, revealing the disparities between different social classes. Dickens critiques the indifference of the wealthy towards the struggles of the poor, as exemplified by Scrooge’s initial treatment of Bob Cratchit and the plight of Tiny Tim. This theme encourages readers to reflect on societal responsibility and the moral obligation to care for one another, especially during times of hardship.\n",
      "\n",
      "Lastly, **the spirit of Christmas** itself is woven throughout the narrative, advocating for generosity, kindness, and the celebration of life’s fleeting moments with family and friends. The story suggests that these values should be upheld not only during the holiday season but all year long.\n",
      "\n",
      "In summary, \"A Christmas Carol\" resonates with themes of redemption, compassion, social responsibility, and the enduring spirit of Christmas, ultimately encouraging individuals to enact positive change in their lives and communities.\n"
     ]
    }
   ],
   "source": [
    "print(await rag.aquery(\"What are the top themes in this story?\", param=QueryParam(mode=\"naive\")))"
   ]
  },
  {
   "cell_type": "code",
   "execution_count": 16,
   "id": "e881e663-2a83-4a23-a754-b5d2e1dbbc72",
   "metadata": {},
   "outputs": [
    {
     "name": "stderr",
     "output_type": "stream",
     "text": [
      "INFO:httpx:HTTP Request: POST https://api.openai.com/v1/embeddings \"HTTP/1.1 200 OK\"\n",
      "INFO:lightrag:Local query uses 60 entites, 105 relations, 3 text units\n"
     ]
    },
    {
     "name": "stdout",
     "output_type": "stream",
     "text": [
      "### Key Themes in the Narrative\n",
      "\n",
      "The story prominently unfolds a multitude of interconnected themes, each intricately woven into the character arcs and plot developments. The following themes emerge as the most significant throughout the narrative:\n",
      "\n",
      "#### Transformation and Redemption\n",
      "\n",
      "At the heart of the story is the profound theme of transformation, epitomized in the character of Scrooge. Initially depicted as a cold-hearted miser, Scrooge’s journey through the visits of the three spirits—The Ghost of Christmas Past, The Ghost of Christmas Present, and The Ghost of Christmas Yet to Come—serves as a vehicle for transformation. The spirits guide him to confront his past actions, present choices, and future consequences, ultimately leading him to embrace a warmer, more compassionate outlook on life. This exploration of redemption underlines the possibility of change and the importance of human connection.\n",
      "\n",
      "#### The Spirit of Christmas \n",
      "\n",
      "The narrative is steeped in the theme of Christmas, portraying it not only as a festive occasion but a time for reflection, generosity, and togetherness. Christmas symbolizes joy, family connections, and the spirit of giving, standing in stark contrast to Scrooge's initial attitude of disdain and isolation. His evolving perception of Christmas illustrates the holiday's deeper significance, serving as a catalyst for his emotional awakening. \n",
      "\n",
      "#### Guilt and Regret\n",
      "\n",
      "Guilt and regret permeate the story, particularly through the burdens manifested by characters like Marley’s Ghost, who is fettered by chains representing his past misdeeds. Scrooge’s encounters force him to grapple with his own regrets, as he witnesses the ramifications of his selfishness on others, especially illustrated through Tiny Tim's vulnerable condition. This theme emphasizes the moral weight of one’s actions and the emotional toll of neglecting human compassion.\n",
      "\n",
      "#### Social Responsibility and Inequality\n",
      "\n",
      "The narrative also critiques social responsibility, spotlighting the disparities in wealth and the plight of the less fortunate, represented through characters like Bob Cratchit and Tiny Tim. Scrooge's initial indifference towards the poor highlights a broader commentary on societal neglect and the moral responsibility of the wealthy towards those in need. His eventual realization of the importance of caring for others underscores the narrative’s advocacy for empathy and social justice.\n",
      "\n",
      "#### The Passage of Time\n",
      "\n",
      "The theme of time is essential in the story, symbolized through the interactions with the spirits, each of whom embodies different temporal aspects. Scrooge’s reflections on his past, the joys and sorrows of the present, and the grim possibilities of the future reveal the urgency and impermanence of life. This theme prompts a deeper contemplation of how time shapes human experiences and relationships, highlighting the importance of making meaningful choices while there is still time to change.\n",
      "\n",
      "### Conclusion\n",
      "\n",
      "These themes collaboratively underline the narrative’s moral spine, urging readers to reflect on their actions, embrace change, recognize the significance of human connections, and foster compassion towards others. Through the journey of Scrooge and the symbolism of Christmas, the story communicates timeless lessons on empathy, kindness, and the transformative power of redemption.\n"
     ]
    }
   ],
   "source": [
    "print(await rag.aquery(\"What are the top themes in this story?\", param=QueryParam(mode=\"local\")))"
   ]
  },
  {
   "cell_type": "code",
   "execution_count": 17,
   "id": "c9626a06-18d9-497a-98e0-bae487f35c79",
   "metadata": {},
   "outputs": [
    {
     "name": "stderr",
     "output_type": "stream",
     "text": [
      "INFO:httpx:HTTP Request: POST https://api.openai.com/v1/embeddings \"HTTP/1.1 200 OK\"\n",
      "INFO:lightrag:Global query uses 64 entites, 60 relations, 3 text units\n",
      "INFO:httpx:HTTP Request: POST https://api.openai.com/v1/chat/completions \"HTTP/1.1 200 OK\"\n"
     ]
    },
    {
     "name": "stdout",
     "output_type": "stream",
     "text": [
      "The story of \"A Christmas Carol\" by Charles Dickens encompasses a multitude of poignant themes, which are intricately woven into the narrative of Ebenezer Scrooge's transformation. Below are some of the most prominent themes explored throughout the novella.\n",
      "\n",
      "### 1. Redemption and Transformation\n",
      "One of the central themes of \"A Christmas Carol\" is the possibility of redemption. Scrooge embodies this theme as he undergoes a significant transformation from a miserly, cold-hearted individual to a compassionate, generous person. His encounters with the spirits serve as a catalyst for his self-reflection and moral awakening. Scrooge’s journey illustrates the message that it is never too late to change one’s ways and seek forgiveness for past actions.\n",
      "\n",
      "### 2. The Spirit of Christmas\n",
      "The theme of Christmas spirit is deeply embedded in the narrative. Characters like Scrooge's nephew Fred and the Cratchit family personify the joy and warmth associated with the holiday season. The story emphasizes values such as generosity, kindness, and the importance of familial connections, starkly contrasting with Scrooge's initial disdain for Christmas. The festive atmosphere, characterized by togetherness and goodwill, serves as a backdrop for Scrooge’s ultimate transformation.\n",
      "\n",
      "### 3. The Consequences of Isolation\n",
      "Scrooge's initial isolation acts as both a literal and metaphorical embodiment of his character. He is alone, both physically and emotionally, which reflects the broader theme of human connection. The stark loneliness he experiences underscores the dangers of a life devoid of compassion and social ties. As he interacts with characters representing warmth and connection, Scrooge learns the value of community and the profound loneliness that comes from rejecting it.\n",
      "\n",
      "### 4. The Impact of Social Inequality\n",
      "The story critiques social inequality and the neglect faced by the impoverished, exemplified through the plight of the Cratchit family, particularly Tiny Tim, who represents the innocent suffering as a result of societal indifference. The theme encourages empathy towards fellow beings and highlights the moral responsibility of individuals to care for the less fortunate. Scrooge’s initial views on the \"surplus population\" are challenged as he begins to understand the interconnectedness of humanity and his role in affecting change.\n",
      "\n",
      "### 5. The Importance of Memory\n",
      "Memory serves as a crucial theme, as Scrooge's past shapes his present and future. The spirits of Christmas Past, Present, and Yet to Come guide Scrooge through reflections on his life choices and missed opportunities. This theme underscores the significance of acknowledging one's history in order to foster growth and change. The narrative suggests that understanding our past is essential to making meaningful transformations.\n",
      "\n",
      "### Conclusion\n",
      "These themes collectively provide a rich tapestry of moral lessons that resonate through Dickens' timeless tale. \"A Christmas Carol\" encourages readers to reflect on their values, relationships, and responsibilities towards one another, all while emphasizing the transformative power of love, kindness, and the true spirit of Christmas. Through Scrooge's story, Dickens imparts a significant message: the potential for change resides within each individual, no matter the shadows of their past.\n"
     ]
    }
   ],
   "source": [
    "print(await rag.aquery(\"What are the top themes in this story?\", param=QueryParam(mode=\"global\")))"
   ]
  },
  {
   "cell_type": "code",
   "execution_count": 18,
   "id": "1e59b14d-946b-4c24-bd6f-071640a19489",
   "metadata": {},
   "outputs": [
    {
     "name": "stderr",
     "output_type": "stream",
     "text": [
      "INFO:httpx:HTTP Request: POST https://api.openai.com/v1/embeddings \"HTTP/1.1 200 OK\"\n",
      "INFO:lightrag:Local query uses 60 entites, 105 relations, 3 text units\n",
      "INFO:httpx:HTTP Request: POST https://api.openai.com/v1/embeddings \"HTTP/1.1 200 OK\"\n",
      "INFO:lightrag:Global query uses 64 entites, 60 relations, 3 text units\n",
      "INFO:httpx:HTTP Request: POST https://api.openai.com/v1/chat/completions \"HTTP/1.1 200 OK\"\n"
     ]
    },
    {
     "name": "stdout",
     "output_type": "stream",
     "text": [
      "In the narrative of *A Christmas Carol*, various themes emerge that intertwine to convey profound moral and social lessons. Here are the prominent themes present in the story:\n",
      "\n",
      "### 1. Redemption and Transformation\n",
      "At the core of *A Christmas Carol* is the journey of Ebenezer Scrooge toward redemption. Scrooge embodies the possibility of personal transformation through the visits from the three spirits. Initially portrayed as a miserly old man devoid of compassion, his experiences with the Ghost of Christmas Past, the Ghost of Christmas Present, and the Ghost of Christmas Yet to Come highlight his lost opportunities for joy and connection. His ultimate realization of the importance of change underscores the story's affirmation that it is never too late to embrace kindness and generosity.\n",
      "\n",
      "### 2. The Importance of Human Connection\n",
      "Throughout the text, the significance of human relationships is emphasized, juxtaposing Scrooge's isolation against the warm connections others share, particularly during the Christmas season. Characters like Scrooge's nephew Fred and the Cratchit family exemplify the joy found in familial bonds and community, illustrating how connection fosters empathy and kindness. The narrative critiques Scrooge's indifference to human suffering, urging readers to value their relationships and extend compassion to others.\n",
      "\n",
      "### 3. The Consequences of Greed\n",
      "The theme of greed is a critical driving force behind Scrooge's character and actions. His focus on wealth accumulation leads to profound isolation and unfulfilled life experiences. Marley's Ghost, bound by chains he forged through his obsession with money, serves as a cautionary example of the moral consequences associated with prioritizing materialism over humanity. The story warns against the dangers of excessive greed, portraying it as a path to personal despair and eventual societal neglect.\n",
      "\n",
      "### 4. The Spirit of Christmas\n",
      "The narrative portrays Christmas as a time for joy, family, and generosity. Scrooge's disdain for the holiday reflects his initial disconnect from the warmth it embodies. However, as he interacts with the spirits, he learns to appreciate the true spirit of Christmas, which emphasizes community, giving, and social responsibility. This theme serves as a counterpoint to Scrooge's initial perspective, promoting the idea that the season should inspire acts of kindness and benevolence towards the less fortunate.\n",
      "\n",
      "### 5. The Impact of Time\n",
      "The theme of time plays a crucial role in Scrooge's self-reflection. The spirits guide him through his past, present, and future, prompting him to consider the fleeting nature of time and its significance in shaping one's life and choices. This thematic element encourages Scrooge, and the reader, to confront the consequences of neglecting valuable relationships and opportunities. The urgent portrayal of time highlights the story's broader questioning of how individuals should live their lives in the present, as the future is shaped by the decisions made now.\n",
      "\n",
      "### Conclusion\n",
      "*Charles Dickens* intricately weaves these themes into the narrative of *A Christmas Carol*, creating a rich tapestry that explores the human condition and the potential for change. Each theme reinforces the others, contributing to a powerful message about the importance of community, the need for compassion, and the possibility of redemption. Through Scrooge's profound change, the story imparts timeless lessons that remain relevant to modern audiences.\n"
     ]
    }
   ],
   "source": [
    "print(await rag.aquery(\"What are the top themes in this story?\", param=QueryParam(mode=\"hybrid\")))"
   ]
  },
  {
   "cell_type": "code",
   "execution_count": null,
   "id": "a1fa3532-9e51-4236-8b83-3e2ca6958788",
   "metadata": {},
   "outputs": [],
   "source": []
  },
  {
   "cell_type": "code",
   "execution_count": 20,
   "id": "a73cb778-7a20-49ac-bc06-8923eade7da9",
   "metadata": {},
   "outputs": [],
   "source": [
    "WORKING_DIR = \"./qe\"\n",
    "\n",
    "if not os.path.exists(WORKING_DIR):\n",
    "    os.mkdir(WORKING_DIR)"
   ]
  },
  {
   "cell_type": "code",
   "execution_count": 21,
   "id": "fdbd9efa-b46e-4868-b909-4023cc3fb02b",
   "metadata": {},
   "outputs": [],
   "source": [
    "from pylatexenc.latex2text import LatexNodes2Text\n",
    "\n",
    "\n",
    "latex = \"... LaTeX code ...\"\n",
    "text = LatexNodes2Text().latex_to_text(latex)"
   ]
  },
  {
   "cell_type": "code",
   "execution_count": 22,
   "id": "0c734a0e-657d-4206-b7f6-19ee53be26eb",
   "metadata": {},
   "outputs": [
    {
     "name": "stderr",
     "output_type": "stream",
     "text": [
      "INFO:lightrag:Logger initialized for working directory: ./qe\n",
      "DEBUG:lightrag:LightRAG init with param:\n",
      "  working_dir = ./qe,\n",
      "  chunk_token_size = 1200,\n",
      "  chunk_overlap_token_size = 100,\n",
      "  tiktoken_model_name = gpt-4o-mini,\n",
      "  entity_extract_max_gleaning = 1,\n",
      "  entity_summary_to_max_tokens = 500,\n",
      "  node_embedding_algorithm = node2vec,\n",
      "  node2vec_params = {'dimensions': 1536, 'num_walks': 10, 'walk_length': 40, 'window_size': 2, 'iterations': 3, 'random_seed': 3},\n",
      "  embedding_func = {'embedding_dim': 1536, 'max_token_size': 8192, 'func': <function openai_embedding at 0x1487b5300>},\n",
      "  embedding_batch_num = 32,\n",
      "  embedding_func_max_async = 16,\n",
      "  llm_model_func = <function gpt_4o_mini_complete at 0x1487b4c20>,\n",
      "  llm_model_name = meta-llama/Llama-3.2-1B-Instruct,\n",
      "  llm_model_max_token_size = 32768,\n",
      "  llm_model_max_async = 16,\n",
      "  key_string_value_json_storage_cls = <class 'lightrag.storage.JsonKVStorage'>,\n",
      "  vector_db_storage_cls = <class 'lightrag.storage.NanoVectorDBStorage'>,\n",
      "  vector_db_storage_cls_kwargs = {},\n",
      "  graph_storage_cls = <class 'lightrag.storage.NetworkXStorage'>,\n",
      "  enable_llm_cache = True,\n",
      "  addon_params = {},\n",
      "  convert_response_to_json_func = <function convert_response_to_json at 0x1487aa160>\n",
      "\n",
      "INFO:lightrag:Load KV full_docs with 0 data\n",
      "INFO:lightrag:Load KV text_chunks with 0 data\n",
      "INFO:lightrag:Load KV llm_response_cache with 0 data\n",
      "INFO:nano-vectordb:Init {'embedding_dim': 1536, 'metric': 'cosine', 'storage_file': './qe/vdb_entities.json'} 0 data\n",
      "INFO:nano-vectordb:Init {'embedding_dim': 1536, 'metric': 'cosine', 'storage_file': './qe/vdb_relationships.json'} 0 data\n",
      "INFO:nano-vectordb:Init {'embedding_dim': 1536, 'metric': 'cosine', 'storage_file': './qe/vdb_chunks.json'} 0 data\n"
     ]
    }
   ],
   "source": [
    "rag = LightRAG(\n",
    "    working_dir=WORKING_DIR,\n",
    "    llm_model_func=gpt_4o_mini_complete  # Use gpt_4o_mini_complete LLM model\n",
    "    # llm_model_func=gpt_4o_complete  # Optionally, use a stronger model\n",
    ")"
   ]
  },
  {
   "cell_type": "code",
   "execution_count": 23,
   "id": "6eff1f0e-3c8f-4da0-9f96-15add1c938f3",
   "metadata": {},
   "outputs": [],
   "source": [
    "with open(\"./user_guide.tex\",'r') as f:\n",
    "    latex=f.read()\n",
    "text = LatexNodes2Text().latex_to_text(latex)"
   ]
  },
  {
   "cell_type": "code",
   "execution_count": 24,
   "id": "d127a8d4-56be-4bb9-b65b-a2d51df93b92",
   "metadata": {},
   "outputs": [
    {
     "name": "stderr",
     "output_type": "stream",
     "text": [
      "INFO:lightrag:[New Docs] inserting 1 docs\n",
      "INFO:lightrag:[New Chunks] inserting 14 chunks\n",
      "INFO:lightrag:Inserting 14 vectors to chunks\n",
      "INFO:httpx:HTTP Request: POST https://api.openai.com/v1/embeddings \"HTTP/1.1 200 OK\"\n",
      "INFO:lightrag:[Entity Extraction]...\n",
      "INFO:httpx:HTTP Request: POST https://api.openai.com/v1/chat/completions \"HTTP/1.1 200 OK\"\n",
      "INFO:httpx:HTTP Request: POST https://api.openai.com/v1/chat/completions \"HTTP/1.1 200 OK\"\n",
      "INFO:httpx:HTTP Request: POST https://api.openai.com/v1/chat/completions \"HTTP/1.1 200 OK\"\n",
      "INFO:httpx:HTTP Request: POST https://api.openai.com/v1/chat/completions \"HTTP/1.1 200 OK\"\n",
      "INFO:httpx:HTTP Request: POST https://api.openai.com/v1/chat/completions \"HTTP/1.1 200 OK\"\n",
      "INFO:httpx:HTTP Request: POST https://api.openai.com/v1/chat/completions \"HTTP/1.1 200 OK\"\n",
      "INFO:httpx:HTTP Request: POST https://api.openai.com/v1/chat/completions \"HTTP/1.1 200 OK\"\n",
      "INFO:httpx:HTTP Request: POST https://api.openai.com/v1/chat/completions \"HTTP/1.1 200 OK\"\n",
      "INFO:httpx:HTTP Request: POST https://api.openai.com/v1/chat/completions \"HTTP/1.1 200 OK\"\n",
      "INFO:httpx:HTTP Request: POST https://api.openai.com/v1/chat/completions \"HTTP/1.1 200 OK\"\n",
      "INFO:httpx:HTTP Request: POST https://api.openai.com/v1/chat/completions \"HTTP/1.1 200 OK\"\n",
      "INFO:httpx:HTTP Request: POST https://api.openai.com/v1/chat/completions \"HTTP/1.1 200 OK\"\n",
      "INFO:httpx:HTTP Request: POST https://api.openai.com/v1/chat/completions \"HTTP/1.1 200 OK\"\n",
      "INFO:httpx:HTTP Request: POST https://api.openai.com/v1/chat/completions \"HTTP/1.1 200 OK\"\n",
      "INFO:httpx:HTTP Request: POST https://api.openai.com/v1/chat/completions \"HTTP/1.1 200 OK\"\n"
     ]
    },
    {
     "name": "stdout",
     "output_type": "stream",
     "text": [
      "⠙ Processed 1 chunks, 20 entities(duplicated), 4 relations(duplicated)\r"
     ]
    },
    {
     "name": "stderr",
     "output_type": "stream",
     "text": [
      "INFO:httpx:HTTP Request: POST https://api.openai.com/v1/chat/completions \"HTTP/1.1 200 OK\"\n"
     ]
    },
    {
     "name": "stdout",
     "output_type": "stream",
     "text": [
      "⠹ Processed 2 chunks, 40 entities(duplicated), 10 relations(duplicated)\r"
     ]
    },
    {
     "name": "stderr",
     "output_type": "stream",
     "text": [
      "INFO:httpx:HTTP Request: POST https://api.openai.com/v1/chat/completions \"HTTP/1.1 200 OK\"\n",
      "INFO:httpx:HTTP Request: POST https://api.openai.com/v1/chat/completions \"HTTP/1.1 200 OK\"\n"
     ]
    },
    {
     "name": "stdout",
     "output_type": "stream",
     "text": [
      "⠼ Processed 4 chunks, 78 entities(duplicated), 18 relations(duplicated)\r"
     ]
    },
    {
     "name": "stderr",
     "output_type": "stream",
     "text": [
      "INFO:httpx:HTTP Request: POST https://api.openai.com/v1/chat/completions \"HTTP/1.1 200 OK\"\n"
     ]
    },
    {
     "name": "stdout",
     "output_type": "stream",
     "text": [
      "⠴ Processed 5 chunks, 94 entities(duplicated), 28 relations(duplicated)\r"
     ]
    },
    {
     "name": "stderr",
     "output_type": "stream",
     "text": [
      "INFO:httpx:HTTP Request: POST https://api.openai.com/v1/chat/completions \"HTTP/1.1 200 OK\"\n"
     ]
    },
    {
     "name": "stdout",
     "output_type": "stream",
     "text": [
      "⠦ Processed 6 chunks, 122 entities(duplicated), 32 relations(duplicated)\r"
     ]
    },
    {
     "name": "stderr",
     "output_type": "stream",
     "text": [
      "INFO:httpx:HTTP Request: POST https://api.openai.com/v1/chat/completions \"HTTP/1.1 200 OK\"\n"
     ]
    },
    {
     "name": "stdout",
     "output_type": "stream",
     "text": [
      "⠧ Processed 7 chunks, 142 entities(duplicated), 44 relations(duplicated)\r"
     ]
    },
    {
     "name": "stderr",
     "output_type": "stream",
     "text": [
      "INFO:httpx:HTTP Request: POST https://api.openai.com/v1/chat/completions \"HTTP/1.1 200 OK\"\n"
     ]
    },
    {
     "name": "stdout",
     "output_type": "stream",
     "text": [
      "⠇ Processed 8 chunks, 159 entities(duplicated), 49 relations(duplicated)\r"
     ]
    },
    {
     "name": "stderr",
     "output_type": "stream",
     "text": [
      "INFO:httpx:HTTP Request: POST https://api.openai.com/v1/chat/completions \"HTTP/1.1 200 OK\"\n"
     ]
    },
    {
     "name": "stdout",
     "output_type": "stream",
     "text": [
      "⠏ Processed 9 chunks, 178 entities(duplicated), 55 relations(duplicated)\r"
     ]
    },
    {
     "name": "stderr",
     "output_type": "stream",
     "text": [
      "INFO:httpx:HTTP Request: POST https://api.openai.com/v1/chat/completions \"HTTP/1.1 200 OK\"\n"
     ]
    },
    {
     "name": "stdout",
     "output_type": "stream",
     "text": [
      "⠋ Processed 10 chunks, 194 entities(duplicated), 66 relations(duplicated)\r"
     ]
    },
    {
     "name": "stderr",
     "output_type": "stream",
     "text": [
      "INFO:httpx:HTTP Request: POST https://api.openai.com/v1/chat/completions \"HTTP/1.1 200 OK\"\n"
     ]
    },
    {
     "name": "stdout",
     "output_type": "stream",
     "text": [
      "⠙ Processed 11 chunks, 224 entities(duplicated), 73 relations(duplicated)\r"
     ]
    },
    {
     "name": "stderr",
     "output_type": "stream",
     "text": [
      "INFO:httpx:HTTP Request: POST https://api.openai.com/v1/chat/completions \"HTTP/1.1 200 OK\"\n"
     ]
    },
    {
     "name": "stdout",
     "output_type": "stream",
     "text": [
      "⠹ Processed 12 chunks, 239 entities(duplicated), 85 relations(duplicated)\r"
     ]
    },
    {
     "name": "stderr",
     "output_type": "stream",
     "text": [
      "INFO:httpx:HTTP Request: POST https://api.openai.com/v1/chat/completions \"HTTP/1.1 200 OK\"\n"
     ]
    },
    {
     "name": "stdout",
     "output_type": "stream",
     "text": [
      "⠸ Processed 13 chunks, 271 entities(duplicated), 91 relations(duplicated)\r"
     ]
    },
    {
     "name": "stderr",
     "output_type": "stream",
     "text": [
      "INFO:httpx:HTTP Request: POST https://api.openai.com/v1/chat/completions \"HTTP/1.1 200 OK\"\n"
     ]
    },
    {
     "name": "stdout",
     "output_type": "stream",
     "text": [
      "⠼ Processed 14 chunks, 319 entities(duplicated), 96 relations(duplicated)\r"
     ]
    },
    {
     "name": "stderr",
     "output_type": "stream",
     "text": [
      "INFO:lightrag:Inserting 275 vectors to entities\n"
     ]
    },
    {
     "name": "stdout",
     "output_type": "stream",
     "text": [
      "\n"
     ]
    },
    {
     "name": "stderr",
     "output_type": "stream",
     "text": [
      "INFO:httpx:HTTP Request: POST https://api.openai.com/v1/embeddings \"HTTP/1.1 200 OK\"\n",
      "INFO:httpx:HTTP Request: POST https://api.openai.com/v1/embeddings \"HTTP/1.1 200 OK\"\n",
      "INFO:httpx:HTTP Request: POST https://api.openai.com/v1/embeddings \"HTTP/1.1 200 OK\"\n",
      "INFO:httpx:HTTP Request: POST https://api.openai.com/v1/embeddings \"HTTP/1.1 200 OK\"\n",
      "INFO:httpx:HTTP Request: POST https://api.openai.com/v1/embeddings \"HTTP/1.1 200 OK\"\n",
      "INFO:httpx:HTTP Request: POST https://api.openai.com/v1/embeddings \"HTTP/1.1 200 OK\"\n",
      "INFO:httpx:HTTP Request: POST https://api.openai.com/v1/embeddings \"HTTP/1.1 200 OK\"\n",
      "INFO:httpx:HTTP Request: POST https://api.openai.com/v1/embeddings \"HTTP/1.1 200 OK\"\n",
      "INFO:httpx:HTTP Request: POST https://api.openai.com/v1/embeddings \"HTTP/1.1 200 OK\"\n",
      "INFO:lightrag:Inserting 95 vectors to relationships\n",
      "INFO:httpx:HTTP Request: POST https://api.openai.com/v1/embeddings \"HTTP/1.1 200 OK\"\n",
      "INFO:httpx:HTTP Request: POST https://api.openai.com/v1/embeddings \"HTTP/1.1 200 OK\"\n",
      "INFO:httpx:HTTP Request: POST https://api.openai.com/v1/embeddings \"HTTP/1.1 200 OK\"\n",
      "INFO:lightrag:Writing graph with 277 nodes, 95 edges\n"
     ]
    }
   ],
   "source": [
    "await rag.ainsert(text)"
   ]
  },
  {
   "cell_type": "code",
   "execution_count": 26,
   "id": "c481cd1a-78da-4fb9-ae2c-f33c564e9594",
   "metadata": {},
   "outputs": [
    {
     "name": "stderr",
     "output_type": "stream",
     "text": [
      "INFO:httpx:HTTP Request: POST https://api.openai.com/v1/embeddings \"HTTP/1.1 200 OK\"\n",
      "INFO:lightrag:Truncate 14 to 3 chunks\n",
      "INFO:httpx:HTTP Request: POST https://api.openai.com/v1/chat/completions \"HTTP/1.1 200 OK\"\n"
     ]
    },
    {
     "name": "stdout",
     "output_type": "stream",
     "text": [
      "The input file format for single-point energy calculations in Quantum ESPRESSO typically follows a structured format called a \"namelist\" and includes various parameters that define the calculation's specifics. While the exact details can vary based on the specific functionality and version of Quantum ESPRESSO being used, a general template for a single-point energy calculation might look like this:\n",
      "\n",
      "1. **Namelist**: The primary component of the input file is usually a namelist, which is enclosed in & and / symbols. A common namelist for single-point energy calculations is `&CONTROL`, which includes parameters like the calculation type, output format, and others.\n",
      "\n",
      "2. **Parameters**: Within the namelist, specific parameters need to be set. For example:\n",
      "   - `calculation`: Specifies the type of calculation, typically set to `'scf'` for a self-consistent field calculation.\n",
      "   - `prefix`: The prefix for the files generated during the calculation.\n",
      "   - `outdir`: The directory for temporary files.\n",
      "\n",
      "   Example:\n",
      "   ```\n",
      "   &CONTROL\n",
      "       calculation = 'scf',\n",
      "       prefix = 'my_system',\n",
      "       outdir = './tmp/',\n",
      "   /\n",
      "   ```\n",
      "\n",
      "3. **System Parameters**: Another namelist called `&SYSTEM` where details about the system being studied can be specified, such as:\n",
      "   - `ibrav`: Bravais lattice type.\n",
      "   - `celldm`: Dimensions of the unit cell.\n",
      "   - `nat`: Total number of atoms in the system.\n",
      "   - `ntyp`: Number of types of atoms.\n",
      "\n",
      "   Example:\n",
      "   ```\n",
      "   &SYSTEM\n",
      "       ibrav = 2,\n",
      "       celldm(1) = 10.0,\n",
      "       nat = 2,\n",
      "       ntyp = 1,\n",
      "   /\n",
      "   ```\n",
      "\n",
      "4. **Electrons**: A third namelist, `&ELECTRONS`, may be included to define parameters related to the electronic structure calculation. It typically includes:\n",
      "   - `conv_thr`: Convergence threshold.\n",
      "   - `mixing_beta`: Mixing parameter for the self-consistent field.\n",
      "\n",
      "   Example:\n",
      "   ```\n",
      "   &ELECTRONS\n",
      "       conv_thr = 1.0d-8,\n",
      "       mixing_beta = 0.7,\n",
      "   /\n",
      "   ```\n",
      "\n",
      "5. **ATOMIC_SPECIES and ATOMIC_POSITIONS**: You will also need to define the atomic species and their positions in standard formats like:\n",
      "\n",
      "   ```\n",
      "   ATOMIC_SPECIES\n",
      "       O 16.00 O.pz-vbc.UPF\n",
      "       H 1.008 H.pz-rrkjus.UPF\n",
      "\n",
      "   ATOMIC_POSITIONS (angstrom)\n",
      "       O 0.0 0.0 0.0\n",
      "       H 0.0 0.0 0.9\n",
      "   ```\n",
      "\n",
      "6. **K_POINTS**: Finally, a section for k-points might be included:\n",
      "   ```\n",
      "   K_POINTS automatic\n",
      "   4 4 4 0 0 0\n",
      "   ```\n",
      "\n",
      "This structure allows Quantum ESPRESSO to execute the single-point energy calculation efficiently. Additional parameters may be required based on the specific calculation and the system being studied. Always refer to the specific version's documentation for the latest input formats and options.\n"
     ]
    }
   ],
   "source": [
    "print(await rag.aquery(\"What is the format of input file for the single point energy calcualtions?\", param=QueryParam(mode=\"naive\")))"
   ]
  },
  {
   "cell_type": "code",
   "execution_count": 27,
   "id": "5f9f7a54-ff41-4a61-b849-89d619b0c499",
   "metadata": {},
   "outputs": [
    {
     "name": "stderr",
     "output_type": "stream",
     "text": [
      "INFO:httpx:HTTP Request: POST https://api.openai.com/v1/embeddings \"HTTP/1.1 200 OK\"\n",
      "INFO:lightrag:Truncate 14 to 3 chunks\n",
      "INFO:httpx:HTTP Request: POST https://api.openai.com/v1/chat/completions \"HTTP/1.1 200 OK\"\n"
     ]
    },
    {
     "name": "stdout",
     "output_type": "stream",
     "text": [
      "The software package referred to is Quantum ESPRESSO, which stands for \"opEn-Source Package for Research in Electronic Structure, Simulation, and Optimization.\" It is a suite of tools for performing calculations in the field of electronic structure, specifically within the framework of Density-Functional Theory (DFT). Quantum ESPRESSO uses a Plane-Wave basis set and pseudopotentials to compute various electronic-structure properties.\n",
      "\n",
      "Quantum ESPRESSO includes core programs for Plane-Wave Self-Consistent Field (PWSCF) calculations and Car-Parrinello molecular dynamics. Additionally, it offers several auxiliary packages for specialized calculations, such as energy barriers, vibrational properties, electronic excitations, and other advanced methods. The package is designed to work on various Unix machines, including support for parallel execution, and is also compatible with Mac OS X and MS-Windows machines.\n",
      "\n",
      "The distribution provides capabilities for a wide range of tasks in computational materials science and condensed matter physics, making it a valuable tool for researchers in these fields.\n"
     ]
    }
   ],
   "source": [
    "print(await rag.aquery(\"Which software package is it?\", param=QueryParam(mode=\"naive\")))"
   ]
  },
  {
   "cell_type": "code",
   "execution_count": 28,
   "id": "08f1129e-e22a-4706-86da-91a1a786e6d0",
   "metadata": {},
   "outputs": [
    {
     "name": "stderr",
     "output_type": "stream",
     "text": [
      "INFO:httpx:HTTP Request: POST https://api.openai.com/v1/chat/completions \"HTTP/1.1 200 OK\"\n",
      "INFO:httpx:HTTP Request: POST https://api.openai.com/v1/embeddings \"HTTP/1.1 200 OK\"\n",
      "INFO:lightrag:Local query uses 60 entites, 50 relations, 3 text units\n",
      "INFO:httpx:HTTP Request: POST https://api.openai.com/v1/chat/completions \"HTTP/1.1 200 OK\"\n"
     ]
    },
    {
     "name": "stdout",
     "output_type": "stream",
     "text": [
      "The input file format for single-point energy calculations in computational codes like Quantum ESPRESSO is typically structured in a way that is consistent with the requirements of the Density Functional Theory (DFT) calculations. While the specific details may vary based on the software version and user specifications, here are the main components generally included in such input files:\n",
      "\n",
      "### Basic Components of the Input File\n",
      "\n",
      "1. **Case Title**: At the beginning of the input file, a title is given that describes the calculation. This title helps identify the purpose of the calculation.\n",
      "\n",
      "2. **Namelist Sections**: The input is organized into various namelist groups that specify different aspects of the calculation. For single-point energy calculations, relevant namelist entries may include:\n",
      "   - `&CONTROL`: This section contains parameters that control the calculation process, such as the calculation type (e.g., 'scf' for self-consistent field).\n",
      "   - `&SYSTEM`: This defines the system under study. It includes parameters like the number of atoms, types of atoms, the basis set, and planewave cutoff energies.\n",
      "   - `&ELECTRONS`: This section is particularly important for specifying settings related to electronic structure calculations, including convergence thresholds and mixing parameters.\n",
      "\n",
      "3. **Atomic Coordinates**: The atomic positions must be defined within the input. This can be specified in either Cartesian or crystallographic coordinates, depending on the preferences and requirements of the calculation.\n",
      "\n",
      "4. **K-Points Definition**: If applicable, the file will require the specification of k-points for Brillouin zone sampling. For single-point calculations, a Monkhorst-Pack grid or other specified k-point mesh may be indicated.\n",
      "\n",
      "5. **Pseudopotentials**: The pseudopotential files corresponding to the atomic species present in the system must be referenced. These pseudopotentials simplify the calculations by approximating the interaction between electrons and atomic nuclei.\n",
      "\n",
      "6. **Output Settings**: Options for controlling the output of the calculations, including verbosity level and which files to write, may be included.\n",
      "\n",
      "### Example Format\n",
      "\n",
      "Below is a simplified example of what a single-point energy calculation input file might look like using a format similar to that used in Quantum ESPRESSO:\n",
      "\n",
      "```\n",
      "&CONTROL\n",
      "  title = 'Single Point Energy Calculation'\n",
      "  calculation = 'scf'\n",
      "  outdir = './tmp/'\n",
      "  pseudo_dir = './pseudopotentials/'\n",
      "/\n",
      "&SYSTEM\n",
      "  ibrav = 2\n",
      "  celldm(1) = 10.20\n",
      "  nat = 2\n",
      "  ntyp = 1\n",
      "  ecutwfc = 30.0\n",
      "/\n",
      "&ELECTRONS\n",
      "  conv_thr = 1.0d-8\n",
      "  mixing_beta = 0.7\n",
      "/\n",
      "ATOMIC_SPECIES\n",
      "  Si  28.0855  Si.pz-vbc.UPF\n",
      "ATOMIC_POSITIONS (angstrom)\n",
      "  Si 0.0 0.0 0.0\n",
      "  Si 1.0 1.0 1.0\n",
      "K_POINTS automatic\n",
      "  4 4 4 0 0 0\n",
      "```\n",
      "\n",
      "### Conclusion\n",
      "\n",
      "In conclusion, the input file for single-point energy calculations typically contains structured sections for control settings, system definitions, atomic coordinates, k-points, pseudopotentials, and output specifications. The exact format may vary between software packages, but familiarity with these basic elements will aid in constructing proper input files for computational simulations. Always refer to specific documentation related to the software for precise formatting guidelines and options that may be available.\n"
     ]
    }
   ],
   "source": [
    "print(await rag.aquery(\"What is the format of input file for the single point energy calcualtions?\", param=QueryParam(mode=\"local\")))"
   ]
  },
  {
   "cell_type": "code",
   "execution_count": 29,
   "id": "f7013528-9cf3-42b7-8328-96c9d55b94f7",
   "metadata": {},
   "outputs": [
    {
     "name": "stderr",
     "output_type": "stream",
     "text": [
      "INFO:httpx:HTTP Request: POST https://api.openai.com/v1/embeddings \"HTTP/1.1 200 OK\"\n",
      "INFO:lightrag:Global query uses 69 entites, 60 relations, 3 text units\n",
      "INFO:httpx:HTTP Request: POST https://api.openai.com/v1/chat/completions \"HTTP/1.1 200 OK\"\n"
     ]
    },
    {
     "name": "stdout",
     "output_type": "stream",
     "text": [
      "I'm sorry, but the data tables provided do not contain any specific information regarding the format of input files for single point energy calculations. If you require details on input file formats, it may be best to refer to documentation from specific software packages used for these calculations, such as Quantum ESPRESSO or others in the field of computational chemistry and physics.\n"
     ]
    }
   ],
   "source": [
    "print(await rag.aquery(\"What is the format of input file for the single point energy calcualtions?\", param=QueryParam(mode=\"global\")))"
   ]
  },
  {
   "cell_type": "code",
   "execution_count": 30,
   "id": "3afe1824-0f3c-4279-aa54-13324067cc56",
   "metadata": {},
   "outputs": [
    {
     "name": "stderr",
     "output_type": "stream",
     "text": [
      "INFO:httpx:HTTP Request: POST https://api.openai.com/v1/embeddings \"HTTP/1.1 200 OK\"\n",
      "INFO:lightrag:Local query uses 60 entites, 50 relations, 3 text units\n",
      "INFO:httpx:HTTP Request: POST https://api.openai.com/v1/embeddings \"HTTP/1.1 200 OK\"\n",
      "INFO:lightrag:Global query uses 69 entites, 60 relations, 3 text units\n",
      "INFO:httpx:HTTP Request: POST https://api.openai.com/v1/chat/completions \"HTTP/1.1 200 OK\"\n"
     ]
    },
    {
     "name": "stdout",
     "output_type": "stream",
     "text": [
      "### Format of Input Files for Single Point Energy Calculations\n",
      "\n",
      "In single point energy calculations, the input files are critical as they provide the necessary parameters and data for the computation. The details regarding the specifics of these input files typically include the following:\n",
      "\n",
      "1. **Input File Structure**: \n",
      "   - The input file must include a clearly defined structure that organizes parameters needed for the calculation. Commonly, this includes sections such as the computational method to be used, the type of basis set, and the identification of the molecular or material system being studied.\n",
      "   - For instance, users may define parameters such as lattice vectors and atomic coordinates explicitly.\n",
      "  \n",
      "2. **Keywords and Parameters**: \n",
      "   - The input files should utilize specific keywords that dictate the operations and calculations to be performed during the simulation. This includes defining the type of calculation as \"single point energy\" and specifying the electronic structure theory method to be used (e.g., DFT, Hartree-Fock, etc.).\n",
      "   - Examples of typical keywords in the context of DFT calculations may include `&control`, `&system`, and `&electrons`, which are part of the DFT package's standard setup.\n",
      "\n",
      "3. **File Format**: \n",
      "   - The file format is generally plain text, allowing users to edit inputs easily using any text editing software. This ensures compatibility across various systems and software environments, such as UNIX or Windows operating systems.\n",
      "   - The input files often follow a specific format standard as dictated by the computational package (such as Quantum ESPRESSO). \n",
      "\n",
      "4. **Comment Lines**: \n",
      "   - Users may include comment lines within the input file for clarification or documentation purposes. These lines typically start with a special character (e.g., `#` for comments), ensuring that the computational engine ignores them during execution.\n",
      "\n",
      "5. **Example Input Template**: \n",
      "   - An example structure might look like: \n",
      "     ```\n",
      "     &control\n",
      "         calculation = 'scf'\n",
      "         prefix = 'sample'\n",
      "         outdir = './tmp/'\n",
      "     &end\n",
      "\n",
      "     &system\n",
      "         ibrav = 1\n",
      "         celldm(1) = 10.0\n",
      "         nat = 2\n",
      "         nspin = 1\n",
      "     &end\n",
      "\n",
      "     &electrons\n",
      "         conv_thr = 1.0D-8\n",
      "     &end\n",
      "     ```\n",
      "   - In this template:\n",
      "     - The `&control` block specifies operational parameters.\n",
      "     - The `&system` section defines the system's characteristics.\n",
      "     - The `&electrons` section manages details related to electronic convergence.\n",
      "\n",
      "In summation, the format of input files for single point energy calculations emphasizes structured organization, clarity in parameter specification, and flexibility in editing, thereby ensuring effective computational results. Users must refer to the specific documentation of the software being used, such as Quantum ESPRESSO, for the exact formats and parameters applicable to their calculations.\n"
     ]
    }
   ],
   "source": [
    "print(await rag.aquery(\"What is the format of input file for the single point energy calcualtions?\", param=QueryParam(mode=\"hybrid\")))"
   ]
  },
  {
   "cell_type": "code",
   "execution_count": 34,
   "id": "8c3712d2-4c4a-4c57-9ba7-448baf516d3e",
   "metadata": {},
   "outputs": [
    {
     "name": "stderr",
     "output_type": "stream",
     "text": [
      "INFO:httpx:HTTP Request: POST https://api.openai.com/v1/chat/completions \"HTTP/1.1 200 OK\"\n",
      "INFO:httpx:HTTP Request: POST https://api.openai.com/v1/embeddings \"HTTP/1.1 200 OK\"\n",
      "INFO:lightrag:Local query uses 60 entites, 28 relations, 3 text units\n",
      "INFO:httpx:HTTP Request: POST https://api.openai.com/v1/chat/completions \"HTTP/1.1 200 OK\"\n"
     ]
    },
    {
     "name": "stdout",
     "output_type": "stream",
     "text": [
      "### Input File Format for Single Point Energy Calculations\n",
      "\n",
      "The input file format for single point energy calculations in software packages like Quantum ESPRESSO typically requires several sections that define the system, parameters, and calculation specs. An essential input structure often comprises the following elements:\n",
      "\n",
      "1. **System Information**: Defines the chemical species and their geometric configuration.\n",
      "2. **Calculation Type**: Specifies that the calculation aims to determine single point energy.\n",
      "3. **K-Points**: Determines the sampling of the Brillouin zone, which can be reduced for simpler systems.\n",
      "4. **Basis Set and Pseudopotentials**: Any pseudopotential files required for the calculations must also be specified.\n",
      "5. **Output Settings**: Specifies what outputs the calculation should generate, such as energy outputs.\n",
      "\n",
      "#### Example Input File for NaCl\n",
      "\n",
      "Based on the general requirements for a single point energy calculation and adapting the structure to represent sodium chloride (NaCl), here's an example input file that includes the necessary components:\n",
      "\n",
      "```plaintext\n",
      "# NaCl Single Point Energy Calculation\n",
      "\n",
      "&CONTROL\n",
      "    calculation = 'scf',       # Self-consistent field calculation\n",
      "    prefix = 'NaCl',           # Prefix for output files\n",
      "    pseudo_dir = './pseudopotentials/', # Directory for pseudopotential files\n",
      "    outdir = './tmp/',          # Directory for temporary files\n",
      "    tprnfor = .true.,          # Print forces\n",
      "    tprnq = .true.,            # Print charges\n",
      "/\n",
      "\n",
      "&SYSTEM\n",
      "    ibrav = 1,                 # Cubic lattice\n",
      "    a = 5.64,                  # Lattice parameter (in Angstroms)\n",
      "    nat = 2,                   # Number of atoms (1 Na + 1 Cl)\n",
      "    ntyp = 2,                  # Number of types of atoms (Na and Cl)\n",
      "    ecutwfc = 30.0,            # Kinetic energy cutoff (in Ry)\n",
      "    ecutrho = 300.0,          # Charge density cutoff (in Ry)\n",
      "/\n",
      "\n",
      "&ELECTRONS\n",
      "    max_scf = 100,             # Maximum number of SCF cycles\n",
      "    conv_thr = 1.0D-8,         # Convergence threshold for SCF\n",
      "/\n",
      "\n",
      "ATOMIC_POSITIONS (crystal)\n",
      "    Na 0.0 0.0 0.0            # Position of Na atom\n",
      "    Cl 0.5 0.5 0.5            # Position of Cl atom\n",
      "\n",
      "K_POINTS (automatic)\n",
      "    1 1 1 0 0 0               # 1x1x1 k-point grid (Gamma point)\n",
      "\n",
      "```\n",
      "\n",
      "### Explanation of Included Sections\n",
      "\n",
      "- **CONTROL Section**: This section defines the overall control parameters of the calculation, including the type (`scf`) for single point energy, the output prefix, and directories for pseudopotential files and temporary data.\n",
      "  \n",
      "- **SYSTEM Section**: Specifies details about the crystal structure, atomic types, and energy cutoff values for wavefunctions and charge density.\n",
      "\n",
      "- **ELECTRONS Section**: Contains parameters governing the convergence of the self-consistent field calculation.\n",
      "\n",
      "- **ATOMIC_POSITIONS Section**: Lists the positions of the atoms in the crystal unit cell. NaCl has one sodium and one chlorine atom, positioned appropriately within the unit cell.\n",
      "\n",
      "- **K_POINTS Section**: Defines the sampling of the Brillouin zone. In this case, we are using a single k-point at the gamma point due to the cubic symmetry of NaCl.\n",
      "\n",
      "This input structure is standard for DFT calculations and should align with the general format utilized in Quantum ESPRESSO. However, it's crucial to verify this against the actual documentation of the software or framework being used, as there may be additional flags or parameters required based on the specific version or extensions applied.\n"
     ]
    }
   ],
   "source": [
    "print(await rag.aquery(\"What is the format of input file for the single point energy calcualtions? \\\n",
    "Can you generate an input file for NaCl using this information? Check that you have included all obligatory\\\n",
    "information.\", param=QueryParam(mode=\"local\")))"
   ]
  },
  {
   "cell_type": "code",
   "execution_count": 35,
   "id": "b6b4adbd-81c3-45b7-a5f7-b8b6f38292b9",
   "metadata": {},
   "outputs": [
    {
     "name": "stderr",
     "output_type": "stream",
     "text": [
      "INFO:httpx:HTTP Request: POST https://api.openai.com/v1/chat/completions \"HTTP/1.1 200 OK\"\n",
      "INFO:httpx:HTTP Request: POST https://api.openai.com/v1/embeddings \"HTTP/1.1 200 OK\"\n",
      "INFO:lightrag:Local query uses 60 entites, 28 relations, 3 text units\n",
      "INFO:httpx:HTTP Request: POST https://api.openai.com/v1/embeddings \"HTTP/1.1 200 OK\"\n",
      "INFO:lightrag:Global query uses 71 entites, 60 relations, 3 text units\n",
      "INFO:httpx:HTTP Request: POST https://api.openai.com/v1/chat/completions \"HTTP/1.1 200 OK\"\n"
     ]
    },
    {
     "name": "stdout",
     "output_type": "stream",
     "text": [
      "**Overview of PWscf Capabilities**\n",
      "\n",
      "PWscf, part of the Quantum ESPRESSO suite, stands for Plane-Wave Self-Consistent Field and is primarily designed for quantum mechanical calculations of complex materials at the nanoscale. It utilizes Density Functional Theory (DFT) to accurately model the electronic structure of many-body systems. The following sections break down the key functionalities and calculations that PWscf can perform.\n",
      "\n",
      "**Key Functionalities**\n",
      "\n",
      "1. **Electronic Structure Calculations**:\n",
      "   - PWscf is fundamentally designed to compute the electronic properties of materials. It employs methods under DFT to determine energy levels, charge densities, and wave functions of electrons.\n",
      "\n",
      "2. **Geometry Optimization**:\n",
      "   - The software can optimize the geometric configuration of molecules and crystal structures, finding the lowest energy state by adjusting positions of atoms to reduce their total energy.\n",
      "\n",
      "3. **Vibrational Properties**:\n",
      "   - Through methods such as Density-Functional Perturbation Theory (DFPT), PWscf is capable of calculating vibrational modes and frequencies, which are essential for understanding material stability and responses to external perturbations.\n",
      "\n",
      "4. **Excitation Properties**:\n",
      "   - PWscf supports calculations of electronic excitations, which are important for studying phenomena like optical properties and electronic transitions, particularly utilizing frameworks like the Bethe-Salpeter equation.\n",
      "\n",
      "5. **Advanced Theoretical Models**:\n",
      "   - The program includes implementations for various functionals, including Local Density Approximation (LDA) and Generalized Gradient Approximation (GGA), allowing users to select the most appropriate functional for their specific study.\n",
      "\n",
      "6. **Parallel Computation**:\n",
      "   - Designed for high-performance computing, PWscf supports MPI (Message Passing Interface) for executing computations on massively parallel machines, enabling efficient handling of large computational tasks.\n",
      "\n",
      "7. **Support for Pseudopotentials**:\n",
      "   - The software utilizes pseudopotentials to simplify the calculations related to electron-nucleus interaction, making it feasible to study larger systems without compromising on accuracy.\n",
      "\n",
      "8. **Interfacing with Other Packages**:\n",
      "   - PWscf can work in conjunction with other computational tools and libraries, enhancing its capabilities to include post-processing and data analysis tools.\n",
      "\n",
      "9. **Material Properties Simulation**:\n",
      "   - By employing different functionalities, it can simulate a wide range of material properties (e.g., electrical, magnetic, and thermal) and phenomena such as phase transitions and chemical reactions.\n",
      "\n",
      "**Conclusion**\n",
      "\n",
      "In summary, PWscf is a versatile tool for researchers in computational materials science. It enables extensive simulations of complex systems using advanced quantum mechanical methods, supporting diverse applications from fundamental material properties to intricate computational tasks in electronic-structure theories. Its integration with high-performance computing platforms further enhances its utility for large-scale numerical tasks, making it a valuable asset for researchers in the field.\n"
     ]
    }
   ],
   "source": [
    "print(await rag.aquery(\"What can PWscf do?\", param=QueryParam(mode=\"hybrid\")))"
   ]
  },
  {
   "cell_type": "code",
   "execution_count": 36,
   "id": "0fd6baf1-e284-4fb2-ad48-f58a0a8a38e4",
   "metadata": {},
   "outputs": [
    {
     "name": "stderr",
     "output_type": "stream",
     "text": [
      "INFO:httpx:HTTP Request: POST https://api.openai.com/v1/chat/completions \"HTTP/1.1 200 OK\"\n",
      "INFO:httpx:HTTP Request: POST https://api.openai.com/v1/embeddings \"HTTP/1.1 200 OK\"\n",
      "INFO:lightrag:Local query uses 60 entites, 26 relations, 3 text units\n",
      "INFO:httpx:HTTP Request: POST https://api.openai.com/v1/embeddings \"HTTP/1.1 200 OK\"\n",
      "INFO:lightrag:Global query uses 25 entites, 19 relations, 3 text units\n",
      "INFO:httpx:HTTP Request: POST https://api.openai.com/v1/chat/completions \"HTTP/1.1 200 OK\"\n"
     ]
    },
    {
     "name": "stdout",
     "output_type": "stream",
     "text": [
      "Calculating band structures is a fundamental task in computational materials science, particularly when applying methods like Density Functional Theory (DFT). Below is a breakdown of the general steps involved in performing a band structure calculation, particularly in the context of using software packages such as Quantum ESPRESSO.\n",
      "\n",
      "### Step 1: Preparation of the Input Files\n",
      "\n",
      "Before starting the computational process, you need to prepare the input files that define the system under study. This includes specifying the crystal structure, the basis of atoms, and the type of pseudopotentials to be employed. For DFT calculations, you can utilize pseudopotential files that simplify interactions between electrons and atomic nuclei. \n",
      "\n",
      "A specific directory called **PSEUDO_DIR** is used for these pseudopotential files, ensuring they are accessible during computation.\n",
      "\n",
      "### Step 2: Perform Self-Consistent Field (SCF) Calculations\n",
      "\n",
      "The first computational step in obtaining the band structure is to run a self-consistent field (SCF) calculation. This involves:\n",
      "\n",
      "- Initializing the electronic density.\n",
      "- Solving Kohn-Sham equations iteratively until convergence is achieved. \n",
      "- Typically, tools like **LDA** (Local Density Approximation) or **GGA** (Generalized Gradient Approximation) are used during this phase for better accuracy.\n",
      "\n",
      "You will require the appropriate functionals from libraries such as **Libxc** to perform these calculations accurately.\n",
      "\n",
      "### Step 3: Prepare the k-Point Path\n",
      "\n",
      "The band structure is plotted along high-symmetry directions in the Brillouin zone. Therefore, you need to define a k-point path, which involves selecting specific points that represent these high-symmetry directions. For instance, common paths might connect points like Γ (Gamma), X, and L in cubic crystals.\n",
      "\n",
      "### Step 4: Non-SCF Calculation Along the k-Point Path\n",
      "\n",
      "Once you have completed the SCF calculation, the next step is to perform a non-SCF calculation over the defined k-point path. This would typically involve:\n",
      "\n",
      "- Calculating the eigenvalues at each k-point along the specified path.\n",
      "- The resulting eigenvalues correspond to the energies of the electronic states, which are plotted to visualize the band structure.\n",
      "\n",
      "### Step 5: Analyze the Results\n",
      "\n",
      "After the calculations are complete, you will need to analyze the output files generated by Quantum ESPRESSO or any other DFT package you are using. The key output component is the band structure plot, which shows the energy levels (y-axis) against the k-points (x-axis).\n",
      "\n",
      "### Additional Considerations\n",
      "\n",
      "- Familiarize yourself with the **Graphical User Interface (GUI)** tools provided in Quantum ESPRESSO for easier input customization and output visualization.\n",
      "- Utilize references or textbooks, such as works by Richard Martin or J. A. Steckel, to enrich your understanding of the underlying physics and ensure proper methodology.\n",
      "- For advanced accuracy, consider employing Many-Body Perturbation Theory corrections using frameworks such as the GW approximation if the materials exhibit complex electronic interactions.\n",
      "\n",
      "By following these steps and leveraging the resources available in Quantum ESPRESSO, you can effectively calculate the band structure of various materials, leading to deeper insights into their electronic properties.\n"
     ]
    }
   ],
   "source": [
    "print(await rag.aquery(\"How do I calculate band structure?\", param=QueryParam(mode=\"hybrid\")))\n"
   ]
  },
  {
   "cell_type": "code",
   "execution_count": null,
   "id": "ad4dc15f-b42a-448c-93b1-778290c028d7",
   "metadata": {},
   "outputs": [],
   "source": []
  },
  {
   "cell_type": "code",
   "execution_count": 5,
   "id": "917f2b27-b97d-4a4f-9b51-0221fb5300ca",
   "metadata": {},
   "outputs": [
    {
     "name": "stderr",
     "output_type": "stream",
     "text": [
      "INFO:lightrag:Logger initialized for working directory: ./empty\n",
      "DEBUG:lightrag:LightRAG init with param:\n",
      "  working_dir = ./empty,\n",
      "  chunk_token_size = 1200,\n",
      "  chunk_overlap_token_size = 100,\n",
      "  tiktoken_model_name = gpt-4o-mini,\n",
      "  entity_extract_max_gleaning = 1,\n",
      "  entity_summary_to_max_tokens = 500,\n",
      "  node_embedding_algorithm = node2vec,\n",
      "  node2vec_params = {'dimensions': 1536, 'num_walks': 10, 'walk_length': 40, 'window_size': 2, 'iterations': 3, 'random_seed': 3},\n",
      "  embedding_func = {'embedding_dim': 1536, 'max_token_size': 8192, 'func': <function openai_embedding at 0x11fc41080>},\n",
      "  embedding_batch_num = 32,\n",
      "  embedding_func_max_async = 16,\n",
      "  llm_model_func = <function gpt_4o_mini_complete at 0x11fc409a0>,\n",
      "  llm_model_name = meta-llama/Llama-3.2-1B-Instruct,\n",
      "  llm_model_max_token_size = 32768,\n",
      "  llm_model_max_async = 16,\n",
      "  key_string_value_json_storage_cls = <class 'lightrag.storage.JsonKVStorage'>,\n",
      "  vector_db_storage_cls = <class 'lightrag.storage.NanoVectorDBStorage'>,\n",
      "  vector_db_storage_cls_kwargs = {},\n",
      "  graph_storage_cls = <class 'lightrag.storage.NetworkXStorage'>,\n",
      "  enable_llm_cache = True,\n",
      "  addon_params = {},\n",
      "  convert_response_to_json_func = <function convert_response_to_json at 0x11fc39e40>\n",
      "\n",
      "INFO:lightrag:Load KV full_docs with 0 data\n",
      "INFO:lightrag:Load KV text_chunks with 0 data\n",
      "INFO:lightrag:Load KV llm_response_cache with 0 data\n",
      "INFO:nano-vectordb:Init {'embedding_dim': 1536, 'metric': 'cosine', 'storage_file': './empty/vdb_entities.json'} 0 data\n",
      "INFO:nano-vectordb:Init {'embedding_dim': 1536, 'metric': 'cosine', 'storage_file': './empty/vdb_relationships.json'} 0 data\n",
      "INFO:nano-vectordb:Init {'embedding_dim': 1536, 'metric': 'cosine', 'storage_file': './empty/vdb_chunks.json'} 0 data\n"
     ]
    }
   ],
   "source": [
    "WORKING_DIR = \"./empty\"\n",
    "\n",
    "if not os.path.exists(WORKING_DIR):\n",
    "    os.mkdir(WORKING_DIR)\n",
    "    \n",
    "rag = LightRAG(\n",
    "    working_dir=WORKING_DIR,\n",
    "    llm_model_func=gpt_4o_mini_complete  # Use gpt_4o_mini_complete LLM model\n",
    "    # llm_model_func=gpt_4o_complete  # Optionally, use a stronger model\n",
    ")"
   ]
  },
  {
   "cell_type": "code",
   "execution_count": 6,
   "id": "588e316c-4aa1-4852-87d0-56cae045c94c",
   "metadata": {},
   "outputs": [
    {
     "name": "stderr",
     "output_type": "stream",
     "text": [
      "INFO:lightrag:[New Docs] inserting 1 docs\n",
      "WARNING:lightrag:All chunks are already in the storage\n",
      "INFO:lightrag:Writing graph with 0 nodes, 0 edges\n"
     ]
    }
   ],
   "source": [
    "text=''\n",
    "await rag.ainsert(text)"
   ]
  },
  {
   "cell_type": "code",
   "execution_count": 7,
   "id": "416f90b9-8acc-44c6-92d7-499b30f7d3e7",
   "metadata": {},
   "outputs": [
    {
     "name": "stderr",
     "output_type": "stream",
     "text": [
      "INFO:httpx:HTTP Request: POST https://api.openai.com/v1/chat/completions \"HTTP/1.1 200 OK\"\n",
      "INFO:httpx:HTTP Request: POST https://api.openai.com/v1/embeddings \"HTTP/1.1 200 OK\"\n"
     ]
    },
    {
     "name": "stdout",
     "output_type": "stream",
     "text": [
      "Sorry, I'm not able to provide an answer to that question.\n"
     ]
    }
   ],
   "source": [
    "print(await rag.aquery(\"What is the format of input file for the single point energy calcualtions?\", param=QueryParam(mode=\"local\")))"
   ]
  },
  {
   "cell_type": "code",
   "execution_count": 8,
   "id": "2c2816e6-48ed-4a4f-94a7-7b2abf2eb1e3",
   "metadata": {},
   "outputs": [
    {
     "name": "stderr",
     "output_type": "stream",
     "text": [
      "INFO:httpx:HTTP Request: POST https://api.openai.com/v1/chat/completions \"HTTP/1.1 200 OK\"\n",
      "INFO:httpx:HTTP Request: POST https://api.openai.com/v1/embeddings \"HTTP/1.1 200 OK\"\n"
     ]
    },
    {
     "name": "stdout",
     "output_type": "stream",
     "text": [
      "Sorry, I'm not able to provide an answer to that question.\n"
     ]
    }
   ],
   "source": [
    "print(await rag.aquery(\"What are the top themes in this story?\", param=QueryParam(mode=\"local\")))"
   ]
  },
  {
   "cell_type": "code",
   "execution_count": null,
   "id": "0abeac2d-ab9a-40bb-8e5d-19b5abbfbff8",
   "metadata": {},
   "outputs": [],
   "source": []
  }
 ],
 "metadata": {
  "kernelspec": {
   "display_name": "Python 3 (ipykernel)",
   "language": "python",
   "name": "python3"
  },
  "language_info": {
   "codemirror_mode": {
    "name": "ipython",
    "version": 3
   },
   "file_extension": ".py",
   "mimetype": "text/x-python",
   "name": "python",
   "nbconvert_exporter": "python",
   "pygments_lexer": "ipython3",
   "version": "3.12.7"
  }
 },
 "nbformat": 4,
 "nbformat_minor": 5
}
