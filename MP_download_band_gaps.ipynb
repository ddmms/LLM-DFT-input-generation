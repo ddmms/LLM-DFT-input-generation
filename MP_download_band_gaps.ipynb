{
 "cells": [
  {
   "cell_type": "markdown",
   "id": "41367c90-97b6-47d3-bd95-e10e45fabd20",
   "metadata": {},
   "source": [
    "# Downloading structures from MP for the dataset"
   ]
  },
  {
   "cell_type": "code",
   "execution_count": 11,
   "id": "86880a69-a43b-4197-b74c-619e88929b52",
   "metadata": {},
   "outputs": [],
   "source": [
    "import numpy as np\n",
    "import pandas as pd\n",
    "import math\n",
    "import json\n",
    "import re\n",
    "import os\n",
    "from pymatgen.core.structure import Structure\n",
    "from pymatgen.symmetry.analyzer import SpacegroupAnalyzer\n",
    "from dotenv import load_dotenv\n",
    "from pymatgen.core.composition import Composition\n",
    "from mp_api.client import MPRester"
   ]
  },
  {
   "cell_type": "code",
   "execution_count": 12,
   "id": "8b37355d-9ab1-430e-ac81-fcf59cddbda1",
   "metadata": {},
   "outputs": [
    {
     "data": {
      "text/plain": [
       "True"
      ]
     },
     "execution_count": 12,
     "metadata": {},
     "output_type": "execute_result"
    }
   ],
   "source": [
    "load_dotenv()"
   ]
  },
  {
   "cell_type": "code",
   "execution_count": 13,
   "id": "e32c7177-2d85-42e0-9dc1-bbda105fdfd0",
   "metadata": {},
   "outputs": [],
   "source": [
    "mp_api_key = os.environ.get('MP_API_KEY')"
   ]
  },
  {
   "cell_type": "code",
   "execution_count": null,
   "id": "13ba8d73-2d62-43d3-bf72-8b9bb7a5f83b",
   "metadata": {},
   "outputs": [],
   "source": []
  },
  {
   "cell_type": "code",
   "execution_count": 20,
   "id": "03002849-7f01-47e7-af75-a8e0daad75ae",
   "metadata": {},
   "outputs": [],
   "source": [
    "with MPRester(mp_api_key) as mpr:\n",
    "    list_of_available_fields = mpr.materials.summary.available_fields"
   ]
  },
  {
   "cell_type": "code",
   "execution_count": 21,
   "id": "1d044d3a-9dfd-488c-b2eb-d466b518c6f7",
   "metadata": {},
   "outputs": [
    {
     "name": "stdout",
     "output_type": "stream",
     "text": [
      "['builder_meta', 'nsites', 'elements', 'nelements', 'composition', 'composition_reduced', 'formula_pretty', 'formula_anonymous', 'chemsys', 'volume', 'density', 'density_atomic', 'symmetry', 'property_name', 'material_id', 'deprecated', 'deprecation_reasons', 'last_updated', 'origins', 'warnings', 'structure', 'task_ids', 'uncorrected_energy_per_atom', 'energy_per_atom', 'formation_energy_per_atom', 'energy_above_hull', 'is_stable', 'equilibrium_reaction_energy_per_atom', 'decomposes_to', 'xas', 'grain_boundaries', 'band_gap', 'cbm', 'vbm', 'efermi', 'is_gap_direct', 'is_metal', 'es_source_calc_id', 'bandstructure', 'dos', 'dos_energy_up', 'dos_energy_down', 'is_magnetic', 'ordering', 'total_magnetization', 'total_magnetization_normalized_vol', 'total_magnetization_normalized_formula_units', 'num_magnetic_sites', 'num_unique_magnetic_sites', 'types_of_magnetic_species', 'bulk_modulus', 'shear_modulus', 'universal_anisotropy', 'homogeneous_poisson', 'e_total', 'e_ionic', 'e_electronic', 'n', 'e_ij_max', 'weighted_surface_energy_EV_PER_ANG2', 'weighted_surface_energy', 'weighted_work_function', 'surface_anisotropy', 'shape_factor', 'has_reconstructed', 'possible_species', 'has_props', 'theoretical', 'database_IDs']\n"
     ]
    }
   ],
   "source": [
    "print(list_of_available_fields)"
   ]
  },
  {
   "cell_type": "code",
   "execution_count": 44,
   "id": "c4576768-af6d-4767-a7d3-7cda2807e29a",
   "metadata": {},
   "outputs": [],
   "source": [
    "fields=[\"material_id\", 'builder_meta', 'formula_pretty', \"band_gap\", \"structure\", \\\n",
    "            'deprecated', 'deprecation_reasons', 'is_metal', 'is_magnetic', 'ordering', 'dos_energy_up', 'dos_energy_down', \\\n",
    "            'total_magnetization', 'total_magnetization_normalized_vol', 'total_magnetization_normalized_formula_units', \\\n",
    "            'num_magnetic_sites', 'num_unique_magnetic_sites', 'types_of_magnetic_species']"
   ]
  },
  {
   "cell_type": "code",
   "execution_count": 45,
   "id": "9d0c0e00-c0e8-4943-83a9-bcf11605c33e",
   "metadata": {},
   "outputs": [
    {
     "data": {
      "application/vnd.jupyter.widget-view+json": {
       "model_id": "34e2789e2361486ba783697cba8382e7",
       "version_major": 2,
       "version_minor": 0
      },
      "text/plain": [
       "Retrieving SummaryDoc documents:   0%|          | 0/153235 [00:00<?, ?it/s]"
      ]
     },
     "metadata": {},
     "output_type": "display_data"
    }
   ],
   "source": [
    "with MPRester(mp_api_key) as mpr:\n",
    "    docs = mpr.materials.summary.search(fields=[\"material_id\", 'builder_meta', 'formula_pretty', \"band_gap\", \"structure\", \\\n",
    "            'deprecated', 'deprecation_reasons', 'is_metal', 'is_magnetic', 'ordering', 'dos_energy_up', 'dos_energy_down', \\\n",
    "            'total_magnetization', 'total_magnetization_normalized_vol', 'total_magnetization_normalized_formula_units', \\\n",
    "            'num_magnetic_sites', 'num_unique_magnetic_sites', 'types_of_magnetic_species'])"
   ]
  },
  {
   "cell_type": "code",
   "execution_count": 46,
   "id": "3a67f5a8-0bcb-4a0a-b4ef-3e1bd59ee21e",
   "metadata": {},
   "outputs": [],
   "source": [
    "MP_data=pd.DataFrame()\n",
    "for field in fields:\n",
    "    MP_data[field]=[getattr(doc, field) for doc in docs]"
   ]
  },
  {
   "cell_type": "code",
   "execution_count": 48,
   "id": "238d2ca6-dde1-443e-8111-155accfe973f",
   "metadata": {},
   "outputs": [
    {
     "data": {
      "text/html": [
       "<div>\n",
       "<style scoped>\n",
       "    .dataframe tbody tr th:only-of-type {\n",
       "        vertical-align: middle;\n",
       "    }\n",
       "\n",
       "    .dataframe tbody tr th {\n",
       "        vertical-align: top;\n",
       "    }\n",
       "\n",
       "    .dataframe thead th {\n",
       "        text-align: right;\n",
       "    }\n",
       "</style>\n",
       "<table border=\"1\" class=\"dataframe\">\n",
       "  <thead>\n",
       "    <tr style=\"text-align: right;\">\n",
       "      <th></th>\n",
       "      <th>material_id</th>\n",
       "      <th>builder_meta</th>\n",
       "      <th>formula_pretty</th>\n",
       "      <th>band_gap</th>\n",
       "      <th>structure</th>\n",
       "      <th>deprecated</th>\n",
       "      <th>deprecation_reasons</th>\n",
       "      <th>is_metal</th>\n",
       "      <th>is_magnetic</th>\n",
       "      <th>ordering</th>\n",
       "      <th>dos_energy_up</th>\n",
       "      <th>dos_energy_down</th>\n",
       "      <th>total_magnetization</th>\n",
       "      <th>total_magnetization_normalized_vol</th>\n",
       "      <th>total_magnetization_normalized_formula_units</th>\n",
       "      <th>num_magnetic_sites</th>\n",
       "      <th>num_unique_magnetic_sites</th>\n",
       "      <th>types_of_magnetic_species</th>\n",
       "    </tr>\n",
       "  </thead>\n",
       "  <tbody>\n",
       "    <tr>\n",
       "      <th>0</th>\n",
       "      <td>mp-676011</td>\n",
       "      <td>emmet_version='0.72.13' pymatgen_version='2023...</td>\n",
       "      <td>Si</td>\n",
       "      <td>0.0000</td>\n",
       "      <td>[[ 1.37775311 -0.96182789  5.5184973 ] Si, [2....</td>\n",
       "      <td>False</td>\n",
       "      <td>None</td>\n",
       "      <td>True</td>\n",
       "      <td>False</td>\n",
       "      <td>NM</td>\n",
       "      <td>None</td>\n",
       "      <td>None</td>\n",
       "      <td>1.129000e-04</td>\n",
       "      <td>7.094764e-07</td>\n",
       "      <td>1.411250e-05</td>\n",
       "      <td>0.0</td>\n",
       "      <td>0.0</td>\n",
       "      <td>[]</td>\n",
       "    </tr>\n",
       "    <tr>\n",
       "      <th>1</th>\n",
       "      <td>mp-1244924</td>\n",
       "      <td>emmet_version='0.72.13' pymatgen_version='2023...</td>\n",
       "      <td>Ti</td>\n",
       "      <td>0.0000</td>\n",
       "      <td>[[12.71964818 11.00388642  8.91094716] Ti, [ 7...</td>\n",
       "      <td>False</td>\n",
       "      <td>None</td>\n",
       "      <td>True</td>\n",
       "      <td>False</td>\n",
       "      <td>NM</td>\n",
       "      <td>None</td>\n",
       "      <td>None</td>\n",
       "      <td>1.991099e+00</td>\n",
       "      <td>1.129569e-03</td>\n",
       "      <td>1.991099e-02</td>\n",
       "      <td>0.0</td>\n",
       "      <td>0.0</td>\n",
       "      <td>[]</td>\n",
       "    </tr>\n",
       "    <tr>\n",
       "      <th>2</th>\n",
       "      <td>mp-1244964</td>\n",
       "      <td>emmet_version='0.72.13' pymatgen_version='2023...</td>\n",
       "      <td>C</td>\n",
       "      <td>0.0724</td>\n",
       "      <td>[[9.01591243 1.17466694 2.33988272] C, [7.3957...</td>\n",
       "      <td>False</td>\n",
       "      <td>None</td>\n",
       "      <td>False</td>\n",
       "      <td>True</td>\n",
       "      <td>FM</td>\n",
       "      <td>None</td>\n",
       "      <td>None</td>\n",
       "      <td>2.000860e+00</td>\n",
       "      <td>1.775504e-03</td>\n",
       "      <td>2.000860e-02</td>\n",
       "      <td>1.0</td>\n",
       "      <td>100.0</td>\n",
       "      <td>[C]</td>\n",
       "    </tr>\n",
       "    <tr>\n",
       "      <th>3</th>\n",
       "      <td>mp-1245266</td>\n",
       "      <td>emmet_version='0.72.13' pymatgen_version='2023...</td>\n",
       "      <td>Zn</td>\n",
       "      <td>0.0000</td>\n",
       "      <td>[[10.01968478  8.96072573  6.89261072] Zn, [3....</td>\n",
       "      <td>False</td>\n",
       "      <td>None</td>\n",
       "      <td>True</td>\n",
       "      <td>False</td>\n",
       "      <td>NM</td>\n",
       "      <td>None</td>\n",
       "      <td>None</td>\n",
       "      <td>2.000000e-07</td>\n",
       "      <td>1.232017e-10</td>\n",
       "      <td>2.000000e-09</td>\n",
       "      <td>0.0</td>\n",
       "      <td>0.0</td>\n",
       "      <td>[]</td>\n",
       "    </tr>\n",
       "    <tr>\n",
       "      <th>4</th>\n",
       "      <td>mp-1244971</td>\n",
       "      <td>emmet_version='0.72.13' pymatgen_version='2023...</td>\n",
       "      <td>Si</td>\n",
       "      <td>0.0033</td>\n",
       "      <td>[[11.10843364  8.15738078  3.46639039] Si, [1....</td>\n",
       "      <td>False</td>\n",
       "      <td>None</td>\n",
       "      <td>False</td>\n",
       "      <td>False</td>\n",
       "      <td>NM</td>\n",
       "      <td>None</td>\n",
       "      <td>None</td>\n",
       "      <td>0.000000e+00</td>\n",
       "      <td>0.000000e+00</td>\n",
       "      <td>0.000000e+00</td>\n",
       "      <td>0.0</td>\n",
       "      <td>0.0</td>\n",
       "      <td>[]</td>\n",
       "    </tr>\n",
       "  </tbody>\n",
       "</table>\n",
       "</div>"
      ],
      "text/plain": [
       "  material_id                                       builder_meta  \\\n",
       "0   mp-676011  emmet_version='0.72.13' pymatgen_version='2023...   \n",
       "1  mp-1244924  emmet_version='0.72.13' pymatgen_version='2023...   \n",
       "2  mp-1244964  emmet_version='0.72.13' pymatgen_version='2023...   \n",
       "3  mp-1245266  emmet_version='0.72.13' pymatgen_version='2023...   \n",
       "4  mp-1244971  emmet_version='0.72.13' pymatgen_version='2023...   \n",
       "\n",
       "  formula_pretty  band_gap                                          structure  \\\n",
       "0             Si    0.0000  [[ 1.37775311 -0.96182789  5.5184973 ] Si, [2....   \n",
       "1             Ti    0.0000  [[12.71964818 11.00388642  8.91094716] Ti, [ 7...   \n",
       "2              C    0.0724  [[9.01591243 1.17466694 2.33988272] C, [7.3957...   \n",
       "3             Zn    0.0000  [[10.01968478  8.96072573  6.89261072] Zn, [3....   \n",
       "4             Si    0.0033  [[11.10843364  8.15738078  3.46639039] Si, [1....   \n",
       "\n",
       "   deprecated deprecation_reasons is_metal is_magnetic ordering dos_energy_up  \\\n",
       "0       False                None     True       False       NM          None   \n",
       "1       False                None     True       False       NM          None   \n",
       "2       False                None    False        True       FM          None   \n",
       "3       False                None     True       False       NM          None   \n",
       "4       False                None    False       False       NM          None   \n",
       "\n",
       "  dos_energy_down  total_magnetization  total_magnetization_normalized_vol  \\\n",
       "0            None         1.129000e-04                        7.094764e-07   \n",
       "1            None         1.991099e+00                        1.129569e-03   \n",
       "2            None         2.000860e+00                        1.775504e-03   \n",
       "3            None         2.000000e-07                        1.232017e-10   \n",
       "4            None         0.000000e+00                        0.000000e+00   \n",
       "\n",
       "   total_magnetization_normalized_formula_units  num_magnetic_sites  \\\n",
       "0                                  1.411250e-05                 0.0   \n",
       "1                                  1.991099e-02                 0.0   \n",
       "2                                  2.000860e-02                 1.0   \n",
       "3                                  2.000000e-09                 0.0   \n",
       "4                                  0.000000e+00                 0.0   \n",
       "\n",
       "   num_unique_magnetic_sites types_of_magnetic_species  \n",
       "0                        0.0                        []  \n",
       "1                        0.0                        []  \n",
       "2                      100.0                       [C]  \n",
       "3                        0.0                        []  \n",
       "4                        0.0                        []  "
      ]
     },
     "execution_count": 48,
     "metadata": {},
     "output_type": "execute_result"
    }
   ],
   "source": [
    "MP_data.head(5)"
   ]
  },
  {
   "cell_type": "code",
   "execution_count": null,
   "id": "a76e610f-25bf-4e44-a522-8bf755e24054",
   "metadata": {},
   "outputs": [],
   "source": []
  },
  {
   "cell_type": "code",
   "execution_count": null,
   "id": "e74c29bc-45c0-4599-9f18-d9afd48a2cbc",
   "metadata": {},
   "outputs": [],
   "source": []
  },
  {
   "cell_type": "code",
   "execution_count": null,
   "id": "8744a3ea-794b-484d-9f60-8800ef2e8cb5",
   "metadata": {},
   "outputs": [],
   "source": []
  },
  {
   "cell_type": "code",
   "execution_count": null,
   "id": "df72ffd5-be70-4af0-930e-1d5a9b6d1500",
   "metadata": {},
   "outputs": [],
   "source": []
  },
  {
   "cell_type": "code",
   "execution_count": null,
   "id": "17e11865-2c59-487b-8a01-2a17651006c7",
   "metadata": {},
   "outputs": [],
   "source": []
  },
  {
   "cell_type": "code",
   "execution_count": null,
   "id": "1d72f748-fda9-44b8-9432-bd5b1ac6bcb2",
   "metadata": {},
   "outputs": [],
   "source": []
  },
  {
   "cell_type": "code",
   "execution_count": null,
   "id": "9f24296c-76e2-4198-9be4-bc02e00ed60a",
   "metadata": {},
   "outputs": [],
   "source": []
  }
 ],
 "metadata": {
  "kernelspec": {
   "display_name": "Python 3 (ipykernel)",
   "language": "python",
   "name": "python3"
  },
  "language_info": {
   "codemirror_mode": {
    "name": "ipython",
    "version": 3
   },
   "file_extension": ".py",
   "mimetype": "text/x-python",
   "name": "python",
   "nbconvert_exporter": "python",
   "pygments_lexer": "ipython3",
   "version": "3.12.7"
  }
 },
 "nbformat": 4,
 "nbformat_minor": 5
}
